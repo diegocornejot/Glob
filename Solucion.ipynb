{
 "cells": [
  {
   "cell_type": "code",
   "execution_count": 0,
   "metadata": {
    "application/vnd.databricks.v1+cell": {
     "cellMetadata": {},
     "inputWidgets": {},
     "nuid": "638aabad-da3c-4d24-8947-3fb10332d2b3",
     "showTitle": false,
     "tableResultSettingsMap": {},
     "title": ""
    }
   },
   "outputs": [],
   "source": [
    "%sql\n",
    "create or replace table  codigo.default.hired_employees\n",
    "(\n",
    "  id int,\n",
    "  name String,\n",
    "  datetime String,\n",
    "  deparment_id int,\n",
    "  job_id int\n",
    ")\n",
    "USING DELTA;\n",
    "\n",
    "\n",
    "create or replace table  codigo.default.jobs\n",
    "(\n",
    " id int ,\n",
    " job string  \n",
    ")\n",
    "USING DELTA;\n",
    "\n",
    "\n",
    "create or replace table  codigo.default.departments\n",
    "(\n",
    " id int ,\n",
    " department string  \n",
    ")\n",
    "USING DELTA;"
   ]
  },
  {
   "cell_type": "code",
   "execution_count": 0,
   "metadata": {
    "application/vnd.databricks.v1+cell": {
     "cellMetadata": {},
     "inputWidgets": {},
     "nuid": "a7a6f35a-e264-47fb-81e1-868716fcd70d",
     "showTitle": false,
     "tableResultSettingsMap": {},
     "title": ""
    }
   },
   "outputs": [],
   "source": [
    "spark.conf.set(\"fs.azure.account.key.globcontenedor.dfs.core.windows.net\", \"secret\")\n"
   ]
  },
  {
   "cell_type": "code",
   "execution_count": 0,
   "metadata": {
    "application/vnd.databricks.v1+cell": {
     "cellMetadata": {
      "byteLimit": 2048000,
      "rowLimit": 10000
     },
     "inputWidgets": {},
     "nuid": "d0835e02-00ec-484d-8074-03e50c4666e8",
     "showTitle": false,
     "tableResultSettingsMap": {},
     "title": ""
    }
   },
   "outputs": [],
   "source": [
    "from pyspark.sql.types import StructType, StructField, StringType, IntegerType, DoubleType\n",
    "from pyspark.sql.functions import  col, date_format, to_timestamp, quarter, count, mean\n",
    "from flask import Flask\n",
    " \n",
    "def insertar_registros_final(tabla_final_df, nombre_tabla_final_df):\n",
    "    columnas = []\n",
    " \n",
    "    for columna in spark.table(nombre_tabla_final_df).schema:\n",
    "        columnas.append(col(columna.name).cast(columna.dataType).alias(columna.name))\n",
    " \n",
    "    historia_df = tabla_final_df.select(columnas)\n",
    " \n",
    "    historia_df.write.format(\"delta\").mode(\"overwrite\").option(\n",
    "        \"partitionOverwriteMode\", \"dynamic\"\n",
    "    ).insertInto(nombre_tabla_final_df)\n",
    "\n",
    "def dataframe_to_json(df):\n",
    "    return [row.asDict() for row in df.collect()]\n",
    "\n",
    "spark = SparkSession.builder.appName(\"API\").getOrCreate()\n",
    "\n",
    "app = Flask(__name__)\n",
    "\n",
    "\n",
    "def API():\n",
    "    schema_job = StructType([\n",
    "        StructField(\"id\", IntegerType(), True),\n",
    "        StructField(\"job\", StringType(), True)\n",
    "    ])\n",
    " \n",
    "    schema_hired_employees = StructType([\n",
    "        StructField(\"id\", IntegerType(), True),\n",
    "        StructField(\"name\", StringType(), True),\n",
    "        StructField(\"datetime\", StringType(), True),\n",
    "        StructField(\"deparment_id\", IntegerType(), True),\n",
    "        StructField(\"job_id\", IntegerType(), True)\n",
    "    ])\n",
    "   \n",
    "    schema_departments = StructType([\n",
    "        StructField(\"id\", IntegerType(), True),\n",
    "        StructField(\"department\", StringType(), True)\n",
    "    ])\n",
    "   \n",
    " \n",
    "    file_path_jobs=\"abfss://csv@globcontenedor.dfs.core.windows.net/jobs\"\n",
    "    file_path_hired_employees=\"abfss://csv@globcontenedor.dfs.core.windows.net/hired_employees\"\n",
    "    file_path_departments=\"abfss://csv@globcontenedor.dfs.core.windows.net/departments\"\n",
    "    df_jobs=spark.read.csv(file_path_jobs, header=False, sep=',',schema=schema_job)\n",
    "    df_hired_employees=spark.read.csv(file_path_hired_employees, header=False, sep=',',schema=schema_hired_employees)\n",
    "    df_hired_departments=spark.read.csv(file_path_departments, header=False, sep=',',schema=schema_departments)\n",
    " \n",
    "    tabla_jobs = 'codigo.default.jobs'\n",
    "    tabla_employees = 'codigo.default.hired_employees'\n",
    "    tabla_departments = 'codigo.default.departments'\n",
    " \n",
    "    insertar_registros_final(df_jobs,tabla_jobs)\n",
    "    insertar_registros_final(df_hired_employees,tabla_employees)\n",
    "    insertar_registros_final(df_hired_departments,tabla_departments)\n",
    "    \n",
    "@app.route('/api/metrics/employees_hired', methods=['GET'])\n",
    "def Con1():\n",
    "    tabla_jobs = 'codigo.default.jobs'\n",
    "    tabla_employees = 'codigo.default.hired_employees'\n",
    "    tabla_departments = 'codigo.default.departments'\n",
    " \n",
    "    df_job = spark.table(tabla_jobs)\n",
    "    df_employees = spark.table(tabla_employees)\n",
    "    df_departments = spark.table(tabla_departments)\n",
    " \n",
    "    df_result = (\n",
    "        df_employees.alias('A').join(\n",
    "            df_job.alias('B'), col('A.job_id') == col('B.id'),'left'\n",
    "        ).join(\n",
    "            df_departments.alias('C'), col('A.deparment_id') == col('C.id'), 'left'\n",
    "        ).filter(\n",
    "        date_format(to_timestamp(col('A.datetime'), \"yyyy-MM-dd'T'HH:mm:ss'Z'\"),'yyyy') == 2021\n",
    "        ).select(\n",
    "            col('C.department'),\n",
    "            col('B.job'),\n",
    "            quarter(to_timestamp(col('A.datetime'), \"yyyy-MM-dd'T'HH:mm:ss'Z'\")).alias('quarter')\n",
    "        ).groupBy(\n",
    "            col('department'),\n",
    "            col('job')\n",
    "        ).pivot(\n",
    "            'quarter'\n",
    "        ).agg(\n",
    "            count('*')\n",
    "        ).orderBy(\n",
    "            col('department'),\n",
    "            col('job')\n",
    "        )\n",
    "    )\n",
    "    # result = dataframe_to_json(df_result)\n",
    "    return df_result\n",
    "\n",
    "@app.route('/api/metrics/top_hired_departments_2021', methods=['GET'])\n",
    "def Con2():\n",
    "    tabla_jobs = 'codigo.default.jobs'\n",
    "    tabla_employees = 'codigo.default.hired_employees'\n",
    "    tabla_departments = 'codigo.default.departments'\n",
    " \n",
    "    df_job = spark.table(tabla_jobs)\n",
    "    df_employees = spark.table(tabla_employees)\n",
    "    df_departments = spark.table(tabla_departments)\n",
    " \n",
    "    promedio = df_employees.alias('A').join(\n",
    "                df_job.alias('B'), col('A.job_id') == col('B.id'),'left'\n",
    "            ).join(\n",
    "                df_departments.alias('C'), col('A.deparment_id') == col('C.id'), 'left'\n",
    "            ).filter(\n",
    "            date_format(to_timestamp(col('A.datetime'), \"yyyy-MM-dd'T'HH:mm:ss'Z'\"),'yyyy') == 2021\n",
    "            ).groupBy(\n",
    "                col('C.id'),\n",
    "                col('C.department')\n",
    "            ).agg(\n",
    "                count('*').alias('count')\n",
    "            ).select(mean(col('count'))).first()[0]\n",
    " \n",
    " \n",
    "    df_result  =  df_employees.alias('A').join(\n",
    "                df_job.alias('B'), col('A.job_id') == col('B.id'),'left'\n",
    "            ).join(\n",
    "                df_departments.alias('C'), col('A.deparment_id') == col('C.id'), 'left'\n",
    "            ).groupBy(\n",
    "                col('C.id'),\n",
    "                col('C.department')\n",
    "            ).agg(\n",
    "                count('*').alias('hired')\n",
    "            ).orderBy(\n",
    "                col('hired').desc()\n",
    "            ).filter(\n",
    "                col('hired') >promedio\n",
    "            )\n",
    "    return df_result"
   ]
  },
  {
   "cell_type": "code",
   "execution_count": 0,
   "metadata": {
    "application/vnd.databricks.v1+cell": {
     "cellMetadata": {
      "byteLimit": 2048000,
      "rowLimit": 10000
     },
     "inputWidgets": {},
     "nuid": "0af3025a-4ee0-4a9e-aa48-2b3cb4937bcb",
     "showTitle": false,
     "tableResultSettingsMap": {},
     "title": ""
    }
   },
   "outputs": [
    {
     "data": {
      "text/html": [
       "<style scoped>\n",
       "  .table-result-container {\n",
       "    max-height: 300px;\n",
       "    overflow: auto;\n",
       "  }\n",
       "  table, th, td {\n",
       "    border: 1px solid black;\n",
       "    border-collapse: collapse;\n",
       "  }\n",
       "  th, td {\n",
       "    padding: 5px;\n",
       "  }\n",
       "  th {\n",
       "    text-align: left;\n",
       "  }\n",
       "</style><div class='table-result-container'><table class='table-result'><thead style='background-color: white'><tr><th>department</th><th>job</th><th>1</th><th>2</th><th>3</th><th>4</th></tr></thead><tbody><tr><td>null</td><td>Administrative Assistant I</td><td>null</td><td>null</td><td>1</td><td>null</td></tr><tr><td>null</td><td>Analog Circuit Design manager</td><td>null</td><td>null</td><td>null</td><td>1</td></tr><tr><td>null</td><td>Assistant Media Planner</td><td>null</td><td>null</td><td>null</td><td>1</td></tr><tr><td>null</td><td>Database Administrator III</td><td>null</td><td>null</td><td>null</td><td>1</td></tr><tr><td>null</td><td>Dental Hygienist</td><td>null</td><td>1</td><td>null</td><td>null</td></tr><tr><td>null</td><td>Junior Executive</td><td>null</td><td>1</td><td>null</td><td>null</td></tr><tr><td>null</td><td>Nurse</td><td>null</td><td>null</td><td>1</td><td>null</td></tr><tr><td>null</td><td>Occupational Therapist</td><td>1</td><td>null</td><td>null</td><td>null</td></tr><tr><td>null</td><td>Project Manager</td><td>null</td><td>null</td><td>1</td><td>null</td></tr><tr><td>null</td><td>Research Assistant II</td><td>null</td><td>1</td><td>null</td><td>null</td></tr><tr><td>null</td><td>Senior Editor</td><td>null</td><td>1</td><td>null</td><td>1</td></tr><tr><td>null</td><td>Senior Financial Analyst</td><td>null</td><td>null</td><td>null</td><td>1</td></tr><tr><td>null</td><td>Software Engineer I</td><td>null</td><td>null</td><td>null</td><td>1</td></tr><tr><td>null</td><td>Web Developer I</td><td>null</td><td>null</td><td>null</td><td>1</td></tr><tr><td>Accounting</td><td>Account Representative IV</td><td>1</td><td>null</td><td>null</td><td>null</td></tr><tr><td>Accounting</td><td>Actuary</td><td>null</td><td>1</td><td>null</td><td>null</td></tr><tr><td>Accounting</td><td>Analyst Programmer</td><td>null</td><td>null</td><td>1</td><td>null</td></tr><tr><td>Accounting</td><td>Budget/Accounting Analyst III</td><td>null</td><td>1</td><td>null</td><td>null</td></tr><tr><td>Accounting</td><td>Cost Accountant</td><td>null</td><td>1</td><td>null</td><td>null</td></tr><tr><td>Accounting</td><td>Database Administrator III</td><td>null</td><td>null</td><td>null</td><td>1</td></tr><tr><td>Accounting</td><td>Desktop Support Technician</td><td>null</td><td>null</td><td>1</td><td>null</td></tr><tr><td>Accounting</td><td>Food Chemist</td><td>1</td><td>null</td><td>null</td><td>null</td></tr><tr><td>Accounting</td><td>Graphic Designer</td><td>null</td><td>1</td><td>null</td><td>null</td></tr><tr><td>Accounting</td><td>Health Coach III</td><td>null</td><td>null</td><td>null</td><td>1</td></tr><tr><td>Accounting</td><td>Health Coach IV</td><td>null</td><td>null</td><td>1</td><td>null</td></tr><tr><td>Accounting</td><td>Help Desk Technician</td><td>null</td><td>null</td><td>1</td><td>null</td></tr><tr><td>Accounting</td><td>Junior Executive</td><td>null</td><td>null</td><td>1</td><td>null</td></tr><tr><td>Accounting</td><td>Legal Assistant</td><td>null</td><td>null</td><td>1</td><td>1</td></tr><tr><td>Accounting</td><td>Media Manager III</td><td>null</td><td>1</td><td>null</td><td>null</td></tr><tr><td>Accounting</td><td>Programmer Analyst IV</td><td>null</td><td>1</td><td>1</td><td>1</td></tr><tr><td>Accounting</td><td>Programmer III</td><td>null</td><td>null</td><td>1</td><td>null</td></tr><tr><td>Accounting</td><td>Research Assistant IV</td><td>null</td><td>null</td><td>1</td><td>null</td></tr><tr><td>Accounting</td><td>Sales Representative</td><td>1</td><td>null</td><td>1</td><td>null</td></tr><tr><td>Accounting</td><td>Senior Cost Accountant</td><td>null</td><td>null</td><td>null</td><td>1</td></tr><tr><td>Accounting</td><td>Senior Developer</td><td>null</td><td>null</td><td>null</td><td>1</td></tr><tr><td>Accounting</td><td>Software Test Engineer IV</td><td>null</td><td>null</td><td>1</td><td>null</td></tr><tr><td>Accounting</td><td>Statistician I</td><td>null</td><td>null</td><td>null</td><td>1</td></tr><tr><td>Accounting</td><td>Statistician II</td><td>null</td><td>null</td><td>null</td><td>2</td></tr><tr><td>Accounting</td><td>Structural Analysis Engineer</td><td>null</td><td>1</td><td>2</td><td>null</td></tr><tr><td>Accounting</td><td>VP Accounting</td><td>null</td><td>null</td><td>1</td><td>null</td></tr><tr><td>Accounting</td><td>Web Designer I</td><td>null</td><td>null</td><td>null</td><td>1</td></tr><tr><td>Accounting</td><td>Web Designer III</td><td>null</td><td>null</td><td>null</td><td>1</td></tr><tr><td>Accounting</td><td>Web Developer I</td><td>null</td><td>1</td><td>null</td><td>null</td></tr><tr><td>Accounting</td><td>Web Developer III</td><td>null</td><td>null</td><td>null</td><td>2</td></tr><tr><td>Business Development</td><td>Account Executive</td><td>null</td><td>2</td><td>null</td><td>1</td></tr><tr><td>Business Development</td><td>Account Representative III</td><td>null</td><td>1</td><td>null</td><td>null</td></tr><tr><td>Business Development</td><td>Account Representative IV</td><td>null</td><td>1</td><td>null</td><td>1</td></tr><tr><td>Business Development</td><td>Accountant I</td><td>null</td><td>null</td><td>1</td><td>null</td></tr><tr><td>Business Development</td><td>Accountant IV</td><td>null</td><td>2</td><td>1</td><td>null</td></tr><tr><td>Business Development</td><td>Accounting Assistant I</td><td>null</td><td>null</td><td>1</td><td>null</td></tr><tr><td>Business Development</td><td>Actuary</td><td>1</td><td>null</td><td>1</td><td>1</td></tr><tr><td>Business Development</td><td>Administrative Assistant I</td><td>1</td><td>null</td><td>null</td><td>null</td></tr><tr><td>Business Development</td><td>Administrative Assistant III</td><td>1</td><td>null</td><td>null</td><td>null</td></tr><tr><td>Business Development</td><td>Administrative Officer</td><td>null</td><td>1</td><td>null</td><td>null</td></tr><tr><td>Business Development</td><td>Analog Circuit Design manager</td><td>1</td><td>2</td><td>1</td><td>null</td></tr><tr><td>Business Development</td><td>Analyst Programmer</td><td>null</td><td>1</td><td>null</td><td>null</td></tr><tr><td>Business Development</td><td>Assistant Manager</td><td>null</td><td>null</td><td>null</td><td>1</td></tr><tr><td>Business Development</td><td>Associate Professor</td><td>null</td><td>null</td><td>1</td><td>null</td></tr><tr><td>Business Development</td><td>Automation Specialist I</td><td>null</td><td>null</td><td>null</td><td>2</td></tr><tr><td>Business Development</td><td>Automation Specialist IV</td><td>null</td><td>1</td><td>null</td><td>null</td></tr><tr><td>Business Development</td><td>Biostatistician II</td><td>null</td><td>null</td><td>null</td><td>1</td></tr><tr><td>Business Development</td><td>Biostatistician III</td><td>null</td><td>null</td><td>null</td><td>2</td></tr><tr><td>Business Development</td><td>Budget/Accounting Analyst I</td><td>1</td><td>null</td><td>null</td><td>null</td></tr><tr><td>Business Development</td><td>Budget/Accounting Analyst III</td><td>null</td><td>1</td><td>null</td><td>null</td></tr><tr><td>Business Development</td><td>Budget/Accounting Analyst IV</td><td>null</td><td>1</td><td>1</td><td>2</td></tr><tr><td>Business Development</td><td>Civil Engineer</td><td>null</td><td>2</td><td>null</td><td>1</td></tr><tr><td>Business Development</td><td>Clinical Specialist</td><td>1</td><td>1</td><td>null</td><td>2</td></tr><tr><td>Business Development</td><td>Community Outreach Specialist</td><td>null</td><td>null</td><td>null</td><td>1</td></tr><tr><td>Business Development</td><td>Computer Systems Analyst III</td><td>null</td><td>null</td><td>null</td><td>1</td></tr><tr><td>Business Development</td><td>Computer Systems Analyst IV</td><td>null</td><td>1</td><td>null</td><td>null</td></tr><tr><td>Business Development</td><td>Database Administrator II</td><td>null</td><td>1</td><td>null</td><td>null</td></tr><tr><td>Business Development</td><td>Database Administrator III</td><td>1</td><td>null</td><td>null</td><td>1</td></tr><tr><td>Business Development</td><td>Database Administrator IV</td><td>null</td><td>null</td><td>null</td><td>1</td></tr><tr><td>Business Development</td><td>Dental Hygienist</td><td>null</td><td>null</td><td>3</td><td>null</td></tr><tr><td>Business Development</td><td>Developer II</td><td>null</td><td>1</td><td>1</td><td>null</td></tr><tr><td>Business Development</td><td>Director of Sales</td><td>null</td><td>null</td><td>1</td><td>null</td></tr><tr><td>Business Development</td><td>Environmental Tech</td><td>null</td><td>1</td><td>null</td><td>null</td></tr><tr><td>Business Development</td><td>Executive Secretary</td><td>null</td><td>2</td><td>1</td><td>null</td></tr><tr><td>Business Development</td><td>Food Chemist</td><td>null</td><td>null</td><td>null</td><td>2</td></tr><tr><td>Business Development</td><td>GIS Technical Architect</td><td>null</td><td>1</td><td>null</td><td>null</td></tr><tr><td>Business Development</td><td>General Manager</td><td>1</td><td>1</td><td>2</td><td>null</td></tr><tr><td>Business Development</td><td>Geological Engineer</td><td>null</td><td>null</td><td>1</td><td>1</td></tr><tr><td>Business Development</td><td>Geologist II</td><td>null</td><td>1</td><td>1</td><td>1</td></tr><tr><td>Business Development</td><td>Geologist IV</td><td>1</td><td>null</td><td>null</td><td>1</td></tr><tr><td>Business Development</td><td>Graphic Designer</td><td>null</td><td>null</td><td>1</td><td>1</td></tr><tr><td>Business Development</td><td>Health Coach IV</td><td>1</td><td>1</td><td>null</td><td>2</td></tr><tr><td>Business Development</td><td>Human Resources Assistant III</td><td>null</td><td>1</td><td>null</td><td>null</td></tr><tr><td>Business Development</td><td>Human Resources Assistant IV</td><td>1</td><td>null</td><td>1</td><td>1</td></tr><tr><td>Business Development</td><td>Information Systems Manager</td><td>null</td><td>1</td><td>null</td><td>null</td></tr><tr><td>Business Development</td><td>Internal Auditor</td><td>null</td><td>2</td><td>null</td><td>null</td></tr><tr><td>Business Development</td><td>Junior Executive</td><td>1</td><td>null</td><td>2</td><td>2</td></tr><tr><td>Business Development</td><td>Legal Assistant</td><td>null</td><td>null</td><td>1</td><td>1</td></tr><tr><td>Business Development</td><td>Marketing Manager</td><td>null</td><td>1</td><td>null</td><td>null</td></tr><tr><td>Business Development</td><td>Mechanical Systems Engineer</td><td>null</td><td>null</td><td>1</td><td>1</td></tr><tr><td>Business Development</td><td>Media Manager III</td><td>null</td><td>null</td><td>null</td><td>1</td></tr><tr><td>Business Development</td><td>Occupational Therapist</td><td>null</td><td>3</td><td>null</td><td>null</td></tr><tr><td>Business Development</td><td>Office Assistant IV</td><td>null</td><td>null</td><td>1</td><td>null</td></tr><tr><td>Business Development</td><td>Pharmacist</td><td>1</td><td>null</td><td>1</td><td>null</td></tr><tr><td>Business Development</td><td>Product Engineer</td><td>null</td><td>1</td><td>1</td><td>1</td></tr><tr><td>Business Development</td><td>Programmer Analyst II</td><td>null</td><td>null</td><td>1</td><td>null</td></tr><tr><td>Business Development</td><td>Programmer I</td><td>null</td><td>null</td><td>1</td><td>null</td></tr><tr><td>Business Development</td><td>Programmer III</td><td>1</td><td>1</td><td>1</td><td>1</td></tr><tr><td>Business Development</td><td>Programmer IV</td><td>null</td><td>1</td><td>1</td><td>1</td></tr><tr><td>Business Development</td><td>Quality Control Specialist</td><td>1</td><td>null</td><td>1</td><td>2</td></tr><tr><td>Business Development</td><td>Quality Engineer</td><td>null</td><td>1</td><td>null</td><td>1</td></tr><tr><td>Business Development</td><td>Recruiter</td><td>null</td><td>2</td><td>null</td><td>null</td></tr><tr><td>Business Development</td><td>Recruiting Manager</td><td>null</td><td>null</td><td>1</td><td>null</td></tr><tr><td>Business Development</td><td>Registered Nurse</td><td>1</td><td>null</td><td>null</td><td>null</td></tr><tr><td>Business Development</td><td>Research Assistant II</td><td>null</td><td>null</td><td>null</td><td>1</td></tr><tr><td>Business Development</td><td>Research Assistant III</td><td>null</td><td>1</td><td>null</td><td>null</td></tr><tr><td>Business Development</td><td>Research Assistant IV</td><td>null</td><td>1</td><td>null</td><td>null</td></tr><tr><td>Business Development</td><td>Research Nurse</td><td>null</td><td>null</td><td>null</td><td>2</td></tr><tr><td>Business Development</td><td>Safety Technician IV</td><td>null</td><td>null</td><td>1</td><td>null</td></tr><tr><td>Business Development</td><td>Sales Representative</td><td>null</td><td>1</td><td>null</td><td>1</td></tr><tr><td>Business Development</td><td>Senior Cost Accountant</td><td>1</td><td>null</td><td>2</td><td>1</td></tr><tr><td>Business Development</td><td>Senior Developer</td><td>null</td><td>null</td><td>1</td><td>null</td></tr><tr><td>Business Development</td><td>Senior Editor</td><td>1</td><td>1</td><td>1</td><td>null</td></tr><tr><td>Business Development</td><td>Senior Financial Analyst</td><td>null</td><td>null</td><td>null</td><td>1</td></tr><tr><td>Business Development</td><td>Senior Quality Engineer</td><td>null</td><td>null</td><td>null</td><td>1</td></tr><tr><td>Business Development</td><td>Senior Sales Associate</td><td>1</td><td>null</td><td>null</td><td>null</td></tr><tr><td>Business Development</td><td>Software Test Engineer IV</td><td>2</td><td>null</td><td>2</td><td>null</td></tr><tr><td>Business Development</td><td>Staff Accountant I</td><td>null</td><td>1</td><td>null</td><td>null</td></tr><tr><td>Business Development</td><td>Staff Accountant III</td><td>null</td><td>1</td><td>null</td><td>null</td></tr><tr><td>Business Development</td><td>Staff Accountant IV</td><td>null</td><td>null</td><td>null</td><td>1</td></tr><tr><td>Business Development</td><td>Staff Scientist</td><td>1</td><td>1</td><td>null</td><td>null</td></tr><tr><td>Business Development</td><td>Statistician II</td><td>null</td><td>1</td><td>null</td><td>null</td></tr><tr><td>Business Development</td><td>Statistician III</td><td>null</td><td>1</td><td>1</td><td>null</td></tr><tr><td>Business Development</td><td>Structural Analysis Engineer</td><td>null</td><td>2</td><td>2</td><td>1</td></tr><tr><td>Business Development</td><td>Structural Engineer</td><td>null</td><td>1</td><td>null</td><td>null</td></tr><tr><td>Business Development</td><td>Systems Administrator IV</td><td>1</td><td>1</td><td>1</td><td>1</td></tr><tr><td>Business Development</td><td>Teacher</td><td>1</td><td>1</td><td>1</td><td>null</td></tr><tr><td>Business Development</td><td>Technical Writer</td><td>1</td><td>1</td><td>null</td><td>null</td></tr><tr><td>Business Development</td><td>VP Accounting</td><td>null</td><td>null</td><td>null</td><td>1</td></tr><tr><td>Business Development</td><td>VP Marketing</td><td>null</td><td>null</td><td>1</td><td>null</td></tr><tr><td>Business Development</td><td>VP Product Management</td><td>1</td><td>null</td><td>null</td><td>null</td></tr><tr><td>Business Development</td><td>Web Designer I</td><td>null</td><td>2</td><td>null</td><td>1</td></tr><tr><td>Business Development</td><td>Web Designer II</td><td>null</td><td>null</td><td>1</td><td>null</td></tr><tr><td>Business Development</td><td>Web Designer III</td><td>null</td><td>null</td><td>1</td><td>null</td></tr><tr><td>Business Development</td><td>Web Designer IV</td><td>null</td><td>null</td><td>1</td><td>1</td></tr><tr><td>Business Development</td><td>Web Developer I</td><td>1</td><td>1</td><td>1</td><td>1</td></tr><tr><td>Business Development</td><td>Web Developer II</td><td>null</td><td>null</td><td>null</td><td>1</td></tr><tr><td>Engineering</td><td>null</td><td>null</td><td>1</td><td>null</td><td>null</td></tr><tr><td>Engineering</td><td>Account Coordinator</td><td>null</td><td>1</td><td>1</td><td>null</td></tr><tr><td>Engineering</td><td>Account Executive</td><td>null</td><td>null</td><td>null</td><td>1</td></tr><tr><td>Engineering</td><td>Account Representative IV</td><td>null</td><td>null</td><td>null</td><td>1</td></tr><tr><td>Engineering</td><td>Accountant I</td><td>1</td><td>null</td><td>1</td><td>null</td></tr><tr><td>Engineering</td><td>Accounting Assistant IV</td><td>null</td><td>null</td><td>1</td><td>1</td></tr><tr><td>Engineering</td><td>Actuary</td><td>1</td><td>null</td><td>null</td><td>1</td></tr><tr><td>Engineering</td><td>Administrative Assistant I</td><td>null</td><td>null</td><td>null</td><td>1</td></tr><tr><td>Engineering</td><td>Analog Circuit Design manager</td><td>null</td><td>null</td><td>null</td><td>1</td></tr><tr><td>Engineering</td><td>Analyst Programmer</td><td>null</td><td>null</td><td>null</td><td>1</td></tr><tr><td>Engineering</td><td>Assistant Manager</td><td>1</td><td>1</td><td>1</td><td>null</td></tr><tr><td>Engineering</td><td>Assistant Media Planner</td><td>null</td><td>1</td><td>null</td><td>null</td></tr><tr><td>Engineering</td><td>Assistant Professor</td><td>null</td><td>null</td><td>null</td><td>1</td></tr><tr><td>Engineering</td><td>Associate Professor</td><td>null</td><td>1</td><td>2</td><td>null</td></tr><tr><td>Engineering</td><td>Automation Specialist I</td><td>null</td><td>null</td><td>1</td><td>null</td></tr><tr><td>Engineering</td><td>Biostatistician III</td><td>null</td><td>1</td><td>1</td><td>null</td></tr><tr><td>Engineering</td><td>Budget/Accounting Analyst I</td><td>null</td><td>1</td><td>null</td><td>2</td></tr><tr><td>Engineering</td><td>Budget/Accounting Analyst II</td><td>null</td><td>1</td><td>1</td><td>null</td></tr><tr><td>Engineering</td><td>Budget/Accounting Analyst III</td><td>null</td><td>1</td><td>null</td><td>null</td></tr><tr><td>Engineering</td><td>Budget/Accounting Analyst IV</td><td>null</td><td>null</td><td>null</td><td>1</td></tr><tr><td>Engineering</td><td>Chemical Engineer</td><td>null</td><td>null</td><td>null</td><td>1</td></tr><tr><td>Engineering</td><td>Civil Engineer</td><td>1</td><td>null</td><td>1</td><td>2</td></tr><tr><td>Engineering</td><td>Clinical Specialist</td><td>null</td><td>1</td><td>1</td><td>2</td></tr><tr><td>Engineering</td><td>Community Outreach Specialist</td><td>null</td><td>1</td><td>null</td><td>null</td></tr><tr><td>Engineering</td><td>Computer Systems Analyst III</td><td>null</td><td>null</td><td>1</td><td>1</td></tr><tr><td>Engineering</td><td>Computer Systems Analyst IV</td><td>null</td><td>1</td><td>null</td><td>null</td></tr><tr><td>Engineering</td><td>Cost Accountant</td><td>null</td><td>null</td><td>1</td><td>null</td></tr><tr><td>Engineering</td><td>Database Administrator I</td><td>null</td><td>null</td><td>1</td><td>null</td></tr><tr><td>Engineering</td><td>Database Administrator II</td><td>null</td><td>null</td><td>1</td><td>1</td></tr><tr><td>Engineering</td><td>Database Administrator III</td><td>null</td><td>null</td><td>null</td><td>1</td></tr><tr><td>Engineering</td><td>Dental Hygienist</td><td>null</td><td>null</td><td>2</td><td>1</td></tr><tr><td>Engineering</td><td>Engineer III</td><td>1</td><td>null</td><td>null</td><td>1</td></tr><tr><td>Engineering</td><td>Engineer IV</td><td>null</td><td>1</td><td>1</td><td>null</td></tr><tr><td>Engineering</td><td>Environmental Tech</td><td>null</td><td>null</td><td>1</td><td>null</td></tr><tr><td>Engineering</td><td>Executive Secretary</td><td>1</td><td>null</td><td>null</td><td>null</td></tr><tr><td>Engineering</td><td>Financial Analyst</td><td>null</td><td>1</td><td>1</td><td>null</td></tr><tr><td>Engineering</td><td>Food Chemist</td><td>null</td><td>2</td><td>2</td><td>1</td></tr><tr><td>Engineering</td><td>GIS Technical Architect</td><td>null</td><td>1</td><td>null</td><td>1</td></tr><tr><td>Engineering</td><td>General Manager</td><td>null</td><td>null</td><td>null</td><td>2</td></tr><tr><td>Engineering</td><td>Geological Engineer</td><td>1</td><td>1</td><td>1</td><td>null</td></tr><tr><td>Engineering</td><td>Geologist I</td><td>null</td><td>null</td><td>1</td><td>null</td></tr><tr><td>Engineering</td><td>Geologist II</td><td>null</td><td>3</td><td>1</td><td>null</td></tr><tr><td>Engineering</td><td>Graphic Designer</td><td>2</td><td>null</td><td>null</td><td>null</td></tr><tr><td>Engineering</td><td>Health Coach I</td><td>null</td><td>null</td><td>null</td><td>1</td></tr><tr><td>Engineering</td><td>Health Coach III</td><td>null</td><td>null</td><td>null</td><td>1</td></tr><tr><td>Engineering</td><td>Health Coach IV</td><td>null</td><td>1</td><td>null</td><td>3</td></tr><tr><td>Engineering</td><td>Help Desk Operator</td><td>null</td><td>1</td><td>null</td><td>null</td></tr><tr><td>Engineering</td><td>Help Desk Technician</td><td>null</td><td>null</td><td>1</td><td>null</td></tr><tr><td>Engineering</td><td>Human Resources Assistant III</td><td>1</td><td>null</td><td>null</td><td>1</td></tr><tr><td>Engineering</td><td>Human Resources Assistant IV</td><td>null</td><td>null</td><td>null</td><td>1</td></tr><tr><td>Engineering</td><td>Internal Auditor</td><td>null</td><td>null</td><td>null</td><td>1</td></tr><tr><td>Engineering</td><td>Junior Executive</td><td>null</td><td>null</td><td>1</td><td>1</td></tr><tr><td>Engineering</td><td>Legal Assistant</td><td>null</td><td>1</td><td>null</td><td>null</td></tr><tr><td>Engineering</td><td>Marketing Manager</td><td>null</td><td>null</td><td>1</td><td>null</td></tr><tr><td>Engineering</td><td>Mechanical Systems Engineer</td><td>null</td><td>null</td><td>1</td><td>null</td></tr><tr><td>Engineering</td><td>Media Manager IV</td><td>null</td><td>null</td><td>1</td><td>null</td></tr><tr><td>Engineering</td><td>Nuclear Power Engineer</td><td>null</td><td>null</td><td>null</td><td>1</td></tr><tr><td>Engineering</td><td>Nurse</td><td>1</td><td>1</td><td>null</td><td>null</td></tr><tr><td>Engineering</td><td>Occupational Therapist</td><td>null</td><td>null</td><td>null</td><td>1</td></tr><tr><td>Engineering</td><td>Office Assistant II</td><td>2</td><td>null</td><td>null</td><td>null</td></tr><tr><td>Engineering</td><td>Payment Adjustment Coordinator</td><td>1</td><td>null</td><td>null</td><td>null</td></tr><tr><td>Engineering</td><td>Pharmacist</td><td>null</td><td>null</td><td>null</td><td>1</td></tr><tr><td>Engineering</td><td>Physical Therapy Assistant</td><td>1</td><td>null</td><td>null</td><td>1</td></tr><tr><td>Engineering</td><td>Product Engineer</td><td>1</td><td>null</td><td>1</td><td>null</td></tr><tr><td>Engineering</td><td>Professor</td><td>null</td><td>null</td><td>1</td><td>null</td></tr><tr><td>Engineering</td><td>Programmer I</td><td>null</td><td>1</td><td>1</td><td>null</td></tr><tr><td>Engineering</td><td>Programmer III</td><td>1</td><td>1</td><td>null</td><td>1</td></tr><tr><td>Engineering</td><td>Programmer IV</td><td>1</td><td>1</td><td>1</td><td>2</td></tr><tr><td>Engineering</td><td>Project Manager</td><td>null</td><td>2</td><td>1</td><td>null</td></tr><tr><td>Engineering</td><td>Quality Control Specialist</td><td>null</td><td>null</td><td>1</td><td>1</td></tr><tr><td>Engineering</td><td>Quality Engineer</td><td>null</td><td>1</td><td>5</td><td>null</td></tr><tr><td>Engineering</td><td>Recruiter</td><td>null</td><td>null</td><td>3</td><td>1</td></tr><tr><td>Engineering</td><td>Recruiting Manager</td><td>null</td><td>null</td><td>1</td><td>null</td></tr><tr><td>Engineering</td><td>Research Assistant II</td><td>null</td><td>1</td><td>null</td><td>null</td></tr><tr><td>Engineering</td><td>Research Nurse</td><td>null</td><td>null</td><td>1</td><td>1</td></tr><tr><td>Engineering</td><td>Safety Technician IV</td><td>1</td><td>null</td><td>null</td><td>1</td></tr><tr><td>Engineering</td><td>Sales Associate</td><td>null</td><td>null</td><td>1</td><td>1</td></tr><tr><td>Engineering</td><td>Sales Representative</td><td>null</td><td>null</td><td>2</td><td>2</td></tr><tr><td>Engineering</td><td>Senior Cost Accountant</td><td>null</td><td>1</td><td>null</td><td>1</td></tr><tr><td>Engineering</td><td>Senior Developer</td><td>1</td><td>null</td><td>1</td><td>1</td></tr><tr><td>Engineering</td><td>Senior Editor</td><td>null</td><td>1</td><td>null</td><td>1</td></tr><tr><td>Engineering</td><td>Senior Quality Engineer</td><td>null</td><td>null</td><td>null</td><td>2</td></tr><tr><td>Engineering</td><td>Social Worker</td><td>null</td><td>null</td><td>1</td><td>null</td></tr><tr><td>Engineering</td><td>Software Engineer I</td><td>1</td><td>null</td><td>1</td><td>1</td></tr><tr><td>Engineering</td><td>Software Engineer III</td><td>null</td><td>null</td><td>null</td><td>2</td></tr><tr><td>Engineering</td><td>Software Test Engineer I</td><td>1</td><td>null</td><td>null</td><td>1</td></tr><tr><td>Engineering</td><td>Software Test Engineer IV</td><td>null</td><td>1</td><td>null</td><td>1</td></tr><tr><td>Engineering</td><td>Staff Accountant IV</td><td>2</td><td>null</td><td>1</td><td>2</td></tr><tr><td>Engineering</td><td>Statistician II</td><td>null</td><td>1</td><td>1</td><td>1</td></tr><tr><td>Engineering</td><td>Statistician III</td><td>1</td><td>1</td><td>null</td><td>null</td></tr><tr><td>Engineering</td><td>Structural Analysis Engineer</td><td>null</td><td>null</td><td>1</td><td>null</td></tr><tr><td>Engineering</td><td>Structural Engineer</td><td>null</td><td>2</td><td>null</td><td>null</td></tr><tr><td>Engineering</td><td>Systems Administrator II</td><td>null</td><td>2</td><td>null</td><td>2</td></tr><tr><td>Engineering</td><td>Tax Accountant</td><td>null</td><td>1</td><td>null</td><td>1</td></tr><tr><td>Engineering</td><td>Teacher</td><td>1</td><td>null</td><td>3</td><td>1</td></tr><tr><td>Engineering</td><td>Technical Writer</td><td>null</td><td>1</td><td>1</td><td>null</td></tr><tr><td>Engineering</td><td>VP Accounting</td><td>1</td><td>null</td><td>null</td><td>null</td></tr><tr><td>Engineering</td><td>VP Product Management</td><td>null</td><td>null</td><td>1</td><td>1</td></tr><tr><td>Engineering</td><td>Web Designer I</td><td>null</td><td>1</td><td>null</td><td>5</td></tr><tr><td>Engineering</td><td>Web Designer II</td><td>null</td><td>1</td><td>null</td><td>null</td></tr><tr><td>Engineering</td><td>Web Designer III</td><td>null</td><td>null</td><td>null</td><td>1</td></tr><tr><td>Engineering</td><td>Web Designer IV</td><td>null</td><td>null</td><td>1</td><td>null</td></tr><tr><td>Engineering</td><td>Web Developer I</td><td>null</td><td>1</td><td>null</td><td>1</td></tr><tr><td>Engineering</td><td>Web Developer II</td><td>null</td><td>1</td><td>null</td><td>null</td></tr><tr><td>Human Resources</td><td>Account Coordinator</td><td>1</td><td>2</td><td>null</td><td>null</td></tr><tr><td>Human Resources</td><td>Account Executive</td><td>1</td><td>null</td><td>null</td><td>1</td></tr><tr><td>Human Resources</td><td>Account Representative IV</td><td>null</td><td>1</td><td>null</td><td>1</td></tr><tr><td>Human Resources</td><td>Accountant I</td><td>null</td><td>null</td><td>1</td><td>1</td></tr><tr><td>Human Resources</td><td>Accounting Assistant II</td><td>null</td><td>null</td><td>null</td><td>1</td></tr><tr><td>Human Resources</td><td>Accounting Assistant IV</td><td>null</td><td>1</td><td>null</td><td>1</td></tr><tr><td>Human Resources</td><td>Actuary</td><td>null</td><td>1</td><td>1</td><td>1</td></tr><tr><td>Human Resources</td><td>Analog Circuit Design manager</td><td>null</td><td>null</td><td>null</td><td>1</td></tr><tr><td>Human Resources</td><td>Analyst Programmer</td><td>null</td><td>1</td><td>null</td><td>1</td></tr><tr><td>Human Resources</td><td>Assistant Manager</td><td>1</td><td>2</td><td>null</td><td>null</td></tr><tr><td>Human Resources</td><td>Assistant Media Planner</td><td>null</td><td>null</td><td>null</td><td>2</td></tr><tr><td>Human Resources</td><td>Assistant Professor</td><td>null</td><td>2</td><td>null</td><td>null</td></tr><tr><td>Human Resources</td><td>Associate Professor</td><td>2</td><td>null</td><td>null</td><td>2</td></tr><tr><td>Human Resources</td><td>Automation Specialist I</td><td>1</td><td>null</td><td>null</td><td>null</td></tr><tr><td>Human Resources</td><td>Automation Specialist IV</td><td>1</td><td>null</td><td>null</td><td>null</td></tr><tr><td>Human Resources</td><td>Biostatistician III</td><td>null</td><td>null</td><td>1</td><td>null</td></tr><tr><td>Human Resources</td><td>Budget/Accounting Analyst I</td><td>1</td><td>null</td><td>null</td><td>1</td></tr><tr><td>Human Resources</td><td>Budget/Accounting Analyst III</td><td>null</td><td>null</td><td>null</td><td>3</td></tr><tr><td>Human Resources</td><td>Budget/Accounting Analyst IV</td><td>null</td><td>null</td><td>1</td><td>null</td></tr><tr><td>Human Resources</td><td>Chemical Engineer</td><td>1</td><td>null</td><td>null</td><td>null</td></tr><tr><td>Human Resources</td><td>Civil Engineer</td><td>null</td><td>1</td><td>null</td><td>null</td></tr><tr><td>Human Resources</td><td>Clinical Specialist</td><td>null</td><td>null</td><td>null</td><td>3</td></tr><tr><td>Human Resources</td><td>Community Outreach Specialist</td><td>1</td><td>null</td><td>null</td><td>null</td></tr><tr><td>Human Resources</td><td>Cost Accountant</td><td>null</td><td>1</td><td>1</td><td>1</td></tr><tr><td>Human Resources</td><td>Data Coordiator</td><td>null</td><td>null</td><td>null</td><td>1</td></tr><tr><td>Human Resources</td><td>Database Administrator I</td><td>null</td><td>null</td><td>null</td><td>2</td></tr><tr><td>Human Resources</td><td>Database Administrator III</td><td>null</td><td>null</td><td>1</td><td>null</td></tr><tr><td>Human Resources</td><td>Database Administrator IV</td><td>1</td><td>null</td><td>null</td><td>null</td></tr><tr><td>Human Resources</td><td>Design Engineer</td><td>1</td><td>null</td><td>null</td><td>null</td></tr><tr><td>Human Resources</td><td>Developer III</td><td>null</td><td>null</td><td>null</td><td>2</td></tr><tr><td>Human Resources</td><td>Developer IV</td><td>null</td><td>null</td><td>null</td><td>1</td></tr><tr><td>Human Resources</td><td>Director of Sales</td><td>1</td><td>null</td><td>2</td><td>null</td></tr><tr><td>Human Resources</td><td>Editor</td><td>null</td><td>1</td><td>1</td><td>null</td></tr><tr><td>Human Resources</td><td>Electrical Engineer</td><td>null</td><td>1</td><td>null</td><td>null</td></tr><tr><td>Human Resources</td><td>Engineer III</td><td>2</td><td>null</td><td>1</td><td>null</td></tr><tr><td>Human Resources</td><td>Engineer IV</td><td>null</td><td>1</td><td>null</td><td>null</td></tr><tr><td>Human Resources</td><td>Environmental Tech</td><td>null</td><td>1</td><td>null</td><td>null</td></tr><tr><td>Human Resources</td><td>Executive Secretary</td><td>null</td><td>1</td><td>1</td><td>1</td></tr><tr><td>Human Resources</td><td>Financial Advisor</td><td>null</td><td>null</td><td>null</td><td>1</td></tr><tr><td>Human Resources</td><td>Food Chemist</td><td>null</td><td>null</td><td>null</td><td>1</td></tr><tr><td>Human Resources</td><td>GIS Technical Architect</td><td>1</td><td>null</td><td>null</td><td>null</td></tr><tr><td>Human Resources</td><td>Geological Engineer</td><td>null</td><td>2</td><td>null</td><td>null</td></tr><tr><td>Human Resources</td><td>Geologist II</td><td>null</td><td>1</td><td>1</td><td>1</td></tr><tr><td>Human Resources</td><td>Geologist IV</td><td>null</td><td>null</td><td>null</td><td>1</td></tr><tr><td>Human Resources</td><td>Graphic Designer</td><td>null</td><td>2</td><td>null</td><td>null</td></tr><tr><td>Human Resources</td><td>Health Coach I</td><td>null</td><td>1</td><td>null</td><td>1</td></tr><tr><td>Human Resources</td><td>Health Coach III</td><td>null</td><td>null</td><td>null</td><td>1</td></tr><tr><td>Human Resources</td><td>Health Coach IV</td><td>null</td><td>null</td><td>2</td><td>null</td></tr><tr><td>Human Resources</td><td>Human Resources Assistant II</td><td>null</td><td>null</td><td>null</td><td>1</td></tr><tr><td>Human Resources</td><td>Human Resources Assistant III</td><td>null</td><td>null</td><td>1</td><td>null</td></tr><tr><td>Human Resources</td><td>Human Resources Assistant IV</td><td>null</td><td>null</td><td>1</td><td>null</td></tr><tr><td>Human Resources</td><td>Human Resources Manager</td><td>null</td><td>1</td><td>null</td><td>null</td></tr><tr><td>Human Resources</td><td>Junior Executive</td><td>1</td><td>1</td><td>1</td><td>null</td></tr><tr><td>Human Resources</td><td>Marketing Assistant</td><td>null</td><td>1</td><td>null</td><td>null</td></tr><tr><td>Human Resources</td><td>Marketing Manager</td><td>null</td><td>2</td><td>null</td><td>null</td></tr><tr><td>Human Resources</td><td>Media Manager III</td><td>null</td><td>1</td><td>1</td><td>1</td></tr><tr><td>Human Resources</td><td>Nurse</td><td>null</td><td>null</td><td>1</td><td>null</td></tr><tr><td>Human Resources</td><td>Occupational Therapist</td><td>1</td><td>null</td><td>null</td><td>1</td></tr><tr><td>Human Resources</td><td>Office Assistant II</td><td>1</td><td>1</td><td>null</td><td>null</td></tr><tr><td>Human Resources</td><td>Operator</td><td>null</td><td>1</td><td>null</td><td>null</td></tr><tr><td>Human Resources</td><td>Paralegal</td><td>null</td><td>null</td><td>1</td><td>null</td></tr><tr><td>Human Resources</td><td>Payment Adjustment Coordinator</td><td>1</td><td>null</td><td>null</td><td>1</td></tr><tr><td>Human Resources</td><td>Pharmacist</td><td>null</td><td>1</td><td>null</td><td>1</td></tr><tr><td>Human Resources</td><td>Physical Therapy Assistant</td><td>null</td><td>null</td><td>null</td><td>1</td></tr><tr><td>Human Resources</td><td>Product Engineer</td><td>null</td><td>2</td><td>1</td><td>2</td></tr><tr><td>Human Resources</td><td>Professor</td><td>null</td><td>null</td><td>1</td><td>1</td></tr><tr><td>Human Resources</td><td>Programmer Analyst IV</td><td>1</td><td>null</td><td>null</td><td>null</td></tr><tr><td>Human Resources</td><td>Programmer III</td><td>null</td><td>2</td><td>1</td><td>null</td></tr><tr><td>Human Resources</td><td>Programmer IV</td><td>null</td><td>1</td><td>2</td><td>null</td></tr><tr><td>Human Resources</td><td>Quality Control Specialist</td><td>null</td><td>2</td><td>1</td><td>null</td></tr><tr><td>Human Resources</td><td>Quality Engineer</td><td>null</td><td>null</td><td>null</td><td>2</td></tr><tr><td>Human Resources</td><td>Recruiter</td><td>null</td><td>null</td><td>1</td><td>1</td></tr><tr><td>Human Resources</td><td>Recruiting Manager</td><td>1</td><td>null</td><td>1</td><td>2</td></tr><tr><td>Human Resources</td><td>Registered Nurse</td><td>null</td><td>1</td><td>null</td><td>null</td></tr><tr><td>Human Resources</td><td>Research Assistant I</td><td>null</td><td>null</td><td>1</td><td>null</td></tr><tr><td>Human Resources</td><td>Research Assistant II</td><td>null</td><td>1</td><td>null</td><td>1</td></tr><tr><td>Human Resources</td><td>Research Assistant IV</td><td>null</td><td>null</td><td>null</td><td>1</td></tr><tr><td>Human Resources</td><td>Research Associate</td><td>null</td><td>1</td><td>1</td><td>null</td></tr><tr><td>Human Resources</td><td>Safety Technician II</td><td>null</td><td>1</td><td>null</td><td>1</td></tr><tr><td>Human Resources</td><td>Safety Technician III</td><td>null</td><td>1</td><td>null</td><td>null</td></tr><tr><td>Human Resources</td><td>Sales Representative</td><td>null</td><td>null</td><td>1</td><td>null</td></tr><tr><td>Human Resources</td><td>Senior Cost Accountant</td><td>null</td><td>null</td><td>1</td><td>3</td></tr><tr><td>Human Resources</td><td>Senior Developer</td><td>1</td><td>null</td><td>null</td><td>null</td></tr><tr><td>Human Resources</td><td>Senior Editor</td><td>null</td><td>null</td><td>1</td><td>2</td></tr><tr><td>Human Resources</td><td>Senior Financial Analyst</td><td>null</td><td>null</td><td>2</td><td>null</td></tr><tr><td>Human Resources</td><td>Senior Quality Engineer</td><td>null</td><td>null</td><td>null</td><td>1</td></tr><tr><td>Human Resources</td><td>Social Worker</td><td>null</td><td>null</td><td>null</td><td>3</td></tr><tr><td>Human Resources</td><td>Software Engineer I</td><td>null</td><td>1</td><td>null</td><td>2</td></tr><tr><td>Human Resources</td><td>Software Engineer III</td><td>null</td><td>3</td><td>null</td><td>null</td></tr><tr><td>Human Resources</td><td>Software Engineer IV</td><td>null</td><td>null</td><td>1</td><td>null</td></tr><tr><td>Human Resources</td><td>Software Test Engineer IV</td><td>1</td><td>null</td><td>null</td><td>1</td></tr><tr><td>Human Resources</td><td>Staff Accountant II</td><td>null</td><td>1</td><td>null</td><td>null</td></tr><tr><td>Human Resources</td><td>Staff Accountant IV</td><td>null</td><td>1</td><td>1</td><td>null</td></tr><tr><td>Human Resources</td><td>Staff Scientist</td><td>null</td><td>null</td><td>1</td><td>1</td></tr><tr><td>Human Resources</td><td>Statistician II</td><td>null</td><td>1</td><td>1</td><td>null</td></tr><tr><td>Human Resources</td><td>Structural Analysis Engineer</td><td>null</td><td>null</td><td>1</td><td>null</td></tr><tr><td>Human Resources</td><td>Systems Administrator II</td><td>1</td><td>null</td><td>null</td><td>1</td></tr><tr><td>Human Resources</td><td>Systems Administrator IV</td><td>null</td><td>null</td><td>1</td><td>null</td></tr><tr><td>Human Resources</td><td>Tax Accountant</td><td>null</td><td>null</td><td>null</td><td>2</td></tr><tr><td>Human Resources</td><td>Teacher</td><td>null</td><td>1</td><td>null</td><td>null</td></tr><tr><td>Human Resources</td><td>Technical Writer</td><td>1</td><td>null</td><td>2</td><td>null</td></tr><tr><td>Human Resources</td><td>VP Accounting</td><td>1</td><td>null</td><td>2</td><td>2</td></tr><tr><td>Human Resources</td><td>VP Marketing</td><td>null</td><td>1</td><td>null</td><td>null</td></tr><tr><td>Human Resources</td><td>VP Quality Control</td><td>null</td><td>1</td><td>null</td><td>null</td></tr><tr><td>Human Resources</td><td>Web Designer I</td><td>null</td><td>1</td><td>null</td><td>null</td></tr><tr><td>Human Resources</td><td>Web Designer II</td><td>null</td><td>1</td><td>1</td><td>1</td></tr><tr><td>Human Resources</td><td>Web Developer I</td><td>1</td><td>null</td><td>null</td><td>null</td></tr><tr><td>Human Resources</td><td>Web Developer II</td><td>1</td><td>null</td><td>2</td><td>2</td></tr><tr><td>Legal</td><td>null</td><td>null</td><td>null</td><td>null</td><td>1</td></tr><tr><td>Legal</td><td>Account Coordinator</td><td>null</td><td>1</td><td>null</td><td>null</td></tr><tr><td>Legal</td><td>Account Executive</td><td>null</td><td>null</td><td>null</td><td>1</td></tr><tr><td>Legal</td><td>Account Representative IV</td><td>null</td><td>null</td><td>null</td><td>1</td></tr><tr><td>Legal</td><td>Accountant I</td><td>null</td><td>null</td><td>1</td><td>null</td></tr><tr><td>Legal</td><td>Accountant IV</td><td>null</td><td>null</td><td>1</td><td>null</td></tr><tr><td>Legal</td><td>Associate Professor</td><td>null</td><td>null</td><td>1</td><td>1</td></tr><tr><td>Legal</td><td>Biostatistician II</td><td>null</td><td>null</td><td>1</td><td>null</td></tr><tr><td>Legal</td><td>Budget/Accounting Analyst III</td><td>null</td><td>null</td><td>1</td><td>2</td></tr><tr><td>Legal</td><td>Chief Design Engineer</td><td>null</td><td>1</td><td>null</td><td>1</td></tr><tr><td>Legal</td><td>Computer Systems Analyst IV</td><td>1</td><td>null</td><td>null</td><td>null</td></tr><tr><td>Legal</td><td>Database Administrator II</td><td>null</td><td>null</td><td>1</td><td>null</td></tr><tr><td>Legal</td><td>Database Administrator III</td><td>null</td><td>null</td><td>null</td><td>1</td></tr><tr><td>Legal</td><td>Dental Hygienist</td><td>null</td><td>null</td><td>null</td><td>1</td></tr><tr><td>Legal</td><td>Engineer III</td><td>null</td><td>null</td><td>null</td><td>1</td></tr><tr><td>Legal</td><td>Engineer IV</td><td>1</td><td>null</td><td>null</td><td>null</td></tr><tr><td>Legal</td><td>Financial Advisor</td><td>null</td><td>1</td><td>null</td><td>1</td></tr><tr><td>Legal</td><td>Geologist I</td><td>null</td><td>null</td><td>1</td><td>null</td></tr><tr><td>Legal</td><td>Geologist II</td><td>null</td><td>null</td><td>null</td><td>1</td></tr><tr><td>Legal</td><td>Health Coach IV</td><td>null</td><td>null</td><td>null</td><td>1</td></tr><tr><td>Legal</td><td>Human Resources Assistant IV</td><td>null</td><td>1</td><td>null</td><td>null</td></tr><tr><td>Legal</td><td>Internal Auditor</td><td>null</td><td>1</td><td>null</td><td>null</td></tr><tr><td>Legal</td><td>Marketing Manager</td><td>1</td><td>null</td><td>null</td><td>null</td></tr><tr><td>Legal</td><td>Media Manager III</td><td>null</td><td>null</td><td>null</td><td>1</td></tr><tr><td>Legal</td><td>Occupational Therapist</td><td>null</td><td>1</td><td>1</td><td>null</td></tr><tr><td>Legal</td><td>Office Assistant IV</td><td>1</td><td>null</td><td>null</td><td>null</td></tr><tr><td>Legal</td><td>Programmer Analyst II</td><td>null</td><td>1</td><td>null</td><td>null</td></tr><tr><td>Legal</td><td>Programmer III</td><td>null</td><td>null</td><td>null</td><td>1</td></tr><tr><td>Legal</td><td>Quality Engineer</td><td>null</td><td>null</td><td>1</td><td>null</td></tr><tr><td>Legal</td><td>Recruiter</td><td>null</td><td>null</td><td>1</td><td>null</td></tr><tr><td>Legal</td><td>Senior Editor</td><td>null</td><td>1</td><td>null</td><td>null</td></tr><tr><td>Legal</td><td>Senior Financial Analyst</td><td>null</td><td>null</td><td>1</td><td>null</td></tr><tr><td>Legal</td><td>Senior Quality Engineer</td><td>null</td><td>null</td><td>null</td><td>1</td></tr><tr><td>Legal</td><td>Software Engineer I</td><td>null</td><td>null</td><td>null</td><td>1</td></tr><tr><td>Legal</td><td>Software Test Engineer I</td><td>null</td><td>null</td><td>null</td><td>1</td></tr><tr><td>Legal</td><td>Software Test Engineer IV</td><td>null</td><td>null</td><td>1</td><td>1</td></tr><tr><td>Legal</td><td>Staff Scientist</td><td>null</td><td>null</td><td>null</td><td>1</td></tr><tr><td>Legal</td><td>Statistician I</td><td>null</td><td>null</td><td>1</td><td>null</td></tr><tr><td>Legal</td><td>Statistician II</td><td>1</td><td>null</td><td>1</td><td>null</td></tr><tr><td>Legal</td><td>Structural Engineer</td><td>null</td><td>1</td><td>1</td><td>null</td></tr><tr><td>Legal</td><td>Systems Administrator II</td><td>null</td><td>null</td><td>1</td><td>null</td></tr><tr><td>Legal</td><td>Tax Accountant</td><td>null</td><td>null</td><td>null</td><td>1</td></tr><tr><td>Legal</td><td>Teacher</td><td>1</td><td>null</td><td>null</td><td>1</td></tr><tr><td>Legal</td><td>Web Developer I</td><td>null</td><td>1</td><td>2</td><td>null</td></tr><tr><td>Legal</td><td>Web Developer III</td><td>null</td><td>null</td><td>null</td><td>1</td></tr><tr><td>Marketing</td><td>null</td><td>null</td><td>null</td><td>1</td><td>null</td></tr><tr><td>Marketing</td><td>Account Executive</td><td>1</td><td>null</td><td>null</td><td>null</td></tr><tr><td>Marketing</td><td>Accountant I</td><td>1</td><td>null</td><td>1</td><td>null</td></tr><tr><td>Marketing</td><td>Accountant IV</td><td>1</td><td>null</td><td>1</td><td>null</td></tr><tr><td>Marketing</td><td>Accounting Assistant IV</td><td>null</td><td>3</td><td>null</td><td>null</td></tr><tr><td>Marketing</td><td>Administrative Assistant I</td><td>1</td><td>null</td><td>null</td><td>null</td></tr><tr><td>Marketing</td><td>Analyst Programmer</td><td>1</td><td>1</td><td>1</td><td>null</td></tr><tr><td>Marketing</td><td>Assistant Manager</td><td>null</td><td>null</td><td>null</td><td>2</td></tr><tr><td>Marketing</td><td>Assistant Professor</td><td>1</td><td>1</td><td>1</td><td>null</td></tr><tr><td>Marketing</td><td>Associate Professor</td><td>1</td><td>null</td><td>null</td><td>null</td></tr><tr><td>Marketing</td><td>Biostatistician II</td><td>null</td><td>1</td><td>null</td><td>2</td></tr><tr><td>Marketing</td><td>Biostatistician III</td><td>null</td><td>null</td><td>2</td><td>1</td></tr><tr><td>Marketing</td><td>Budget/Accounting Analyst II</td><td>1</td><td>null</td><td>null</td><td>2</td></tr><tr><td>Marketing</td><td>Budget/Accounting Analyst IV</td><td>1</td><td>1</td><td>null</td><td>null</td></tr><tr><td>Marketing</td><td>Chemical Engineer</td><td>null</td><td>null</td><td>null</td><td>1</td></tr><tr><td>Marketing</td><td>Civil Engineer</td><td>null</td><td>1</td><td>1</td><td>null</td></tr><tr><td>Marketing</td><td>Clinical Specialist</td><td>null</td><td>null</td><td>null</td><td>1</td></tr><tr><td>Marketing</td><td>Computer Systems Analyst II</td><td>null</td><td>1</td><td>null</td><td>null</td></tr><tr><td>Marketing</td><td>Computer Systems Analyst III</td><td>null</td><td>1</td><td>1</td><td>null</td></tr><tr><td>Marketing</td><td>Computer Systems Analyst IV</td><td>null</td><td>1</td><td>3</td><td>null</td></tr><tr><td>Marketing</td><td>Cost Accountant</td><td>2</td><td>null</td><td>null</td><td>1</td></tr><tr><td>Marketing</td><td>Data Coordiator</td><td>1</td><td>1</td><td>null</td><td>null</td></tr><tr><td>Marketing</td><td>Database Administrator III</td><td>null</td><td>null</td><td>null</td><td>1</td></tr><tr><td>Marketing</td><td>Database Administrator IV</td><td>null</td><td>1</td><td>null</td><td>null</td></tr><tr><td>Marketing</td><td>Dental Hygienist</td><td>null</td><td>1</td><td>null</td><td>2</td></tr><tr><td>Marketing</td><td>Desktop Support Technician</td><td>1</td><td>null</td><td>null</td><td>null</td></tr><tr><td>Marketing</td><td>Developer IV</td><td>null</td><td>null</td><td>null</td><td>1</td></tr><tr><td>Marketing</td><td>Electrical Engineer</td><td>null</td><td>1</td><td>1</td><td>null</td></tr><tr><td>Marketing</td><td>Engineer IV</td><td>1</td><td>null</td><td>null</td><td>null</td></tr><tr><td>Marketing</td><td>Environmental Tech</td><td>null</td><td>null</td><td>null</td><td>1</td></tr><tr><td>Marketing</td><td>Executive Secretary</td><td>1</td><td>null</td><td>null</td><td>null</td></tr><tr><td>Marketing</td><td>Financial Analyst</td><td>null</td><td>null</td><td>1</td><td>null</td></tr><tr><td>Marketing</td><td>Food Chemist</td><td>1</td><td>2</td><td>null</td><td>null</td></tr><tr><td>Marketing</td><td>GIS Technical Architect</td><td>null</td><td>null</td><td>null</td><td>1</td></tr><tr><td>Marketing</td><td>General Manager</td><td>null</td><td>null</td><td>1</td><td>null</td></tr><tr><td>Marketing</td><td>Geologist II</td><td>null</td><td>null</td><td>null</td><td>1</td></tr><tr><td>Marketing</td><td>Graphic Designer</td><td>1</td><td>1</td><td>null</td><td>null</td></tr><tr><td>Marketing</td><td>Health Coach I</td><td>1</td><td>null</td><td>null</td><td>null</td></tr><tr><td>Marketing</td><td>Health Coach III</td><td>null</td><td>1</td><td>1</td><td>null</td></tr><tr><td>Marketing</td><td>Health Coach IV</td><td>1</td><td>1</td><td>null</td><td>1</td></tr><tr><td>Marketing</td><td>Human Resources Assistant III</td><td>1</td><td>null</td><td>null</td><td>null</td></tr><tr><td>Marketing</td><td>Human Resources Manager</td><td>null</td><td>1</td><td>null</td><td>null</td></tr><tr><td>Marketing</td><td>Internal Auditor</td><td>null</td><td>null</td><td>1</td><td>null</td></tr><tr><td>Marketing</td><td>Mechanical Systems Engineer</td><td>2</td><td>null</td><td>null</td><td>null</td></tr><tr><td>Marketing</td><td>Media Manager IV</td><td>null</td><td>1</td><td>null</td><td>null</td></tr><tr><td>Marketing</td><td>Nuclear Power Engineer</td><td>1</td><td>null</td><td>null</td><td>1</td></tr><tr><td>Marketing</td><td>Nurse</td><td>null</td><td>1</td><td>null</td><td>null</td></tr><tr><td>Marketing</td><td>Nurse Practicioner</td><td>null</td><td>null</td><td>1</td><td>null</td></tr><tr><td>Marketing</td><td>Occupational Therapist</td><td>null</td><td>null</td><td>null</td><td>1</td></tr><tr><td>Marketing</td><td>Office Assistant III</td><td>null</td><td>1</td><td>null</td><td>null</td></tr><tr><td>Marketing</td><td>Pharmacist</td><td>null</td><td>null</td><td>2</td><td>null</td></tr><tr><td>Marketing</td><td>Physical Therapy Assistant</td><td>null</td><td>null</td><td>2</td><td>null</td></tr><tr><td>Marketing</td><td>Product Engineer</td><td>null</td><td>2</td><td>null</td><td>null</td></tr><tr><td>Marketing</td><td>Professor</td><td>null</td><td>null</td><td>1</td><td>null</td></tr><tr><td>Marketing</td><td>Programmer IV</td><td>null</td><td>null</td><td>1</td><td>null</td></tr><tr><td>Marketing</td><td>Quality Control Specialist</td><td>null</td><td>null</td><td>null</td><td>1</td></tr><tr><td>Marketing</td><td>Quality Engineer</td><td>null</td><td>null</td><td>1</td><td>null</td></tr><tr><td>Marketing</td><td>Recruiter</td><td>null</td><td>null</td><td>1</td><td>null</td></tr><tr><td>Marketing</td><td>Recruiting Manager</td><td>null</td><td>null</td><td>null</td><td>1</td></tr><tr><td>Marketing</td><td>Registered Nurse</td><td>null</td><td>null</td><td>null</td><td>1</td></tr><tr><td>Marketing</td><td>Research Assistant IV</td><td>null</td><td>1</td><td>null</td><td>null</td></tr><tr><td>Marketing</td><td>Safety Technician I</td><td>null</td><td>1</td><td>null</td><td>null</td></tr><tr><td>Marketing</td><td>Safety Technician II</td><td>1</td><td>null</td><td>null</td><td>1</td></tr><tr><td>Marketing</td><td>Safety Technician IV</td><td>null</td><td>null</td><td>1</td><td>null</td></tr><tr><td>Marketing</td><td>Sales Representative</td><td>null</td><td>2</td><td>null</td><td>1</td></tr><tr><td>Marketing</td><td>Senior Cost Accountant</td><td>null</td><td>null</td><td>1</td><td>null</td></tr><tr><td>Marketing</td><td>Senior Developer</td><td>null</td><td>null</td><td>null</td><td>1</td></tr><tr><td>Marketing</td><td>Senior Editor</td><td>1</td><td>null</td><td>null</td><td>null</td></tr><tr><td>Marketing</td><td>Senior Financial Analyst</td><td>null</td><td>1</td><td>null</td><td>null</td></tr><tr><td>Marketing</td><td>Software Engineer IV</td><td>null</td><td>null</td><td>null</td><td>1</td></tr><tr><td>Marketing</td><td>Software Test Engineer I</td><td>null</td><td>null</td><td>null</td><td>1</td></tr><tr><td>Marketing</td><td>Software Test Engineer IV</td><td>null</td><td>null</td><td>1</td><td>null</td></tr><tr><td>Marketing</td><td>Staff Accountant II</td><td>1</td><td>null</td><td>1</td><td>null</td></tr><tr><td>Marketing</td><td>Staff Accountant III</td><td>1</td><td>null</td><td>null</td><td>null</td></tr><tr><td>Marketing</td><td>Staff Scientist</td><td>null</td><td>1</td><td>null</td><td>null</td></tr><tr><td>Marketing</td><td>Statistician I</td><td>null</td><td>null</td><td>null</td><td>1</td></tr><tr><td>Marketing</td><td>Statistician II</td><td>1</td><td>3</td><td>2</td><td>null</td></tr><tr><td>Marketing</td><td>Structural Engineer</td><td>1</td><td>null</td><td>null</td><td>null</td></tr><tr><td>Marketing</td><td>Systems Administrator IV</td><td>null</td><td>1</td><td>null</td><td>null</td></tr><tr><td>Marketing</td><td>Tax Accountant</td><td>null</td><td>1</td><td>null</td><td>1</td></tr><tr><td>Marketing</td><td>Teacher</td><td>2</td><td>null</td><td>1</td><td>1</td></tr><tr><td>Marketing</td><td>Technical Writer</td><td>1</td><td>null</td><td>null</td><td>null</td></tr><tr><td>Marketing</td><td>VP Accounting</td><td>null</td><td>1</td><td>2</td><td>null</td></tr><tr><td>Marketing</td><td>VP Marketing</td><td>null</td><td>null</td><td>1</td><td>null</td></tr><tr><td>Marketing</td><td>VP Product Management</td><td>null</td><td>null</td><td>2</td><td>null</td></tr><tr><td>Marketing</td><td>VP Quality Control</td><td>null</td><td>null</td><td>null</td><td>1</td></tr><tr><td>Marketing</td><td>Web Designer I</td><td>null</td><td>null</td><td>1</td><td>null</td></tr><tr><td>Marketing</td><td>Web Developer I</td><td>null</td><td>null</td><td>1</td><td>null</td></tr><tr><td>Marketing</td><td>Web Developer III</td><td>null</td><td>null</td><td>1</td><td>null</td></tr><tr><td>Product Management</td><td>Account Representative III</td><td>1</td><td>null</td><td>null</td><td>null</td></tr><tr><td>Product Management</td><td>Accountant I</td><td>null</td><td>1</td><td>null</td><td>null</td></tr><tr><td>Product Management</td><td>Accounting Assistant IV</td><td>null</td><td>null</td><td>1</td><td>null</td></tr><tr><td>Product Management</td><td>Analyst Programmer</td><td>null</td><td>null</td><td>2</td><td>null</td></tr><tr><td>Product Management</td><td>Assistant Manager</td><td>1</td><td>null</td><td>null</td><td>null</td></tr><tr><td>Product Management</td><td>Automation Specialist I</td><td>1</td><td>null</td><td>null</td><td>null</td></tr><tr><td>Product Management</td><td>Budget/Accounting Analyst I</td><td>null</td><td>null</td><td>null</td><td>1</td></tr><tr><td>Product Management</td><td>Budget/Accounting Analyst IV</td><td>1</td><td>1</td><td>null</td><td>null</td></tr><tr><td>Product Management</td><td>Cost Accountant</td><td>1</td><td>null</td><td>null</td><td>null</td></tr><tr><td>Product Management</td><td>Database Administrator I</td><td>null</td><td>null</td><td>null</td><td>1</td></tr><tr><td>Product Management</td><td>Electrical Engineer</td><td>null</td><td>null</td><td>null</td><td>1</td></tr><tr><td>Product Management</td><td>Engineer IV</td><td>null</td><td>1</td><td>1</td><td>null</td></tr><tr><td>Product Management</td><td>Geological Engineer</td><td>null</td><td>1</td><td>null</td><td>null</td></tr><tr><td>Product Management</td><td>Graphic Designer</td><td>null</td><td>3</td><td>null</td><td>null</td></tr><tr><td>Product Management</td><td>Help Desk Operator</td><td>1</td><td>null</td><td>null</td><td>1</td></tr><tr><td>Product Management</td><td>Help Desk Technician</td><td>null</td><td>1</td><td>null</td><td>null</td></tr><tr><td>Product Management</td><td>Junior Executive</td><td>null</td><td>null</td><td>null</td><td>1</td></tr><tr><td>Product Management</td><td>Legal Assistant</td><td>null</td><td>1</td><td>null</td><td>null</td></tr><tr><td>Product Management</td><td>Librarian</td><td>null</td><td>1</td><td>null</td><td>null</td></tr><tr><td>Product Management</td><td>Marketing Manager</td><td>null</td><td>null</td><td>null</td><td>1</td></tr><tr><td>Product Management</td><td>Nurse Practicioner</td><td>null</td><td>1</td><td>null</td><td>null</td></tr><tr><td>Product Management</td><td>Office Assistant IV</td><td>null</td><td>null</td><td>1</td><td>null</td></tr><tr><td>Product Management</td><td>Payment Adjustment Coordinator</td><td>1</td><td>1</td><td>null</td><td>null</td></tr><tr><td>Product Management</td><td>Pharmacist</td><td>null</td><td>null</td><td>1</td><td>null</td></tr><tr><td>Product Management</td><td>Physical Therapy Assistant</td><td>null</td><td>null</td><td>null</td><td>1</td></tr><tr><td>Product Management</td><td>Programmer IV</td><td>null</td><td>1</td><td>null</td><td>null</td></tr><tr><td>Product Management</td><td>Quality Control Specialist</td><td>null</td><td>null</td><td>1</td><td>null</td></tr><tr><td>Product Management</td><td>Research Assistant II</td><td>null</td><td>2</td><td>null</td><td>null</td></tr><tr><td>Product Management</td><td>Sales Associate</td><td>null</td><td>1</td><td>null</td><td>null</td></tr><tr><td>Product Management</td><td>Senior Editor</td><td>1</td><td>null</td><td>null</td><td>null</td></tr><tr><td>Product Management</td><td>Software Consultant</td><td>1</td><td>null</td><td>1</td><td>null</td></tr><tr><td>Product Management</td><td>Software Test Engineer I</td><td>null</td><td>1</td><td>null</td><td>null</td></tr><tr><td>Product Management</td><td>Software Test Engineer IV</td><td>null</td><td>1</td><td>null</td><td>null</td></tr><tr><td>Product Management</td><td>Staff Accountant IV</td><td>null</td><td>1</td><td>null</td><td>null</td></tr><tr><td>Product Management</td><td>Staff Scientist</td><td>1</td><td>null</td><td>null</td><td>null</td></tr><tr><td>Product Management</td><td>Systems Administrator IV</td><td>null</td><td>null</td><td>null</td><td>1</td></tr><tr><td>Product Management</td><td>Technical Writer</td><td>null</td><td>null</td><td>2</td><td>null</td></tr><tr><td>Product Management</td><td>Web Developer I</td><td>null</td><td>null</td><td>1</td><td>1</td></tr><tr><td>Research and Development</td><td>null</td><td>1</td><td>null</td><td>null</td><td>1</td></tr><tr><td>Research and Development</td><td>Account Executive</td><td>null</td><td>null</td><td>1</td><td>1</td></tr><tr><td>Research and Development</td><td>Account Representative III</td><td>1</td><td>null</td><td>null</td><td>null</td></tr><tr><td>Research and Development</td><td>Account Representative IV</td><td>1</td><td>null</td><td>null</td><td>null</td></tr><tr><td>Research and Development</td><td>Accounting Assistant IV</td><td>null</td><td>null</td><td>null</td><td>1</td></tr><tr><td>Research and Development</td><td>Actuary</td><td>1</td><td>null</td><td>null</td><td>null</td></tr><tr><td>Research and Development</td><td>Administrative Officer</td><td>null</td><td>1</td><td>1</td><td>null</td></tr><tr><td>Research and Development</td><td>Analog Circuit Design manager</td><td>null</td><td>null</td><td>1</td><td>null</td></tr><tr><td>Research and Development</td><td>Assistant Professor</td><td>null</td><td>null</td><td>1</td><td>2</td></tr><tr><td>Research and Development</td><td>Associate Professor</td><td>null</td><td>1</td><td>1</td><td>null</td></tr><tr><td>Research and Development</td><td>Automation Specialist I</td><td>null</td><td>null</td><td>null</td><td>1</td></tr><tr><td>Research and Development</td><td>Biostatistician II</td><td>1</td><td>null</td><td>null</td><td>null</td></tr><tr><td>Research and Development</td><td>Biostatistician III</td><td>null</td><td>null</td><td>null</td><td>2</td></tr><tr><td>Research and Development</td><td>Budget/Accounting Analyst III</td><td>null</td><td>1</td><td>null</td><td>1</td></tr><tr><td>Research and Development</td><td>Budget/Accounting Analyst IV</td><td>null</td><td>1</td><td>1</td><td>null</td></tr><tr><td>Research and Development</td><td>Chemical Engineer</td><td>null</td><td>null</td><td>2</td><td>null</td></tr><tr><td>Research and Development</td><td>Chief Design Engineer</td><td>null</td><td>2</td><td>null</td><td>null</td></tr><tr><td>Research and Development</td><td>Civil Engineer</td><td>1</td><td>null</td><td>null</td><td>null</td></tr><tr><td>Research and Development</td><td>Clinical Specialist</td><td>1</td><td>1</td><td>null</td><td>1</td></tr><tr><td>Research and Development</td><td>Compensation Analyst</td><td>null</td><td>null</td><td>1</td><td>null</td></tr><tr><td>Research and Development</td><td>Computer Systems Analyst III</td><td>null</td><td>null</td><td>1</td><td>null</td></tr><tr><td>Research and Development</td><td>Cost Accountant</td><td>1</td><td>null</td><td>1</td><td>null</td></tr><tr><td>Research and Development</td><td>Data Coordiator</td><td>null</td><td>null</td><td>null</td><td>1</td></tr><tr><td>Research and Development</td><td>Database Administrator II</td><td>null</td><td>null</td><td>1</td><td>null</td></tr><tr><td>Research and Development</td><td>Database Administrator III</td><td>1</td><td>null</td><td>null</td><td>null</td></tr><tr><td>Research and Development</td><td>Dental Hygienist</td><td>null</td><td>null</td><td>1</td><td>null</td></tr><tr><td>Research and Development</td><td>Director of Sales</td><td>null</td><td>null</td><td>1</td><td>null</td></tr><tr><td>Research and Development</td><td>Electrical Engineer</td><td>null</td><td>null</td><td>1</td><td>null</td></tr><tr><td>Research and Development</td><td>Engineer IV</td><td>null</td><td>null</td><td>1</td><td>null</td></tr><tr><td>Research and Development</td><td>Environmental Tech</td><td>null</td><td>null</td><td>1</td><td>null</td></tr><tr><td>Research and Development</td><td>Executive Secretary</td><td>null</td><td>1</td><td>null</td><td>1</td></tr><tr><td>Research and Development</td><td>Food Chemist</td><td>null</td><td>null</td><td>null</td><td>1</td></tr><tr><td>Research and Development</td><td>General Manager</td><td>1</td><td>null</td><td>null</td><td>null</td></tr><tr><td>Research and Development</td><td>Geologist II</td><td>1</td><td>2</td><td>null</td><td>null</td></tr><tr><td>Research and Development</td><td>Geologist IV</td><td>null</td><td>null</td><td>1</td><td>null</td></tr><tr><td>Research and Development</td><td>Graphic Designer</td><td>null</td><td>1</td><td>null</td><td>2</td></tr><tr><td>Research and Development</td><td>Health Coach I</td><td>1</td><td>null</td><td>null</td><td>null</td></tr><tr><td>Research and Development</td><td>Health Coach III</td><td>null</td><td>null</td><td>1</td><td>null</td></tr><tr><td>Research and Development</td><td>Health Coach IV</td><td>1</td><td>null</td><td>null</td><td>3</td></tr><tr><td>Research and Development</td><td>Information Systems Manager</td><td>null</td><td>null</td><td>1</td><td>null</td></tr><tr><td>Research and Development</td><td>Internal Auditor</td><td>null</td><td>null</td><td>1</td><td>1</td></tr><tr><td>Research and Development</td><td>Junior Executive</td><td>null</td><td>null</td><td>1</td><td>null</td></tr><tr><td>Research and Development</td><td>Legal Assistant</td><td>null</td><td>null</td><td>1</td><td>null</td></tr><tr><td>Research and Development</td><td>Librarian</td><td>null</td><td>null</td><td>1</td><td>null</td></tr><tr><td>Research and Development</td><td>Marketing Manager</td><td>null</td><td>2</td><td>null</td><td>null</td></tr><tr><td>Research and Development</td><td>Media Manager III</td><td>null</td><td>1</td><td>1</td><td>1</td></tr><tr><td>Research and Development</td><td>Nuclear Power Engineer</td><td>null</td><td>null</td><td>2</td><td>null</td></tr><tr><td>Research and Development</td><td>Operator</td><td>null</td><td>null</td><td>null</td><td>2</td></tr><tr><td>Research and Development</td><td>Paralegal</td><td>null</td><td>2</td><td>null</td><td>null</td></tr><tr><td>Research and Development</td><td>Payment Adjustment Coordinator</td><td>null</td><td>1</td><td>null</td><td>null</td></tr><tr><td>Research and Development</td><td>Pharmacist</td><td>1</td><td>null</td><td>2</td><td>null</td></tr><tr><td>Research and Development</td><td>Programmer Analyst II</td><td>null</td><td>null</td><td>null</td><td>1</td></tr><tr><td>Research and Development</td><td>Programmer Analyst IV</td><td>null</td><td>null</td><td>1</td><td>null</td></tr><tr><td>Research and Development</td><td>Programmer I</td><td>null</td><td>1</td><td>null</td><td>2</td></tr><tr><td>Research and Development</td><td>Programmer III</td><td>null</td><td>null</td><td>null</td><td>1</td></tr><tr><td>Research and Development</td><td>Programmer IV</td><td>null</td><td>null</td><td>null</td><td>1</td></tr><tr><td>Research and Development</td><td>Project Manager</td><td>null</td><td>null</td><td>null</td><td>1</td></tr><tr><td>Research and Development</td><td>Quality Control Specialist</td><td>null</td><td>1</td><td>1</td><td>null</td></tr><tr><td>Research and Development</td><td>Recruiter</td><td>1</td><td>1</td><td>2</td><td>2</td></tr><tr><td>Research and Development</td><td>Recruiting Manager</td><td>4</td><td>null</td><td>null</td><td>1</td></tr><tr><td>Research and Development</td><td>Registered Nurse</td><td>1</td><td>null</td><td>null</td><td>1</td></tr><tr><td>Research and Development</td><td>Research Assistant II</td><td>null</td><td>1</td><td>1</td><td>null</td></tr><tr><td>Research and Development</td><td>Research Associate</td><td>null</td><td>2</td><td>null</td><td>null</td></tr><tr><td>Research and Development</td><td>Sales Associate</td><td>null</td><td>null</td><td>null</td><td>1</td></tr><tr><td>Research and Development</td><td>Sales Representative</td><td>null</td><td>1</td><td>null</td><td>1</td></tr><tr><td>Research and Development</td><td>Senior Cost Accountant</td><td>null</td><td>null</td><td>1</td><td>null</td></tr><tr><td>Research and Development</td><td>Senior Developer</td><td>null</td><td>1</td><td>null</td><td>null</td></tr><tr><td>Research and Development</td><td>Senior Editor</td><td>1</td><td>null</td><td>null</td><td>1</td></tr><tr><td>Research and Development</td><td>Senior Financial Analyst</td><td>null</td><td>null</td><td>1</td><td>1</td></tr><tr><td>Research and Development</td><td>Senior Quality Engineer</td><td>null</td><td>null</td><td>1</td><td>null</td></tr><tr><td>Research and Development</td><td>Social Worker</td><td>1</td><td>null</td><td>1</td><td>null</td></tr><tr><td>Research and Development</td><td>Software Engineer I</td><td>null</td><td>1</td><td>null</td><td>null</td></tr><tr><td>Research and Development</td><td>Software Test Engineer I</td><td>1</td><td>null</td><td>null</td><td>null</td></tr><tr><td>Research and Development</td><td>Software Test Engineer IV</td><td>null</td><td>null</td><td>null</td><td>1</td></tr><tr><td>Research and Development</td><td>Speech Pathologist</td><td>null</td><td>null</td><td>1</td><td>null</td></tr><tr><td>Research and Development</td><td>Staff Accountant IV</td><td>1</td><td>null</td><td>1</td><td>1</td></tr><tr><td>Research and Development</td><td>Staff Scientist</td><td>null</td><td>null</td><td>1</td><td>null</td></tr><tr><td>Research and Development</td><td>Statistician I</td><td>null</td><td>null</td><td>null</td><td>2</td></tr><tr><td>Research and Development</td><td>Statistician II</td><td>1</td><td>null</td><td>null</td><td>1</td></tr><tr><td>Research and Development</td><td>Structural Engineer</td><td>1</td><td>1</td><td>1</td><td>null</td></tr><tr><td>Research and Development</td><td>Systems Administrator II</td><td>null</td><td>1</td><td>null</td><td>null</td></tr><tr><td>Research and Development</td><td>Systems Administrator IV</td><td>null</td><td>1</td><td>null</td><td>null</td></tr><tr><td>Research and Development</td><td>Tax Accountant</td><td>null</td><td>1</td><td>1</td><td>null</td></tr><tr><td>Research and Development</td><td>Teacher</td><td>null</td><td>1</td><td>2</td><td>1</td></tr><tr><td>Research and Development</td><td>Technical Writer</td><td>null</td><td>null</td><td>1</td><td>1</td></tr><tr><td>Research and Development</td><td>VP Accounting</td><td>null</td><td>null</td><td>null</td><td>1</td></tr><tr><td>Research and Development</td><td>Web Designer I</td><td>1</td><td>null</td><td>null</td><td>null</td></tr><tr><td>Research and Development</td><td>Web Designer II</td><td>null</td><td>null</td><td>null</td><td>1</td></tr><tr><td>Research and Development</td><td>Web Developer III</td><td>null</td><td>1</td><td>null</td><td>1</td></tr><tr><td>Sales</td><td>Account Executive</td><td>null</td><td>1</td><td>null</td><td>null</td></tr><tr><td>Sales</td><td>Accounting Assistant II</td><td>null</td><td>1</td><td>null</td><td>null</td></tr><tr><td>Sales</td><td>Accounting Assistant IV</td><td>1</td><td>null</td><td>null</td><td>null</td></tr><tr><td>Sales</td><td>Actuary</td><td>null</td><td>1</td><td>null</td><td>null</td></tr><tr><td>Sales</td><td>Administrative Assistant I</td><td>null</td><td>1</td><td>null</td><td>null</td></tr><tr><td>Sales</td><td>Administrative Officer</td><td>1</td><td>null</td><td>null</td><td>null</td></tr><tr><td>Sales</td><td>Analyst Programmer</td><td>null</td><td>1</td><td>null</td><td>null</td></tr><tr><td>Sales</td><td>Assistant Manager</td><td>null</td><td>1</td><td>1</td><td>null</td></tr><tr><td>Sales</td><td>Assistant Professor</td><td>null</td><td>null</td><td>2</td><td>null</td></tr><tr><td>Sales</td><td>Associate Professor</td><td>null</td><td>2</td><td>null</td><td>null</td></tr><tr><td>Sales</td><td>Biostatistician II</td><td>null</td><td>1</td><td>null</td><td>null</td></tr><tr><td>Sales</td><td>Biostatistician III</td><td>null</td><td>2</td><td>null</td><td>1</td></tr><tr><td>Sales</td><td>Budget/Accounting Analyst III</td><td>1</td><td>null</td><td>null</td><td>null</td></tr><tr><td>Sales</td><td>Budget/Accounting Analyst IV</td><td>null</td><td>null</td><td>2</td><td>1</td></tr><tr><td>Sales</td><td>Business Systems Development Analyst</td><td>null</td><td>null</td><td>null</td><td>1</td></tr><tr><td>Sales</td><td>Chief Design Engineer</td><td>null</td><td>1</td><td>null</td><td>null</td></tr><tr><td>Sales</td><td>Civil Engineer</td><td>1</td><td>null</td><td>1</td><td>null</td></tr><tr><td>Sales</td><td>Clinical Specialist</td><td>null</td><td>1</td><td>null</td><td>null</td></tr><tr><td>Sales</td><td>Computer Systems Analyst I</td><td>null</td><td>null</td><td>1</td><td>null</td></tr><tr><td>Sales</td><td>Computer Systems Analyst IV</td><td>null</td><td>null</td><td>null</td><td>1</td></tr><tr><td>Sales</td><td>Cost Accountant</td><td>1</td><td>1</td><td>1</td><td>null</td></tr><tr><td>Sales</td><td>Database Administrator III</td><td>null</td><td>null</td><td>1</td><td>null</td></tr><tr><td>Sales</td><td>Design Engineer</td><td>1</td><td>null</td><td>null</td><td>null</td></tr><tr><td>Sales</td><td>Director of Sales</td><td>null</td><td>1</td><td>null</td><td>2</td></tr><tr><td>Sales</td><td>Engineer III</td><td>1</td><td>null</td><td>null</td><td>null</td></tr><tr><td>Sales</td><td>Engineer IV</td><td>null</td><td>1</td><td>null</td><td>null</td></tr><tr><td>Sales</td><td>Financial Analyst</td><td>null</td><td>null</td><td>null</td><td>1</td></tr><tr><td>Sales</td><td>Geologist II</td><td>null</td><td>2</td><td>null</td><td>2</td></tr><tr><td>Sales</td><td>Geologist IV</td><td>null</td><td>null</td><td>1</td><td>1</td></tr><tr><td>Sales</td><td>Graphic Designer</td><td>1</td><td>null</td><td>null</td><td>null</td></tr><tr><td>Sales</td><td>Health Coach I</td><td>1</td><td>null</td><td>null</td><td>null</td></tr><tr><td>Sales</td><td>Health Coach III</td><td>null</td><td>null</td><td>2</td><td>2</td></tr><tr><td>Sales</td><td>Human Resources Manager</td><td>null</td><td>1</td><td>null</td><td>null</td></tr><tr><td>Sales</td><td>Librarian</td><td>null</td><td>1</td><td>null</td><td>null</td></tr><tr><td>Sales</td><td>Mechanical Systems Engineer</td><td>null</td><td>1</td><td>1</td><td>null</td></tr><tr><td>Sales</td><td>Media Manager II</td><td>null</td><td>null</td><td>null</td><td>1</td></tr><tr><td>Sales</td><td>Nurse</td><td>null</td><td>null</td><td>1</td><td>null</td></tr><tr><td>Sales</td><td>Nurse Practicioner</td><td>1</td><td>null</td><td>null</td><td>null</td></tr><tr><td>Sales</td><td>Pharmacist</td><td>null</td><td>null</td><td>null</td><td>1</td></tr><tr><td>Sales</td><td>Programmer IV</td><td>null</td><td>1</td><td>null</td><td>2</td></tr><tr><td>Sales</td><td>Quality Control Specialist</td><td>null</td><td>null</td><td>null</td><td>1</td></tr><tr><td>Sales</td><td>Recruiter</td><td>null</td><td>2</td><td>null</td><td>null</td></tr><tr><td>Sales</td><td>Recruiting Manager</td><td>null</td><td>1</td><td>2</td><td>null</td></tr><tr><td>Sales</td><td>Research Assistant II</td><td>1</td><td>1</td><td>null</td><td>null</td></tr><tr><td>Sales</td><td>Research Assistant IV</td><td>null</td><td>1</td><td>null</td><td>null</td></tr><tr><td>Sales</td><td>Senior Financial Analyst</td><td>1</td><td>2</td><td>null</td><td>null</td></tr><tr><td>Sales</td><td>Senior Quality Engineer</td><td>null</td><td>null</td><td>1</td><td>null</td></tr><tr><td>Sales</td><td>Social Worker</td><td>null</td><td>null</td><td>null</td><td>1</td></tr><tr><td>Sales</td><td>Software Test Engineer IV</td><td>null</td><td>1</td><td>null</td><td>null</td></tr><tr><td>Sales</td><td>Staff Accountant I</td><td>null</td><td>1</td><td>null</td><td>null</td></tr><tr><td>Sales</td><td>Staff Accountant III</td><td>null</td><td>1</td><td>null</td><td>null</td></tr><tr><td>Sales</td><td>Staff Accountant IV</td><td>null</td><td>null</td><td>1</td><td>null</td></tr><tr><td>Sales</td><td>Staff Scientist</td><td>null</td><td>null</td><td>null</td><td>1</td></tr><tr><td>Sales</td><td>Statistician II</td><td>1</td><td>1</td><td>null</td><td>null</td></tr><tr><td>Sales</td><td>Systems Administrator IV</td><td>1</td><td>null</td><td>1</td><td>null</td></tr><tr><td>Sales</td><td>Teacher</td><td>null</td><td>null</td><td>1</td><td>1</td></tr><tr><td>Sales</td><td>VP Accounting</td><td>null</td><td>null</td><td>1</td><td>3</td></tr><tr><td>Sales</td><td>Web Designer I</td><td>1</td><td>null</td><td>null</td><td>null</td></tr><tr><td>Sales</td><td>Web Developer III</td><td>1</td><td>null</td><td>null</td><td>1</td></tr><tr><td>Services</td><td>null</td><td>1</td><td>1</td><td>null</td><td>null</td></tr><tr><td>Services</td><td>Account Coordinator</td><td>null</td><td>null</td><td>null</td><td>1</td></tr><tr><td>Services</td><td>Account Executive</td><td>null</td><td>null</td><td>2</td><td>null</td></tr><tr><td>Services</td><td>Accountant I</td><td>null</td><td>null</td><td>null</td><td>1</td></tr><tr><td>Services</td><td>Accountant III</td><td>null</td><td>null</td><td>1</td><td>null</td></tr><tr><td>Services</td><td>Accounting Assistant I</td><td>null</td><td>1</td><td>null</td><td>null</td></tr><tr><td>Services</td><td>Accounting Assistant IV</td><td>null</td><td>1</td><td>null</td><td>null</td></tr><tr><td>Services</td><td>Administrative Assistant I</td><td>1</td><td>null</td><td>null</td><td>null</td></tr><tr><td>Services</td><td>Analog Circuit Design manager</td><td>null</td><td>null</td><td>null</td><td>1</td></tr><tr><td>Services</td><td>Analyst Programmer</td><td>null</td><td>1</td><td>1</td><td>1</td></tr><tr><td>Services</td><td>Assistant Professor</td><td>null</td><td>null</td><td>null</td><td>1</td></tr><tr><td>Services</td><td>Associate Professor</td><td>null</td><td>1</td><td>2</td><td>null</td></tr><tr><td>Services</td><td>Biostatistician II</td><td>null</td><td>1</td><td>null</td><td>null</td></tr><tr><td>Services</td><td>Biostatistician III</td><td>null</td><td>1</td><td>1</td><td>1</td></tr><tr><td>Services</td><td>Biostatistician IV</td><td>null</td><td>1</td><td>1</td><td>null</td></tr><tr><td>Services</td><td>Budget/Accounting Analyst II</td><td>null</td><td>null</td><td>1</td><td>null</td></tr><tr><td>Services</td><td>Budget/Accounting Analyst III</td><td>null</td><td>2</td><td>null</td><td>null</td></tr><tr><td>Services</td><td>Budget/Accounting Analyst IV</td><td>null</td><td>3</td><td>1</td><td>null</td></tr><tr><td>Services</td><td>Chemical Engineer</td><td>null</td><td>1</td><td>null</td><td>null</td></tr><tr><td>Services</td><td>Chief Design Engineer</td><td>null</td><td>null</td><td>null</td><td>1</td></tr><tr><td>Services</td><td>Civil Engineer</td><td>null</td><td>null</td><td>1</td><td>1</td></tr><tr><td>Services</td><td>Clinical Specialist</td><td>1</td><td>1</td><td>2</td><td>1</td></tr><tr><td>Services</td><td>Community Outreach Specialist</td><td>1</td><td>1</td><td>2</td><td>null</td></tr><tr><td>Services</td><td>Computer Systems Analyst IV</td><td>null</td><td>null</td><td>1</td><td>null</td></tr><tr><td>Services</td><td>Cost Accountant</td><td>1</td><td>null</td><td>null</td><td>null</td></tr><tr><td>Services</td><td>Data Coordiator</td><td>null</td><td>1</td><td>null</td><td>1</td></tr><tr><td>Services</td><td>Database Administrator I</td><td>null</td><td>null</td><td>2</td><td>null</td></tr><tr><td>Services</td><td>Database Administrator IV</td><td>null</td><td>1</td><td>null</td><td>null</td></tr><tr><td>Services</td><td>Dental Hygienist</td><td>null</td><td>2</td><td>null</td><td>null</td></tr><tr><td>Services</td><td>Design Engineer</td><td>null</td><td>null</td><td>1</td><td>null</td></tr><tr><td>Services</td><td>Developer I</td><td>null</td><td>1</td><td>2</td><td>null</td></tr><tr><td>Services</td><td>Developer II</td><td>null</td><td>1</td><td>null</td><td>null</td></tr><tr><td>Services</td><td>Developer III</td><td>null</td><td>null</td><td>1</td><td>null</td></tr><tr><td>Services</td><td>Director of Sales</td><td>null</td><td>null</td><td>null</td><td>1</td></tr><tr><td>Services</td><td>Engineer I</td><td>null</td><td>1</td><td>null</td><td>null</td></tr><tr><td>Services</td><td>Engineer III</td><td>null</td><td>null</td><td>3</td><td>null</td></tr><tr><td>Services</td><td>Engineer IV</td><td>null</td><td>1</td><td>null</td><td>null</td></tr><tr><td>Services</td><td>Environmental Tech</td><td>null</td><td>1</td><td>null</td><td>null</td></tr><tr><td>Services</td><td>Executive Secretary</td><td>null</td><td>null</td><td>1</td><td>1</td></tr><tr><td>Services</td><td>Food Chemist</td><td>1</td><td>1</td><td>null</td><td>2</td></tr><tr><td>Services</td><td>GIS Technical Architect</td><td>1</td><td>1</td><td>null</td><td>null</td></tr><tr><td>Services</td><td>General Manager</td><td>null</td><td>1</td><td>null</td><td>null</td></tr><tr><td>Services</td><td>Geological Engineer</td><td>null</td><td>null</td><td>null</td><td>1</td></tr><tr><td>Services</td><td>Geologist I</td><td>null</td><td>null</td><td>1</td><td>1</td></tr><tr><td>Services</td><td>Geologist II</td><td>1</td><td>1</td><td>null</td><td>null</td></tr><tr><td>Services</td><td>Geologist IV</td><td>null</td><td>null</td><td>null</td><td>3</td></tr><tr><td>Services</td><td>Graphic Designer</td><td>null</td><td>1</td><td>null</td><td>null</td></tr><tr><td>Services</td><td>Health Coach III</td><td>null</td><td>null</td><td>null</td><td>1</td></tr><tr><td>Services</td><td>Health Coach IV</td><td>null</td><td>null</td><td>1</td><td>null</td></tr><tr><td>Services</td><td>Human Resources Assistant II</td><td>null</td><td>1</td><td>1</td><td>null</td></tr><tr><td>Services</td><td>Human Resources Assistant IV</td><td>1</td><td>null</td><td>null</td><td>1</td></tr><tr><td>Services</td><td>Human Resources Manager</td><td>null</td><td>1</td><td>null</td><td>1</td></tr><tr><td>Services</td><td>Information Systems Manager</td><td>null</td><td>null</td><td>1</td><td>null</td></tr><tr><td>Services</td><td>Internal Auditor</td><td>null</td><td>3</td><td>null</td><td>null</td></tr><tr><td>Services</td><td>Junior Executive</td><td>null</td><td>1</td><td>1</td><td>null</td></tr><tr><td>Services</td><td>Legal Assistant</td><td>1</td><td>null</td><td>null</td><td>null</td></tr><tr><td>Services</td><td>Librarian</td><td>null</td><td>1</td><td>null</td><td>1</td></tr><tr><td>Services</td><td>Media Manager III</td><td>null</td><td>null</td><td>null</td><td>2</td></tr><tr><td>Services</td><td>Media Manager IV</td><td>null</td><td>null</td><td>1</td><td>null</td></tr><tr><td>Services</td><td>Nuclear Power Engineer</td><td>1</td><td>null</td><td>null</td><td>null</td></tr><tr><td>Services</td><td>Nurse Practicioner</td><td>null</td><td>1</td><td>null</td><td>null</td></tr><tr><td>Services</td><td>Occupational Therapist</td><td>null</td><td>1</td><td>1</td><td>null</td></tr><tr><td>Services</td><td>Operator</td><td>null</td><td>null</td><td>1</td><td>null</td></tr><tr><td>Services</td><td>Payment Adjustment Coordinator</td><td>null</td><td>null</td><td>null</td><td>1</td></tr><tr><td>Services</td><td>Pharmacist</td><td>null</td><td>null</td><td>null</td><td>1</td></tr><tr><td>Services</td><td>Physical Therapy Assistant</td><td>null</td><td>1</td><td>1</td><td>null</td></tr><tr><td>Services</td><td>Professor</td><td>null</td><td>null</td><td>null</td><td>2</td></tr><tr><td>Services</td><td>Programmer Analyst II</td><td>1</td><td>null</td><td>null</td><td>null</td></tr><tr><td>Services</td><td>Programmer I</td><td>1</td><td>null</td><td>2</td><td>null</td></tr><tr><td>Services</td><td>Programmer III</td><td>null</td><td>null</td><td>2</td><td>null</td></tr><tr><td>Services</td><td>Programmer IV</td><td>2</td><td>3</td><td>null</td><td>3</td></tr><tr><td>Services</td><td>Project Manager</td><td>1</td><td>null</td><td>null</td><td>null</td></tr><tr><td>Services</td><td>Quality Control Specialist</td><td>null</td><td>null</td><td>2</td><td>1</td></tr><tr><td>Services</td><td>Quality Engineer</td><td>null</td><td>1</td><td>1</td><td>1</td></tr><tr><td>Services</td><td>Recruiter</td><td>null</td><td>null</td><td>1</td><td>1</td></tr><tr><td>Services</td><td>Recruiting Manager</td><td>null</td><td>1</td><td>1</td><td>null</td></tr><tr><td>Services</td><td>Registered Nurse</td><td>null</td><td>1</td><td>null</td><td>null</td></tr><tr><td>Services</td><td>Research Assistant II</td><td>null</td><td>1</td><td>null</td><td>2</td></tr><tr><td>Services</td><td>Research Assistant III</td><td>null</td><td>null</td><td>1</td><td>null</td></tr><tr><td>Services</td><td>Research Assistant IV</td><td>null</td><td>2</td><td>1</td><td>1</td></tr><tr><td>Services</td><td>Safety Technician IV</td><td>null</td><td>null</td><td>null</td><td>1</td></tr><tr><td>Services</td><td>Sales Representative</td><td>null</td><td>1</td><td>null</td><td>1</td></tr><tr><td>Services</td><td>Senior Cost Accountant</td><td>1</td><td>2</td><td>null</td><td>null</td></tr><tr><td>Services</td><td>Senior Developer</td><td>null</td><td>null</td><td>null</td><td>1</td></tr><tr><td>Services</td><td>Senior Editor</td><td>null</td><td>1</td><td>null</td><td>null</td></tr><tr><td>Services</td><td>Senior Financial Analyst</td><td>1</td><td>1</td><td>null</td><td>null</td></tr><tr><td>Services</td><td>Software Engineer I</td><td>null</td><td>3</td><td>null</td><td>3</td></tr><tr><td>Services</td><td>Software Engineer III</td><td>1</td><td>null</td><td>null</td><td>null</td></tr><tr><td>Services</td><td>Software Test Engineer III</td><td>null</td><td>null</td><td>null</td><td>1</td></tr><tr><td>Services</td><td>Software Test Engineer IV</td><td>1</td><td>1</td><td>1</td><td>1</td></tr><tr><td>Services</td><td>Staff Accountant III</td><td>null</td><td>null</td><td>1</td><td>null</td></tr><tr><td>Services</td><td>Staff Accountant IV</td><td>1</td><td>null</td><td>null</td><td>null</td></tr><tr><td>Services</td><td>Staff Scientist</td><td>null</td><td>1</td><td>null</td><td>null</td></tr><tr><td>Services</td><td>Statistician I</td><td>1</td><td>null</td><td>null</td><td>null</td></tr><tr><td>Services</td><td>Statistician II</td><td>1</td><td>null</td><td>null</td><td>1</td></tr><tr><td>Services</td><td>Statistician III</td><td>null</td><td>null</td><td>1</td><td>null</td></tr><tr><td>Services</td><td>Structural Analysis Engineer</td><td>null</td><td>1</td><td>1</td><td>1</td></tr><tr><td>Services</td><td>Systems Administrator IV</td><td>1</td><td>null</td><td>1</td><td>null</td></tr><tr><td>Services</td><td>Teacher</td><td>3</td><td>2</td><td>null</td><td>1</td></tr><tr><td>Services</td><td>VP Accounting</td><td>null</td><td>2</td><td>null</td><td>null</td></tr><tr><td>Services</td><td>VP Product Management</td><td>null</td><td>null</td><td>2</td><td>1</td></tr><tr><td>Services</td><td>VP Quality Control</td><td>null</td><td>null</td><td>1</td><td>null</td></tr><tr><td>Services</td><td>Web Designer I</td><td>1</td><td>null</td><td>1</td><td>null</td></tr><tr><td>Services</td><td>Web Designer II</td><td>null</td><td>1</td><td>1</td><td>null</td></tr><tr><td>Services</td><td>Web Designer III</td><td>1</td><td>null</td><td>null</td><td>null</td></tr><tr><td>Services</td><td>Web Developer I</td><td>1</td><td>1</td><td>1</td><td>null</td></tr><tr><td>Services</td><td>Web Developer II</td><td>null</td><td>1</td><td>null</td><td>null</td></tr><tr><td>Support</td><td>null</td><td>1</td><td>2</td><td>1</td><td>null</td></tr><tr><td>Support</td><td>Account Coordinator</td><td>null</td><td>null</td><td>null</td><td>1</td></tr><tr><td>Support</td><td>Account Executive</td><td>null</td><td>1</td><td>2</td><td>2</td></tr><tr><td>Support</td><td>Account Representative III</td><td>null</td><td>null</td><td>null</td><td>2</td></tr><tr><td>Support</td><td>Account Representative IV</td><td>null</td><td>1</td><td>null</td><td>1</td></tr><tr><td>Support</td><td>Accountant IV</td><td>null</td><td>2</td><td>null</td><td>null</td></tr><tr><td>Support</td><td>Accounting Assistant I</td><td>1</td><td>null</td><td>1</td><td>null</td></tr><tr><td>Support</td><td>Accounting Assistant II</td><td>1</td><td>1</td><td>null</td><td>null</td></tr><tr><td>Support</td><td>Accounting Assistant III</td><td>null</td><td>null</td><td>1</td><td>null</td></tr><tr><td>Support</td><td>Accounting Assistant IV</td><td>null</td><td>2</td><td>1</td><td>null</td></tr><tr><td>Support</td><td>Actuary</td><td>null</td><td>null</td><td>null</td><td>2</td></tr><tr><td>Support</td><td>Administrative Assistant III</td><td>null</td><td>1</td><td>null</td><td>null</td></tr><tr><td>Support</td><td>Analog Circuit Design manager</td><td>1</td><td>null</td><td>null</td><td>null</td></tr><tr><td>Support</td><td>Analyst Programmer</td><td>null</td><td>null</td><td>1</td><td>1</td></tr><tr><td>Support</td><td>Assistant Manager</td><td>2</td><td>null</td><td>1</td><td>null</td></tr><tr><td>Support</td><td>Assistant Media Planner</td><td>null</td><td>null</td><td>null</td><td>2</td></tr><tr><td>Support</td><td>Assistant Professor</td><td>null</td><td>2</td><td>null</td><td>null</td></tr><tr><td>Support</td><td>Associate Professor</td><td>null</td><td>2</td><td>3</td><td>null</td></tr><tr><td>Support</td><td>Automation Specialist I</td><td>1</td><td>null</td><td>2</td><td>null</td></tr><tr><td>Support</td><td>Automation Specialist IV</td><td>null</td><td>null</td><td>null</td><td>1</td></tr><tr><td>Support</td><td>Biostatistician II</td><td>null</td><td>null</td><td>1</td><td>null</td></tr><tr><td>Support</td><td>Biostatistician III</td><td>null</td><td>null</td><td>null</td><td>3</td></tr><tr><td>Support</td><td>Budget/Accounting Analyst I</td><td>1</td><td>null</td><td>null</td><td>null</td></tr><tr><td>Support</td><td>Budget/Accounting Analyst IV</td><td>1</td><td>null</td><td>null</td><td>null</td></tr><tr><td>Support</td><td>Chemical Engineer</td><td>1</td><td>null</td><td>null</td><td>null</td></tr><tr><td>Support</td><td>Chief Design Engineer</td><td>1</td><td>3</td><td>null</td><td>1</td></tr><tr><td>Support</td><td>Civil Engineer</td><td>null</td><td>2</td><td>1</td><td>null</td></tr><tr><td>Support</td><td>Clinical Specialist</td><td>1</td><td>1</td><td>2</td><td>2</td></tr><tr><td>Support</td><td>Computer Systems Analyst IV</td><td>null</td><td>1</td><td>null</td><td>null</td></tr><tr><td>Support</td><td>Cost Accountant</td><td>1</td><td>2</td><td>null</td><td>1</td></tr><tr><td>Support</td><td>Data Coordiator</td><td>null</td><td>null</td><td>1</td><td>null</td></tr><tr><td>Support</td><td>Database Administrator I</td><td>null</td><td>null</td><td>null</td><td>1</td></tr><tr><td>Support</td><td>Database Administrator II</td><td>1</td><td>null</td><td>null</td><td>null</td></tr><tr><td>Support</td><td>Database Administrator III</td><td>null</td><td>1</td><td>1</td><td>null</td></tr><tr><td>Support</td><td>Dental Hygienist</td><td>null</td><td>null</td><td>1</td><td>null</td></tr><tr><td>Support</td><td>Developer II</td><td>null</td><td>null</td><td>null</td><td>1</td></tr><tr><td>Support</td><td>Director of Sales</td><td>1</td><td>null</td><td>null</td><td>2</td></tr><tr><td>Support</td><td>Editor</td><td>null</td><td>null</td><td>1</td><td>1</td></tr><tr><td>Support</td><td>Electrical Engineer</td><td>null</td><td>null</td><td>null</td><td>1</td></tr><tr><td>Support</td><td>Engineer III</td><td>null</td><td>null</td><td>1</td><td>2</td></tr><tr><td>Support</td><td>Engineer IV</td><td>null</td><td>1</td><td>1</td><td>null</td></tr><tr><td>Support</td><td>Environmental Tech</td><td>1</td><td>null</td><td>null</td><td>null</td></tr><tr><td>Support</td><td>Executive Secretary</td><td>1</td><td>null</td><td>null</td><td>null</td></tr><tr><td>Support</td><td>Food Chemist</td><td>1</td><td>null</td><td>null</td><td>null</td></tr><tr><td>Support</td><td>GIS Technical Architect</td><td>null</td><td>1</td><td>null</td><td>null</td></tr><tr><td>Support</td><td>General Manager</td><td>null</td><td>2</td><td>null</td><td>null</td></tr><tr><td>Support</td><td>Geological Engineer</td><td>null</td><td>null</td><td>1</td><td>null</td></tr><tr><td>Support</td><td>Geologist II</td><td>null</td><td>null</td><td>null</td><td>2</td></tr><tr><td>Support</td><td>Geologist IV</td><td>1</td><td>null</td><td>null</td><td>1</td></tr><tr><td>Support</td><td>Graphic Designer</td><td>null</td><td>null</td><td>1</td><td>null</td></tr><tr><td>Support</td><td>Health Coach III</td><td>1</td><td>1</td><td>null</td><td>1</td></tr><tr><td>Support</td><td>Health Coach IV</td><td>null</td><td>null</td><td>1</td><td>1</td></tr><tr><td>Support</td><td>Human Resources Assistant II</td><td>null</td><td>null</td><td>1</td><td>null</td></tr><tr><td>Support</td><td>Human Resources Assistant III</td><td>null</td><td>1</td><td>null</td><td>null</td></tr><tr><td>Support</td><td>Human Resources Assistant IV</td><td>null</td><td>1</td><td>null</td><td>null</td></tr><tr><td>Support</td><td>Junior Executive</td><td>1</td><td>null</td><td>null</td><td>1</td></tr><tr><td>Support</td><td>Marketing Manager</td><td>null</td><td>1</td><td>null</td><td>null</td></tr><tr><td>Support</td><td>Media Manager IV</td><td>null</td><td>null</td><td>1</td><td>null</td></tr><tr><td>Support</td><td>Nurse</td><td>1</td><td>null</td><td>null</td><td>null</td></tr><tr><td>Support</td><td>Nurse Practicioner</td><td>null</td><td>1</td><td>null</td><td>null</td></tr><tr><td>Support</td><td>Occupational Therapist</td><td>null</td><td>null</td><td>1</td><td>null</td></tr><tr><td>Support</td><td>Paralegal</td><td>null</td><td>1</td><td>null</td><td>null</td></tr><tr><td>Support</td><td>Pharmacist</td><td>null</td><td>1</td><td>null</td><td>1</td></tr><tr><td>Support</td><td>Product Engineer</td><td>null</td><td>null</td><td>null</td><td>1</td></tr><tr><td>Support</td><td>Professor</td><td>null</td><td>null</td><td>2</td><td>null</td></tr><tr><td>Support</td><td>Programmer Analyst II</td><td>1</td><td>null</td><td>1</td><td>null</td></tr><tr><td>Support</td><td>Programmer I</td><td>1</td><td>null</td><td>null</td><td>null</td></tr><tr><td>Support</td><td>Programmer III</td><td>1</td><td>1</td><td>null</td><td>1</td></tr><tr><td>Support</td><td>Programmer IV</td><td>null</td><td>null</td><td>4</td><td>2</td></tr><tr><td>Support</td><td>Project Manager</td><td>null</td><td>null</td><td>1</td><td>null</td></tr><tr><td>Support</td><td>Quality Engineer</td><td>1</td><td>null</td><td>null</td><td>null</td></tr><tr><td>Support</td><td>Recruiter</td><td>2</td><td>3</td><td>2</td><td>1</td></tr><tr><td>Support</td><td>Recruiting Manager</td><td>null</td><td>null</td><td>1</td><td>1</td></tr><tr><td>Support</td><td>Registered Nurse</td><td>null</td><td>null</td><td>1</td><td>2</td></tr><tr><td>Support</td><td>Research Assistant III</td><td>null</td><td>null</td><td>1</td><td>null</td></tr><tr><td>Support</td><td>Research Assistant IV</td><td>null</td><td>null</td><td>null</td><td>2</td></tr><tr><td>Support</td><td>Sales Representative</td><td>null</td><td>1</td><td>1</td><td>null</td></tr><tr><td>Support</td><td>Senior Cost Accountant</td><td>null</td><td>null</td><td>1</td><td>null</td></tr><tr><td>Support</td><td>Senior Developer</td><td>null</td><td>null</td><td>1</td><td>1</td></tr><tr><td>Support</td><td>Senior Editor</td><td>null</td><td>null</td><td>null</td><td>3</td></tr><tr><td>Support</td><td>Senior Financial Analyst</td><td>1</td><td>2</td><td>1</td><td>1</td></tr><tr><td>Support</td><td>Social Worker</td><td>null</td><td>null</td><td>1</td><td>null</td></tr><tr><td>Support</td><td>Software Engineer III</td><td>null</td><td>null</td><td>null</td><td>2</td></tr><tr><td>Support</td><td>Software Test Engineer I</td><td>null</td><td>null</td><td>1</td><td>null</td></tr><tr><td>Support</td><td>Software Test Engineer IV</td><td>null</td><td>2</td><td>1</td><td>1</td></tr><tr><td>Support</td><td>Speech Pathologist</td><td>null</td><td>1</td><td>null</td><td>null</td></tr><tr><td>Support</td><td>Staff Accountant III</td><td>1</td><td>null</td><td>1</td><td>null</td></tr><tr><td>Support</td><td>Staff Accountant IV</td><td>null</td><td>null</td><td>null</td><td>1</td></tr><tr><td>Support</td><td>Staff Scientist</td><td>null</td><td>null</td><td>1</td><td>1</td></tr><tr><td>Support</td><td>Statistician I</td><td>null</td><td>2</td><td>null</td><td>null</td></tr><tr><td>Support</td><td>Statistician II</td><td>null</td><td>1</td><td>null</td><td>null</td></tr><tr><td>Support</td><td>Statistician III</td><td>null</td><td>1</td><td>null</td><td>null</td></tr><tr><td>Support</td><td>Structural Analysis Engineer</td><td>null</td><td>1</td><td>null</td><td>null</td></tr><tr><td>Support</td><td>Structural Engineer</td><td>null</td><td>1</td><td>null</td><td>null</td></tr><tr><td>Support</td><td>Systems Administrator II</td><td>null</td><td>null</td><td>1</td><td>1</td></tr><tr><td>Support</td><td>Systems Administrator IV</td><td>2</td><td>4</td><td>null</td><td>2</td></tr><tr><td>Support</td><td>Teacher</td><td>null</td><td>1</td><td>1</td><td>null</td></tr><tr><td>Support</td><td>Technical Writer</td><td>null</td><td>1</td><td>1</td><td>null</td></tr><tr><td>Support</td><td>VP Accounting</td><td>null</td><td>2</td><td>null</td><td>null</td></tr><tr><td>Support</td><td>VP Marketing</td><td>null</td><td>null</td><td>null</td><td>1</td></tr><tr><td>Support</td><td>VP Product Management</td><td>null</td><td>null</td><td>1</td><td>null</td></tr><tr><td>Support</td><td>VP Quality Control</td><td>null</td><td>null</td><td>null</td><td>1</td></tr><tr><td>Support</td><td>Web Designer I</td><td>1</td><td>4</td><td>null</td><td>1</td></tr><tr><td>Support</td><td>Web Designer II</td><td>null</td><td>2</td><td>1</td><td>null</td></tr><tr><td>Support</td><td>Web Designer IV</td><td>1</td><td>null</td><td>1</td><td>1</td></tr><tr><td>Support</td><td>Web Developer I</td><td>null</td><td>null</td><td>2</td><td>null</td></tr><tr><td>Support</td><td>Web Developer II</td><td>null</td><td>null</td><td>null</td><td>1</td></tr><tr><td>Support</td><td>Web Developer III</td><td>null</td><td>1</td><td>null</td><td>null</td></tr><tr><td>Training</td><td>Account Coordinator</td><td>null</td><td>1</td><td>null</td><td>null</td></tr><tr><td>Training</td><td>Account Representative IV</td><td>1</td><td>null</td><td>null</td><td>null</td></tr><tr><td>Training</td><td>Accountant II</td><td>null</td><td>null</td><td>null</td><td>1</td></tr><tr><td>Training</td><td>Accountant IV</td><td>null</td><td>1</td><td>null</td><td>1</td></tr><tr><td>Training</td><td>Accounting Assistant I</td><td>null</td><td>null</td><td>null</td><td>1</td></tr><tr><td>Training</td><td>Accounting Assistant IV</td><td>null</td><td>null</td><td>null</td><td>1</td></tr><tr><td>Training</td><td>Actuary</td><td>null</td><td>null</td><td>1</td><td>null</td></tr><tr><td>Training</td><td>Analog Circuit Design manager</td><td>null</td><td>1</td><td>null</td><td>null</td></tr><tr><td>Training</td><td>Analyst Programmer</td><td>null</td><td>null</td><td>2</td><td>null</td></tr><tr><td>Training</td><td>Budget/Accounting Analyst III</td><td>null</td><td>null</td><td>1</td><td>1</td></tr><tr><td>Training</td><td>Budget/Accounting Analyst IV</td><td>null</td><td>null</td><td>1</td><td>1</td></tr><tr><td>Training</td><td>Clinical Specialist</td><td>null</td><td>null</td><td>null</td><td>1</td></tr><tr><td>Training</td><td>Community Outreach Specialist</td><td>1</td><td>1</td><td>null</td><td>2</td></tr><tr><td>Training</td><td>Computer Systems Analyst III</td><td>null</td><td>null</td><td>1</td><td>null</td></tr><tr><td>Training</td><td>Data Coordiator</td><td>null</td><td>1</td><td>null</td><td>null</td></tr><tr><td>Training</td><td>Database Administrator II</td><td>1</td><td>1</td><td>null</td><td>null</td></tr><tr><td>Training</td><td>Database Administrator III</td><td>null</td><td>null</td><td>null</td><td>2</td></tr><tr><td>Training</td><td>Dental Hygienist</td><td>1</td><td>null</td><td>null</td><td>1</td></tr><tr><td>Training</td><td>Design Engineer</td><td>null</td><td>1</td><td>null</td><td>null</td></tr><tr><td>Training</td><td>Editor</td><td>null</td><td>1</td><td>1</td><td>null</td></tr><tr><td>Training</td><td>Engineer III</td><td>null</td><td>null</td><td>null</td><td>1</td></tr><tr><td>Training</td><td>Financial Analyst</td><td>null</td><td>null</td><td>null</td><td>1</td></tr><tr><td>Training</td><td>Food Chemist</td><td>1</td><td>1</td><td>2</td><td>1</td></tr><tr><td>Training</td><td>Geological Engineer</td><td>null</td><td>null</td><td>null</td><td>1</td></tr><tr><td>Training</td><td>Geologist I</td><td>1</td><td>null</td><td>null</td><td>null</td></tr><tr><td>Training</td><td>Geologist II</td><td>null</td><td>1</td><td>1</td><td>1</td></tr><tr><td>Training</td><td>Geologist IV</td><td>null</td><td>1</td><td>null</td><td>null</td></tr><tr><td>Training</td><td>Graphic Designer</td><td>null</td><td>1</td><td>1</td><td>1</td></tr><tr><td>Training</td><td>Health Coach III</td><td>null</td><td>null</td><td>1</td><td>null</td></tr><tr><td>Training</td><td>Health Coach IV</td><td>null</td><td>1</td><td>null</td><td>null</td></tr><tr><td>Training</td><td>Human Resources Assistant II</td><td>null</td><td>1</td><td>null</td><td>null</td></tr><tr><td>Training</td><td>Human Resources Assistant IV</td><td>null</td><td>null</td><td>null</td><td>1</td></tr><tr><td>Training</td><td>Information Systems Manager</td><td>null</td><td>null</td><td>2</td><td>null</td></tr><tr><td>Training</td><td>Internal Auditor</td><td>null</td><td>1</td><td>1</td><td>null</td></tr><tr><td>Training</td><td>Librarian</td><td>null</td><td>null</td><td>null</td><td>1</td></tr><tr><td>Training</td><td>Mechanical Systems Engineer</td><td>1</td><td>null</td><td>null</td><td>null</td></tr><tr><td>Training</td><td>Media Manager III</td><td>null</td><td>null</td><td>null</td><td>2</td></tr><tr><td>Training</td><td>Nuclear Power Engineer</td><td>null</td><td>null</td><td>1</td><td>null</td></tr><tr><td>Training</td><td>Office Assistant II</td><td>null</td><td>null</td><td>1</td><td>null</td></tr><tr><td>Training</td><td>Operator</td><td>null</td><td>null</td><td>1</td><td>null</td></tr><tr><td>Training</td><td>Paralegal</td><td>null</td><td>null</td><td>null</td><td>1</td></tr><tr><td>Training</td><td>Pharmacist</td><td>null</td><td>2</td><td>1</td><td>null</td></tr><tr><td>Training</td><td>Programmer I</td><td>null</td><td>null</td><td>1</td><td>null</td></tr><tr><td>Training</td><td>Programmer IV</td><td>null</td><td>1</td><td>1</td><td>1</td></tr><tr><td>Training</td><td>Quality Control Specialist</td><td>null</td><td>null</td><td>1</td><td>null</td></tr><tr><td>Training</td><td>Quality Engineer</td><td>2</td><td>null</td><td>1</td><td>null</td></tr><tr><td>Training</td><td>Recruiter</td><td>null</td><td>null</td><td>null</td><td>2</td></tr><tr><td>Training</td><td>Registered Nurse</td><td>1</td><td>null</td><td>null</td><td>null</td></tr><tr><td>Training</td><td>Research Assistant IV</td><td>1</td><td>null</td><td>1</td><td>2</td></tr><tr><td>Training</td><td>Research Associate</td><td>null</td><td>null</td><td>1</td><td>null</td></tr><tr><td>Training</td><td>Sales Representative</td><td>null</td><td>1</td><td>1</td><td>2</td></tr><tr><td>Training</td><td>Senior Editor</td><td>null</td><td>1</td><td>null</td><td>2</td></tr><tr><td>Training</td><td>Senior Financial Analyst</td><td>null</td><td>null</td><td>null</td><td>1</td></tr><tr><td>Training</td><td>Software Engineer I</td><td>null</td><td>null</td><td>null</td><td>1</td></tr><tr><td>Training</td><td>Software Engineer III</td><td>null</td><td>null</td><td>1</td><td>null</td></tr><tr><td>Training</td><td>Software Test Engineer IV</td><td>1</td><td>null</td><td>null</td><td>null</td></tr><tr><td>Training</td><td>Staff Accountant III</td><td>null</td><td>null</td><td>null</td><td>1</td></tr><tr><td>Training</td><td>Staff Accountant IV</td><td>null</td><td>null</td><td>1</td><td>2</td></tr><tr><td>Training</td><td>Staff Scientist</td><td>null</td><td>1</td><td>2</td><td>null</td></tr><tr><td>Training</td><td>Statistician II</td><td>1</td><td>null</td><td>null</td><td>null</td></tr><tr><td>Training</td><td>Statistician III</td><td>null</td><td>1</td><td>null</td><td>null</td></tr><tr><td>Training</td><td>Structural Analysis Engineer</td><td>1</td><td>null</td><td>null</td><td>null</td></tr><tr><td>Training</td><td>Structural Engineer</td><td>null</td><td>1</td><td>null</td><td>null</td></tr><tr><td>Training</td><td>Systems Administrator II</td><td>null</td><td>1</td><td>null</td><td>null</td></tr><tr><td>Training</td><td>Systems Administrator IV</td><td>1</td><td>null</td><td>2</td><td>null</td></tr><tr><td>Training</td><td>Teacher</td><td>null</td><td>2</td><td>null</td><td>null</td></tr><tr><td>Training</td><td>Technical Writer</td><td>null</td><td>null</td><td>1</td><td>null</td></tr><tr><td>Training</td><td>VP Product Management</td><td>1</td><td>null</td><td>null</td><td>null</td></tr><tr><td>Training</td><td>VP Quality Control</td><td>null</td><td>1</td><td>null</td><td>null</td></tr><tr><td>Training</td><td>Web Developer III</td><td>null</td><td>1</td><td>null</td><td>null</td></tr></tbody></table></div>"
      ]
     },
     "metadata": {
      "application/vnd.databricks.v1+output": {
       "addedWidgets": {},
       "aggData": [],
       "aggError": "",
       "aggOverflow": false,
       "aggSchema": [],
       "aggSeriesLimitReached": false,
       "aggType": "",
       "arguments": {},
       "columnCustomDisplayInfos": {},
       "data": [
        [
         null,
         "Administrative Assistant I",
         null,
         null,
         1,
         null
        ],
        [
         null,
         "Analog Circuit Design manager",
         null,
         null,
         null,
         1
        ],
        [
         null,
         "Assistant Media Planner",
         null,
         null,
         null,
         1
        ],
        [
         null,
         "Database Administrator III",
         null,
         null,
         null,
         1
        ],
        [
         null,
         "Dental Hygienist",
         null,
         1,
         null,
         null
        ],
        [
         null,
         "Junior Executive",
         null,
         1,
         null,
         null
        ],
        [
         null,
         "Nurse",
         null,
         null,
         1,
         null
        ],
        [
         null,
         "Occupational Therapist",
         1,
         null,
         null,
         null
        ],
        [
         null,
         "Project Manager",
         null,
         null,
         1,
         null
        ],
        [
         null,
         "Research Assistant II",
         null,
         1,
         null,
         null
        ],
        [
         null,
         "Senior Editor",
         null,
         1,
         null,
         1
        ],
        [
         null,
         "Senior Financial Analyst",
         null,
         null,
         null,
         1
        ],
        [
         null,
         "Software Engineer I",
         null,
         null,
         null,
         1
        ],
        [
         null,
         "Web Developer I",
         null,
         null,
         null,
         1
        ],
        [
         "Accounting",
         "Account Representative IV",
         1,
         null,
         null,
         null
        ],
        [
         "Accounting",
         "Actuary",
         null,
         1,
         null,
         null
        ],
        [
         "Accounting",
         "Analyst Programmer",
         null,
         null,
         1,
         null
        ],
        [
         "Accounting",
         "Budget/Accounting Analyst III",
         null,
         1,
         null,
         null
        ],
        [
         "Accounting",
         "Cost Accountant",
         null,
         1,
         null,
         null
        ],
        [
         "Accounting",
         "Database Administrator III",
         null,
         null,
         null,
         1
        ],
        [
         "Accounting",
         "Desktop Support Technician",
         null,
         null,
         1,
         null
        ],
        [
         "Accounting",
         "Food Chemist",
         1,
         null,
         null,
         null
        ],
        [
         "Accounting",
         "Graphic Designer",
         null,
         1,
         null,
         null
        ],
        [
         "Accounting",
         "Health Coach III",
         null,
         null,
         null,
         1
        ],
        [
         "Accounting",
         "Health Coach IV",
         null,
         null,
         1,
         null
        ],
        [
         "Accounting",
         "Help Desk Technician",
         null,
         null,
         1,
         null
        ],
        [
         "Accounting",
         "Junior Executive",
         null,
         null,
         1,
         null
        ],
        [
         "Accounting",
         "Legal Assistant",
         null,
         null,
         1,
         1
        ],
        [
         "Accounting",
         "Media Manager III",
         null,
         1,
         null,
         null
        ],
        [
         "Accounting",
         "Programmer Analyst IV",
         null,
         1,
         1,
         1
        ],
        [
         "Accounting",
         "Programmer III",
         null,
         null,
         1,
         null
        ],
        [
         "Accounting",
         "Research Assistant IV",
         null,
         null,
         1,
         null
        ],
        [
         "Accounting",
         "Sales Representative",
         1,
         null,
         1,
         null
        ],
        [
         "Accounting",
         "Senior Cost Accountant",
         null,
         null,
         null,
         1
        ],
        [
         "Accounting",
         "Senior Developer",
         null,
         null,
         null,
         1
        ],
        [
         "Accounting",
         "Software Test Engineer IV",
         null,
         null,
         1,
         null
        ],
        [
         "Accounting",
         "Statistician I",
         null,
         null,
         null,
         1
        ],
        [
         "Accounting",
         "Statistician II",
         null,
         null,
         null,
         2
        ],
        [
         "Accounting",
         "Structural Analysis Engineer",
         null,
         1,
         2,
         null
        ],
        [
         "Accounting",
         "VP Accounting",
         null,
         null,
         1,
         null
        ],
        [
         "Accounting",
         "Web Designer I",
         null,
         null,
         null,
         1
        ],
        [
         "Accounting",
         "Web Designer III",
         null,
         null,
         null,
         1
        ],
        [
         "Accounting",
         "Web Developer I",
         null,
         1,
         null,
         null
        ],
        [
         "Accounting",
         "Web Developer III",
         null,
         null,
         null,
         2
        ],
        [
         "Business Development",
         "Account Executive",
         null,
         2,
         null,
         1
        ],
        [
         "Business Development",
         "Account Representative III",
         null,
         1,
         null,
         null
        ],
        [
         "Business Development",
         "Account Representative IV",
         null,
         1,
         null,
         1
        ],
        [
         "Business Development",
         "Accountant I",
         null,
         null,
         1,
         null
        ],
        [
         "Business Development",
         "Accountant IV",
         null,
         2,
         1,
         null
        ],
        [
         "Business Development",
         "Accounting Assistant I",
         null,
         null,
         1,
         null
        ],
        [
         "Business Development",
         "Actuary",
         1,
         null,
         1,
         1
        ],
        [
         "Business Development",
         "Administrative Assistant I",
         1,
         null,
         null,
         null
        ],
        [
         "Business Development",
         "Administrative Assistant III",
         1,
         null,
         null,
         null
        ],
        [
         "Business Development",
         "Administrative Officer",
         null,
         1,
         null,
         null
        ],
        [
         "Business Development",
         "Analog Circuit Design manager",
         1,
         2,
         1,
         null
        ],
        [
         "Business Development",
         "Analyst Programmer",
         null,
         1,
         null,
         null
        ],
        [
         "Business Development",
         "Assistant Manager",
         null,
         null,
         null,
         1
        ],
        [
         "Business Development",
         "Associate Professor",
         null,
         null,
         1,
         null
        ],
        [
         "Business Development",
         "Automation Specialist I",
         null,
         null,
         null,
         2
        ],
        [
         "Business Development",
         "Automation Specialist IV",
         null,
         1,
         null,
         null
        ],
        [
         "Business Development",
         "Biostatistician II",
         null,
         null,
         null,
         1
        ],
        [
         "Business Development",
         "Biostatistician III",
         null,
         null,
         null,
         2
        ],
        [
         "Business Development",
         "Budget/Accounting Analyst I",
         1,
         null,
         null,
         null
        ],
        [
         "Business Development",
         "Budget/Accounting Analyst III",
         null,
         1,
         null,
         null
        ],
        [
         "Business Development",
         "Budget/Accounting Analyst IV",
         null,
         1,
         1,
         2
        ],
        [
         "Business Development",
         "Civil Engineer",
         null,
         2,
         null,
         1
        ],
        [
         "Business Development",
         "Clinical Specialist",
         1,
         1,
         null,
         2
        ],
        [
         "Business Development",
         "Community Outreach Specialist",
         null,
         null,
         null,
         1
        ],
        [
         "Business Development",
         "Computer Systems Analyst III",
         null,
         null,
         null,
         1
        ],
        [
         "Business Development",
         "Computer Systems Analyst IV",
         null,
         1,
         null,
         null
        ],
        [
         "Business Development",
         "Database Administrator II",
         null,
         1,
         null,
         null
        ],
        [
         "Business Development",
         "Database Administrator III",
         1,
         null,
         null,
         1
        ],
        [
         "Business Development",
         "Database Administrator IV",
         null,
         null,
         null,
         1
        ],
        [
         "Business Development",
         "Dental Hygienist",
         null,
         null,
         3,
         null
        ],
        [
         "Business Development",
         "Developer II",
         null,
         1,
         1,
         null
        ],
        [
         "Business Development",
         "Director of Sales",
         null,
         null,
         1,
         null
        ],
        [
         "Business Development",
         "Environmental Tech",
         null,
         1,
         null,
         null
        ],
        [
         "Business Development",
         "Executive Secretary",
         null,
         2,
         1,
         null
        ],
        [
         "Business Development",
         "Food Chemist",
         null,
         null,
         null,
         2
        ],
        [
         "Business Development",
         "GIS Technical Architect",
         null,
         1,
         null,
         null
        ],
        [
         "Business Development",
         "General Manager",
         1,
         1,
         2,
         null
        ],
        [
         "Business Development",
         "Geological Engineer",
         null,
         null,
         1,
         1
        ],
        [
         "Business Development",
         "Geologist II",
         null,
         1,
         1,
         1
        ],
        [
         "Business Development",
         "Geologist IV",
         1,
         null,
         null,
         1
        ],
        [
         "Business Development",
         "Graphic Designer",
         null,
         null,
         1,
         1
        ],
        [
         "Business Development",
         "Health Coach IV",
         1,
         1,
         null,
         2
        ],
        [
         "Business Development",
         "Human Resources Assistant III",
         null,
         1,
         null,
         null
        ],
        [
         "Business Development",
         "Human Resources Assistant IV",
         1,
         null,
         1,
         1
        ],
        [
         "Business Development",
         "Information Systems Manager",
         null,
         1,
         null,
         null
        ],
        [
         "Business Development",
         "Internal Auditor",
         null,
         2,
         null,
         null
        ],
        [
         "Business Development",
         "Junior Executive",
         1,
         null,
         2,
         2
        ],
        [
         "Business Development",
         "Legal Assistant",
         null,
         null,
         1,
         1
        ],
        [
         "Business Development",
         "Marketing Manager",
         null,
         1,
         null,
         null
        ],
        [
         "Business Development",
         "Mechanical Systems Engineer",
         null,
         null,
         1,
         1
        ],
        [
         "Business Development",
         "Media Manager III",
         null,
         null,
         null,
         1
        ],
        [
         "Business Development",
         "Occupational Therapist",
         null,
         3,
         null,
         null
        ],
        [
         "Business Development",
         "Office Assistant IV",
         null,
         null,
         1,
         null
        ],
        [
         "Business Development",
         "Pharmacist",
         1,
         null,
         1,
         null
        ],
        [
         "Business Development",
         "Product Engineer",
         null,
         1,
         1,
         1
        ],
        [
         "Business Development",
         "Programmer Analyst II",
         null,
         null,
         1,
         null
        ],
        [
         "Business Development",
         "Programmer I",
         null,
         null,
         1,
         null
        ],
        [
         "Business Development",
         "Programmer III",
         1,
         1,
         1,
         1
        ],
        [
         "Business Development",
         "Programmer IV",
         null,
         1,
         1,
         1
        ],
        [
         "Business Development",
         "Quality Control Specialist",
         1,
         null,
         1,
         2
        ],
        [
         "Business Development",
         "Quality Engineer",
         null,
         1,
         null,
         1
        ],
        [
         "Business Development",
         "Recruiter",
         null,
         2,
         null,
         null
        ],
        [
         "Business Development",
         "Recruiting Manager",
         null,
         null,
         1,
         null
        ],
        [
         "Business Development",
         "Registered Nurse",
         1,
         null,
         null,
         null
        ],
        [
         "Business Development",
         "Research Assistant II",
         null,
         null,
         null,
         1
        ],
        [
         "Business Development",
         "Research Assistant III",
         null,
         1,
         null,
         null
        ],
        [
         "Business Development",
         "Research Assistant IV",
         null,
         1,
         null,
         null
        ],
        [
         "Business Development",
         "Research Nurse",
         null,
         null,
         null,
         2
        ],
        [
         "Business Development",
         "Safety Technician IV",
         null,
         null,
         1,
         null
        ],
        [
         "Business Development",
         "Sales Representative",
         null,
         1,
         null,
         1
        ],
        [
         "Business Development",
         "Senior Cost Accountant",
         1,
         null,
         2,
         1
        ],
        [
         "Business Development",
         "Senior Developer",
         null,
         null,
         1,
         null
        ],
        [
         "Business Development",
         "Senior Editor",
         1,
         1,
         1,
         null
        ],
        [
         "Business Development",
         "Senior Financial Analyst",
         null,
         null,
         null,
         1
        ],
        [
         "Business Development",
         "Senior Quality Engineer",
         null,
         null,
         null,
         1
        ],
        [
         "Business Development",
         "Senior Sales Associate",
         1,
         null,
         null,
         null
        ],
        [
         "Business Development",
         "Software Test Engineer IV",
         2,
         null,
         2,
         null
        ],
        [
         "Business Development",
         "Staff Accountant I",
         null,
         1,
         null,
         null
        ],
        [
         "Business Development",
         "Staff Accountant III",
         null,
         1,
         null,
         null
        ],
        [
         "Business Development",
         "Staff Accountant IV",
         null,
         null,
         null,
         1
        ],
        [
         "Business Development",
         "Staff Scientist",
         1,
         1,
         null,
         null
        ],
        [
         "Business Development",
         "Statistician II",
         null,
         1,
         null,
         null
        ],
        [
         "Business Development",
         "Statistician III",
         null,
         1,
         1,
         null
        ],
        [
         "Business Development",
         "Structural Analysis Engineer",
         null,
         2,
         2,
         1
        ],
        [
         "Business Development",
         "Structural Engineer",
         null,
         1,
         null,
         null
        ],
        [
         "Business Development",
         "Systems Administrator IV",
         1,
         1,
         1,
         1
        ],
        [
         "Business Development",
         "Teacher",
         1,
         1,
         1,
         null
        ],
        [
         "Business Development",
         "Technical Writer",
         1,
         1,
         null,
         null
        ],
        [
         "Business Development",
         "VP Accounting",
         null,
         null,
         null,
         1
        ],
        [
         "Business Development",
         "VP Marketing",
         null,
         null,
         1,
         null
        ],
        [
         "Business Development",
         "VP Product Management",
         1,
         null,
         null,
         null
        ],
        [
         "Business Development",
         "Web Designer I",
         null,
         2,
         null,
         1
        ],
        [
         "Business Development",
         "Web Designer II",
         null,
         null,
         1,
         null
        ],
        [
         "Business Development",
         "Web Designer III",
         null,
         null,
         1,
         null
        ],
        [
         "Business Development",
         "Web Designer IV",
         null,
         null,
         1,
         1
        ],
        [
         "Business Development",
         "Web Developer I",
         1,
         1,
         1,
         1
        ],
        [
         "Business Development",
         "Web Developer II",
         null,
         null,
         null,
         1
        ],
        [
         "Engineering",
         null,
         null,
         1,
         null,
         null
        ],
        [
         "Engineering",
         "Account Coordinator",
         null,
         1,
         1,
         null
        ],
        [
         "Engineering",
         "Account Executive",
         null,
         null,
         null,
         1
        ],
        [
         "Engineering",
         "Account Representative IV",
         null,
         null,
         null,
         1
        ],
        [
         "Engineering",
         "Accountant I",
         1,
         null,
         1,
         null
        ],
        [
         "Engineering",
         "Accounting Assistant IV",
         null,
         null,
         1,
         1
        ],
        [
         "Engineering",
         "Actuary",
         1,
         null,
         null,
         1
        ],
        [
         "Engineering",
         "Administrative Assistant I",
         null,
         null,
         null,
         1
        ],
        [
         "Engineering",
         "Analog Circuit Design manager",
         null,
         null,
         null,
         1
        ],
        [
         "Engineering",
         "Analyst Programmer",
         null,
         null,
         null,
         1
        ],
        [
         "Engineering",
         "Assistant Manager",
         1,
         1,
         1,
         null
        ],
        [
         "Engineering",
         "Assistant Media Planner",
         null,
         1,
         null,
         null
        ],
        [
         "Engineering",
         "Assistant Professor",
         null,
         null,
         null,
         1
        ],
        [
         "Engineering",
         "Associate Professor",
         null,
         1,
         2,
         null
        ],
        [
         "Engineering",
         "Automation Specialist I",
         null,
         null,
         1,
         null
        ],
        [
         "Engineering",
         "Biostatistician III",
         null,
         1,
         1,
         null
        ],
        [
         "Engineering",
         "Budget/Accounting Analyst I",
         null,
         1,
         null,
         2
        ],
        [
         "Engineering",
         "Budget/Accounting Analyst II",
         null,
         1,
         1,
         null
        ],
        [
         "Engineering",
         "Budget/Accounting Analyst III",
         null,
         1,
         null,
         null
        ],
        [
         "Engineering",
         "Budget/Accounting Analyst IV",
         null,
         null,
         null,
         1
        ],
        [
         "Engineering",
         "Chemical Engineer",
         null,
         null,
         null,
         1
        ],
        [
         "Engineering",
         "Civil Engineer",
         1,
         null,
         1,
         2
        ],
        [
         "Engineering",
         "Clinical Specialist",
         null,
         1,
         1,
         2
        ],
        [
         "Engineering",
         "Community Outreach Specialist",
         null,
         1,
         null,
         null
        ],
        [
         "Engineering",
         "Computer Systems Analyst III",
         null,
         null,
         1,
         1
        ],
        [
         "Engineering",
         "Computer Systems Analyst IV",
         null,
         1,
         null,
         null
        ],
        [
         "Engineering",
         "Cost Accountant",
         null,
         null,
         1,
         null
        ],
        [
         "Engineering",
         "Database Administrator I",
         null,
         null,
         1,
         null
        ],
        [
         "Engineering",
         "Database Administrator II",
         null,
         null,
         1,
         1
        ],
        [
         "Engineering",
         "Database Administrator III",
         null,
         null,
         null,
         1
        ],
        [
         "Engineering",
         "Dental Hygienist",
         null,
         null,
         2,
         1
        ],
        [
         "Engineering",
         "Engineer III",
         1,
         null,
         null,
         1
        ],
        [
         "Engineering",
         "Engineer IV",
         null,
         1,
         1,
         null
        ],
        [
         "Engineering",
         "Environmental Tech",
         null,
         null,
         1,
         null
        ],
        [
         "Engineering",
         "Executive Secretary",
         1,
         null,
         null,
         null
        ],
        [
         "Engineering",
         "Financial Analyst",
         null,
         1,
         1,
         null
        ],
        [
         "Engineering",
         "Food Chemist",
         null,
         2,
         2,
         1
        ],
        [
         "Engineering",
         "GIS Technical Architect",
         null,
         1,
         null,
         1
        ],
        [
         "Engineering",
         "General Manager",
         null,
         null,
         null,
         2
        ],
        [
         "Engineering",
         "Geological Engineer",
         1,
         1,
         1,
         null
        ],
        [
         "Engineering",
         "Geologist I",
         null,
         null,
         1,
         null
        ],
        [
         "Engineering",
         "Geologist II",
         null,
         3,
         1,
         null
        ],
        [
         "Engineering",
         "Graphic Designer",
         2,
         null,
         null,
         null
        ],
        [
         "Engineering",
         "Health Coach I",
         null,
         null,
         null,
         1
        ],
        [
         "Engineering",
         "Health Coach III",
         null,
         null,
         null,
         1
        ],
        [
         "Engineering",
         "Health Coach IV",
         null,
         1,
         null,
         3
        ],
        [
         "Engineering",
         "Help Desk Operator",
         null,
         1,
         null,
         null
        ],
        [
         "Engineering",
         "Help Desk Technician",
         null,
         null,
         1,
         null
        ],
        [
         "Engineering",
         "Human Resources Assistant III",
         1,
         null,
         null,
         1
        ],
        [
         "Engineering",
         "Human Resources Assistant IV",
         null,
         null,
         null,
         1
        ],
        [
         "Engineering",
         "Internal Auditor",
         null,
         null,
         null,
         1
        ],
        [
         "Engineering",
         "Junior Executive",
         null,
         null,
         1,
         1
        ],
        [
         "Engineering",
         "Legal Assistant",
         null,
         1,
         null,
         null
        ],
        [
         "Engineering",
         "Marketing Manager",
         null,
         null,
         1,
         null
        ],
        [
         "Engineering",
         "Mechanical Systems Engineer",
         null,
         null,
         1,
         null
        ],
        [
         "Engineering",
         "Media Manager IV",
         null,
         null,
         1,
         null
        ],
        [
         "Engineering",
         "Nuclear Power Engineer",
         null,
         null,
         null,
         1
        ],
        [
         "Engineering",
         "Nurse",
         1,
         1,
         null,
         null
        ],
        [
         "Engineering",
         "Occupational Therapist",
         null,
         null,
         null,
         1
        ],
        [
         "Engineering",
         "Office Assistant II",
         2,
         null,
         null,
         null
        ],
        [
         "Engineering",
         "Payment Adjustment Coordinator",
         1,
         null,
         null,
         null
        ],
        [
         "Engineering",
         "Pharmacist",
         null,
         null,
         null,
         1
        ],
        [
         "Engineering",
         "Physical Therapy Assistant",
         1,
         null,
         null,
         1
        ],
        [
         "Engineering",
         "Product Engineer",
         1,
         null,
         1,
         null
        ],
        [
         "Engineering",
         "Professor",
         null,
         null,
         1,
         null
        ],
        [
         "Engineering",
         "Programmer I",
         null,
         1,
         1,
         null
        ],
        [
         "Engineering",
         "Programmer III",
         1,
         1,
         null,
         1
        ],
        [
         "Engineering",
         "Programmer IV",
         1,
         1,
         1,
         2
        ],
        [
         "Engineering",
         "Project Manager",
         null,
         2,
         1,
         null
        ],
        [
         "Engineering",
         "Quality Control Specialist",
         null,
         null,
         1,
         1
        ],
        [
         "Engineering",
         "Quality Engineer",
         null,
         1,
         5,
         null
        ],
        [
         "Engineering",
         "Recruiter",
         null,
         null,
         3,
         1
        ],
        [
         "Engineering",
         "Recruiting Manager",
         null,
         null,
         1,
         null
        ],
        [
         "Engineering",
         "Research Assistant II",
         null,
         1,
         null,
         null
        ],
        [
         "Engineering",
         "Research Nurse",
         null,
         null,
         1,
         1
        ],
        [
         "Engineering",
         "Safety Technician IV",
         1,
         null,
         null,
         1
        ],
        [
         "Engineering",
         "Sales Associate",
         null,
         null,
         1,
         1
        ],
        [
         "Engineering",
         "Sales Representative",
         null,
         null,
         2,
         2
        ],
        [
         "Engineering",
         "Senior Cost Accountant",
         null,
         1,
         null,
         1
        ],
        [
         "Engineering",
         "Senior Developer",
         1,
         null,
         1,
         1
        ],
        [
         "Engineering",
         "Senior Editor",
         null,
         1,
         null,
         1
        ],
        [
         "Engineering",
         "Senior Quality Engineer",
         null,
         null,
         null,
         2
        ],
        [
         "Engineering",
         "Social Worker",
         null,
         null,
         1,
         null
        ],
        [
         "Engineering",
         "Software Engineer I",
         1,
         null,
         1,
         1
        ],
        [
         "Engineering",
         "Software Engineer III",
         null,
         null,
         null,
         2
        ],
        [
         "Engineering",
         "Software Test Engineer I",
         1,
         null,
         null,
         1
        ],
        [
         "Engineering",
         "Software Test Engineer IV",
         null,
         1,
         null,
         1
        ],
        [
         "Engineering",
         "Staff Accountant IV",
         2,
         null,
         1,
         2
        ],
        [
         "Engineering",
         "Statistician II",
         null,
         1,
         1,
         1
        ],
        [
         "Engineering",
         "Statistician III",
         1,
         1,
         null,
         null
        ],
        [
         "Engineering",
         "Structural Analysis Engineer",
         null,
         null,
         1,
         null
        ],
        [
         "Engineering",
         "Structural Engineer",
         null,
         2,
         null,
         null
        ],
        [
         "Engineering",
         "Systems Administrator II",
         null,
         2,
         null,
         2
        ],
        [
         "Engineering",
         "Tax Accountant",
         null,
         1,
         null,
         1
        ],
        [
         "Engineering",
         "Teacher",
         1,
         null,
         3,
         1
        ],
        [
         "Engineering",
         "Technical Writer",
         null,
         1,
         1,
         null
        ],
        [
         "Engineering",
         "VP Accounting",
         1,
         null,
         null,
         null
        ],
        [
         "Engineering",
         "VP Product Management",
         null,
         null,
         1,
         1
        ],
        [
         "Engineering",
         "Web Designer I",
         null,
         1,
         null,
         5
        ],
        [
         "Engineering",
         "Web Designer II",
         null,
         1,
         null,
         null
        ],
        [
         "Engineering",
         "Web Designer III",
         null,
         null,
         null,
         1
        ],
        [
         "Engineering",
         "Web Designer IV",
         null,
         null,
         1,
         null
        ],
        [
         "Engineering",
         "Web Developer I",
         null,
         1,
         null,
         1
        ],
        [
         "Engineering",
         "Web Developer II",
         null,
         1,
         null,
         null
        ],
        [
         "Human Resources",
         "Account Coordinator",
         1,
         2,
         null,
         null
        ],
        [
         "Human Resources",
         "Account Executive",
         1,
         null,
         null,
         1
        ],
        [
         "Human Resources",
         "Account Representative IV",
         null,
         1,
         null,
         1
        ],
        [
         "Human Resources",
         "Accountant I",
         null,
         null,
         1,
         1
        ],
        [
         "Human Resources",
         "Accounting Assistant II",
         null,
         null,
         null,
         1
        ],
        [
         "Human Resources",
         "Accounting Assistant IV",
         null,
         1,
         null,
         1
        ],
        [
         "Human Resources",
         "Actuary",
         null,
         1,
         1,
         1
        ],
        [
         "Human Resources",
         "Analog Circuit Design manager",
         null,
         null,
         null,
         1
        ],
        [
         "Human Resources",
         "Analyst Programmer",
         null,
         1,
         null,
         1
        ],
        [
         "Human Resources",
         "Assistant Manager",
         1,
         2,
         null,
         null
        ],
        [
         "Human Resources",
         "Assistant Media Planner",
         null,
         null,
         null,
         2
        ],
        [
         "Human Resources",
         "Assistant Professor",
         null,
         2,
         null,
         null
        ],
        [
         "Human Resources",
         "Associate Professor",
         2,
         null,
         null,
         2
        ],
        [
         "Human Resources",
         "Automation Specialist I",
         1,
         null,
         null,
         null
        ],
        [
         "Human Resources",
         "Automation Specialist IV",
         1,
         null,
         null,
         null
        ],
        [
         "Human Resources",
         "Biostatistician III",
         null,
         null,
         1,
         null
        ],
        [
         "Human Resources",
         "Budget/Accounting Analyst I",
         1,
         null,
         null,
         1
        ],
        [
         "Human Resources",
         "Budget/Accounting Analyst III",
         null,
         null,
         null,
         3
        ],
        [
         "Human Resources",
         "Budget/Accounting Analyst IV",
         null,
         null,
         1,
         null
        ],
        [
         "Human Resources",
         "Chemical Engineer",
         1,
         null,
         null,
         null
        ],
        [
         "Human Resources",
         "Civil Engineer",
         null,
         1,
         null,
         null
        ],
        [
         "Human Resources",
         "Clinical Specialist",
         null,
         null,
         null,
         3
        ],
        [
         "Human Resources",
         "Community Outreach Specialist",
         1,
         null,
         null,
         null
        ],
        [
         "Human Resources",
         "Cost Accountant",
         null,
         1,
         1,
         1
        ],
        [
         "Human Resources",
         "Data Coordiator",
         null,
         null,
         null,
         1
        ],
        [
         "Human Resources",
         "Database Administrator I",
         null,
         null,
         null,
         2
        ],
        [
         "Human Resources",
         "Database Administrator III",
         null,
         null,
         1,
         null
        ],
        [
         "Human Resources",
         "Database Administrator IV",
         1,
         null,
         null,
         null
        ],
        [
         "Human Resources",
         "Design Engineer",
         1,
         null,
         null,
         null
        ],
        [
         "Human Resources",
         "Developer III",
         null,
         null,
         null,
         2
        ],
        [
         "Human Resources",
         "Developer IV",
         null,
         null,
         null,
         1
        ],
        [
         "Human Resources",
         "Director of Sales",
         1,
         null,
         2,
         null
        ],
        [
         "Human Resources",
         "Editor",
         null,
         1,
         1,
         null
        ],
        [
         "Human Resources",
         "Electrical Engineer",
         null,
         1,
         null,
         null
        ],
        [
         "Human Resources",
         "Engineer III",
         2,
         null,
         1,
         null
        ],
        [
         "Human Resources",
         "Engineer IV",
         null,
         1,
         null,
         null
        ],
        [
         "Human Resources",
         "Environmental Tech",
         null,
         1,
         null,
         null
        ],
        [
         "Human Resources",
         "Executive Secretary",
         null,
         1,
         1,
         1
        ],
        [
         "Human Resources",
         "Financial Advisor",
         null,
         null,
         null,
         1
        ],
        [
         "Human Resources",
         "Food Chemist",
         null,
         null,
         null,
         1
        ],
        [
         "Human Resources",
         "GIS Technical Architect",
         1,
         null,
         null,
         null
        ],
        [
         "Human Resources",
         "Geological Engineer",
         null,
         2,
         null,
         null
        ],
        [
         "Human Resources",
         "Geologist II",
         null,
         1,
         1,
         1
        ],
        [
         "Human Resources",
         "Geologist IV",
         null,
         null,
         null,
         1
        ],
        [
         "Human Resources",
         "Graphic Designer",
         null,
         2,
         null,
         null
        ],
        [
         "Human Resources",
         "Health Coach I",
         null,
         1,
         null,
         1
        ],
        [
         "Human Resources",
         "Health Coach III",
         null,
         null,
         null,
         1
        ],
        [
         "Human Resources",
         "Health Coach IV",
         null,
         null,
         2,
         null
        ],
        [
         "Human Resources",
         "Human Resources Assistant II",
         null,
         null,
         null,
         1
        ],
        [
         "Human Resources",
         "Human Resources Assistant III",
         null,
         null,
         1,
         null
        ],
        [
         "Human Resources",
         "Human Resources Assistant IV",
         null,
         null,
         1,
         null
        ],
        [
         "Human Resources",
         "Human Resources Manager",
         null,
         1,
         null,
         null
        ],
        [
         "Human Resources",
         "Junior Executive",
         1,
         1,
         1,
         null
        ],
        [
         "Human Resources",
         "Marketing Assistant",
         null,
         1,
         null,
         null
        ],
        [
         "Human Resources",
         "Marketing Manager",
         null,
         2,
         null,
         null
        ],
        [
         "Human Resources",
         "Media Manager III",
         null,
         1,
         1,
         1
        ],
        [
         "Human Resources",
         "Nurse",
         null,
         null,
         1,
         null
        ],
        [
         "Human Resources",
         "Occupational Therapist",
         1,
         null,
         null,
         1
        ],
        [
         "Human Resources",
         "Office Assistant II",
         1,
         1,
         null,
         null
        ],
        [
         "Human Resources",
         "Operator",
         null,
         1,
         null,
         null
        ],
        [
         "Human Resources",
         "Paralegal",
         null,
         null,
         1,
         null
        ],
        [
         "Human Resources",
         "Payment Adjustment Coordinator",
         1,
         null,
         null,
         1
        ],
        [
         "Human Resources",
         "Pharmacist",
         null,
         1,
         null,
         1
        ],
        [
         "Human Resources",
         "Physical Therapy Assistant",
         null,
         null,
         null,
         1
        ],
        [
         "Human Resources",
         "Product Engineer",
         null,
         2,
         1,
         2
        ],
        [
         "Human Resources",
         "Professor",
         null,
         null,
         1,
         1
        ],
        [
         "Human Resources",
         "Programmer Analyst IV",
         1,
         null,
         null,
         null
        ],
        [
         "Human Resources",
         "Programmer III",
         null,
         2,
         1,
         null
        ],
        [
         "Human Resources",
         "Programmer IV",
         null,
         1,
         2,
         null
        ],
        [
         "Human Resources",
         "Quality Control Specialist",
         null,
         2,
         1,
         null
        ],
        [
         "Human Resources",
         "Quality Engineer",
         null,
         null,
         null,
         2
        ],
        [
         "Human Resources",
         "Recruiter",
         null,
         null,
         1,
         1
        ],
        [
         "Human Resources",
         "Recruiting Manager",
         1,
         null,
         1,
         2
        ],
        [
         "Human Resources",
         "Registered Nurse",
         null,
         1,
         null,
         null
        ],
        [
         "Human Resources",
         "Research Assistant I",
         null,
         null,
         1,
         null
        ],
        [
         "Human Resources",
         "Research Assistant II",
         null,
         1,
         null,
         1
        ],
        [
         "Human Resources",
         "Research Assistant IV",
         null,
         null,
         null,
         1
        ],
        [
         "Human Resources",
         "Research Associate",
         null,
         1,
         1,
         null
        ],
        [
         "Human Resources",
         "Safety Technician II",
         null,
         1,
         null,
         1
        ],
        [
         "Human Resources",
         "Safety Technician III",
         null,
         1,
         null,
         null
        ],
        [
         "Human Resources",
         "Sales Representative",
         null,
         null,
         1,
         null
        ],
        [
         "Human Resources",
         "Senior Cost Accountant",
         null,
         null,
         1,
         3
        ],
        [
         "Human Resources",
         "Senior Developer",
         1,
         null,
         null,
         null
        ],
        [
         "Human Resources",
         "Senior Editor",
         null,
         null,
         1,
         2
        ],
        [
         "Human Resources",
         "Senior Financial Analyst",
         null,
         null,
         2,
         null
        ],
        [
         "Human Resources",
         "Senior Quality Engineer",
         null,
         null,
         null,
         1
        ],
        [
         "Human Resources",
         "Social Worker",
         null,
         null,
         null,
         3
        ],
        [
         "Human Resources",
         "Software Engineer I",
         null,
         1,
         null,
         2
        ],
        [
         "Human Resources",
         "Software Engineer III",
         null,
         3,
         null,
         null
        ],
        [
         "Human Resources",
         "Software Engineer IV",
         null,
         null,
         1,
         null
        ],
        [
         "Human Resources",
         "Software Test Engineer IV",
         1,
         null,
         null,
         1
        ],
        [
         "Human Resources",
         "Staff Accountant II",
         null,
         1,
         null,
         null
        ],
        [
         "Human Resources",
         "Staff Accountant IV",
         null,
         1,
         1,
         null
        ],
        [
         "Human Resources",
         "Staff Scientist",
         null,
         null,
         1,
         1
        ],
        [
         "Human Resources",
         "Statistician II",
         null,
         1,
         1,
         null
        ],
        [
         "Human Resources",
         "Structural Analysis Engineer",
         null,
         null,
         1,
         null
        ],
        [
         "Human Resources",
         "Systems Administrator II",
         1,
         null,
         null,
         1
        ],
        [
         "Human Resources",
         "Systems Administrator IV",
         null,
         null,
         1,
         null
        ],
        [
         "Human Resources",
         "Tax Accountant",
         null,
         null,
         null,
         2
        ],
        [
         "Human Resources",
         "Teacher",
         null,
         1,
         null,
         null
        ],
        [
         "Human Resources",
         "Technical Writer",
         1,
         null,
         2,
         null
        ],
        [
         "Human Resources",
         "VP Accounting",
         1,
         null,
         2,
         2
        ],
        [
         "Human Resources",
         "VP Marketing",
         null,
         1,
         null,
         null
        ],
        [
         "Human Resources",
         "VP Quality Control",
         null,
         1,
         null,
         null
        ],
        [
         "Human Resources",
         "Web Designer I",
         null,
         1,
         null,
         null
        ],
        [
         "Human Resources",
         "Web Designer II",
         null,
         1,
         1,
         1
        ],
        [
         "Human Resources",
         "Web Developer I",
         1,
         null,
         null,
         null
        ],
        [
         "Human Resources",
         "Web Developer II",
         1,
         null,
         2,
         2
        ],
        [
         "Legal",
         null,
         null,
         null,
         null,
         1
        ],
        [
         "Legal",
         "Account Coordinator",
         null,
         1,
         null,
         null
        ],
        [
         "Legal",
         "Account Executive",
         null,
         null,
         null,
         1
        ],
        [
         "Legal",
         "Account Representative IV",
         null,
         null,
         null,
         1
        ],
        [
         "Legal",
         "Accountant I",
         null,
         null,
         1,
         null
        ],
        [
         "Legal",
         "Accountant IV",
         null,
         null,
         1,
         null
        ],
        [
         "Legal",
         "Associate Professor",
         null,
         null,
         1,
         1
        ],
        [
         "Legal",
         "Biostatistician II",
         null,
         null,
         1,
         null
        ],
        [
         "Legal",
         "Budget/Accounting Analyst III",
         null,
         null,
         1,
         2
        ],
        [
         "Legal",
         "Chief Design Engineer",
         null,
         1,
         null,
         1
        ],
        [
         "Legal",
         "Computer Systems Analyst IV",
         1,
         null,
         null,
         null
        ],
        [
         "Legal",
         "Database Administrator II",
         null,
         null,
         1,
         null
        ],
        [
         "Legal",
         "Database Administrator III",
         null,
         null,
         null,
         1
        ],
        [
         "Legal",
         "Dental Hygienist",
         null,
         null,
         null,
         1
        ],
        [
         "Legal",
         "Engineer III",
         null,
         null,
         null,
         1
        ],
        [
         "Legal",
         "Engineer IV",
         1,
         null,
         null,
         null
        ],
        [
         "Legal",
         "Financial Advisor",
         null,
         1,
         null,
         1
        ],
        [
         "Legal",
         "Geologist I",
         null,
         null,
         1,
         null
        ],
        [
         "Legal",
         "Geologist II",
         null,
         null,
         null,
         1
        ],
        [
         "Legal",
         "Health Coach IV",
         null,
         null,
         null,
         1
        ],
        [
         "Legal",
         "Human Resources Assistant IV",
         null,
         1,
         null,
         null
        ],
        [
         "Legal",
         "Internal Auditor",
         null,
         1,
         null,
         null
        ],
        [
         "Legal",
         "Marketing Manager",
         1,
         null,
         null,
         null
        ],
        [
         "Legal",
         "Media Manager III",
         null,
         null,
         null,
         1
        ],
        [
         "Legal",
         "Occupational Therapist",
         null,
         1,
         1,
         null
        ],
        [
         "Legal",
         "Office Assistant IV",
         1,
         null,
         null,
         null
        ],
        [
         "Legal",
         "Programmer Analyst II",
         null,
         1,
         null,
         null
        ],
        [
         "Legal",
         "Programmer III",
         null,
         null,
         null,
         1
        ],
        [
         "Legal",
         "Quality Engineer",
         null,
         null,
         1,
         null
        ],
        [
         "Legal",
         "Recruiter",
         null,
         null,
         1,
         null
        ],
        [
         "Legal",
         "Senior Editor",
         null,
         1,
         null,
         null
        ],
        [
         "Legal",
         "Senior Financial Analyst",
         null,
         null,
         1,
         null
        ],
        [
         "Legal",
         "Senior Quality Engineer",
         null,
         null,
         null,
         1
        ],
        [
         "Legal",
         "Software Engineer I",
         null,
         null,
         null,
         1
        ],
        [
         "Legal",
         "Software Test Engineer I",
         null,
         null,
         null,
         1
        ],
        [
         "Legal",
         "Software Test Engineer IV",
         null,
         null,
         1,
         1
        ],
        [
         "Legal",
         "Staff Scientist",
         null,
         null,
         null,
         1
        ],
        [
         "Legal",
         "Statistician I",
         null,
         null,
         1,
         null
        ],
        [
         "Legal",
         "Statistician II",
         1,
         null,
         1,
         null
        ],
        [
         "Legal",
         "Structural Engineer",
         null,
         1,
         1,
         null
        ],
        [
         "Legal",
         "Systems Administrator II",
         null,
         null,
         1,
         null
        ],
        [
         "Legal",
         "Tax Accountant",
         null,
         null,
         null,
         1
        ],
        [
         "Legal",
         "Teacher",
         1,
         null,
         null,
         1
        ],
        [
         "Legal",
         "Web Developer I",
         null,
         1,
         2,
         null
        ],
        [
         "Legal",
         "Web Developer III",
         null,
         null,
         null,
         1
        ],
        [
         "Marketing",
         null,
         null,
         null,
         1,
         null
        ],
        [
         "Marketing",
         "Account Executive",
         1,
         null,
         null,
         null
        ],
        [
         "Marketing",
         "Accountant I",
         1,
         null,
         1,
         null
        ],
        [
         "Marketing",
         "Accountant IV",
         1,
         null,
         1,
         null
        ],
        [
         "Marketing",
         "Accounting Assistant IV",
         null,
         3,
         null,
         null
        ],
        [
         "Marketing",
         "Administrative Assistant I",
         1,
         null,
         null,
         null
        ],
        [
         "Marketing",
         "Analyst Programmer",
         1,
         1,
         1,
         null
        ],
        [
         "Marketing",
         "Assistant Manager",
         null,
         null,
         null,
         2
        ],
        [
         "Marketing",
         "Assistant Professor",
         1,
         1,
         1,
         null
        ],
        [
         "Marketing",
         "Associate Professor",
         1,
         null,
         null,
         null
        ],
        [
         "Marketing",
         "Biostatistician II",
         null,
         1,
         null,
         2
        ],
        [
         "Marketing",
         "Biostatistician III",
         null,
         null,
         2,
         1
        ],
        [
         "Marketing",
         "Budget/Accounting Analyst II",
         1,
         null,
         null,
         2
        ],
        [
         "Marketing",
         "Budget/Accounting Analyst IV",
         1,
         1,
         null,
         null
        ],
        [
         "Marketing",
         "Chemical Engineer",
         null,
         null,
         null,
         1
        ],
        [
         "Marketing",
         "Civil Engineer",
         null,
         1,
         1,
         null
        ],
        [
         "Marketing",
         "Clinical Specialist",
         null,
         null,
         null,
         1
        ],
        [
         "Marketing",
         "Computer Systems Analyst II",
         null,
         1,
         null,
         null
        ],
        [
         "Marketing",
         "Computer Systems Analyst III",
         null,
         1,
         1,
         null
        ],
        [
         "Marketing",
         "Computer Systems Analyst IV",
         null,
         1,
         3,
         null
        ],
        [
         "Marketing",
         "Cost Accountant",
         2,
         null,
         null,
         1
        ],
        [
         "Marketing",
         "Data Coordiator",
         1,
         1,
         null,
         null
        ],
        [
         "Marketing",
         "Database Administrator III",
         null,
         null,
         null,
         1
        ],
        [
         "Marketing",
         "Database Administrator IV",
         null,
         1,
         null,
         null
        ],
        [
         "Marketing",
         "Dental Hygienist",
         null,
         1,
         null,
         2
        ],
        [
         "Marketing",
         "Desktop Support Technician",
         1,
         null,
         null,
         null
        ],
        [
         "Marketing",
         "Developer IV",
         null,
         null,
         null,
         1
        ],
        [
         "Marketing",
         "Electrical Engineer",
         null,
         1,
         1,
         null
        ],
        [
         "Marketing",
         "Engineer IV",
         1,
         null,
         null,
         null
        ],
        [
         "Marketing",
         "Environmental Tech",
         null,
         null,
         null,
         1
        ],
        [
         "Marketing",
         "Executive Secretary",
         1,
         null,
         null,
         null
        ],
        [
         "Marketing",
         "Financial Analyst",
         null,
         null,
         1,
         null
        ],
        [
         "Marketing",
         "Food Chemist",
         1,
         2,
         null,
         null
        ],
        [
         "Marketing",
         "GIS Technical Architect",
         null,
         null,
         null,
         1
        ],
        [
         "Marketing",
         "General Manager",
         null,
         null,
         1,
         null
        ],
        [
         "Marketing",
         "Geologist II",
         null,
         null,
         null,
         1
        ],
        [
         "Marketing",
         "Graphic Designer",
         1,
         1,
         null,
         null
        ],
        [
         "Marketing",
         "Health Coach I",
         1,
         null,
         null,
         null
        ],
        [
         "Marketing",
         "Health Coach III",
         null,
         1,
         1,
         null
        ],
        [
         "Marketing",
         "Health Coach IV",
         1,
         1,
         null,
         1
        ],
        [
         "Marketing",
         "Human Resources Assistant III",
         1,
         null,
         null,
         null
        ],
        [
         "Marketing",
         "Human Resources Manager",
         null,
         1,
         null,
         null
        ],
        [
         "Marketing",
         "Internal Auditor",
         null,
         null,
         1,
         null
        ],
        [
         "Marketing",
         "Mechanical Systems Engineer",
         2,
         null,
         null,
         null
        ],
        [
         "Marketing",
         "Media Manager IV",
         null,
         1,
         null,
         null
        ],
        [
         "Marketing",
         "Nuclear Power Engineer",
         1,
         null,
         null,
         1
        ],
        [
         "Marketing",
         "Nurse",
         null,
         1,
         null,
         null
        ],
        [
         "Marketing",
         "Nurse Practicioner",
         null,
         null,
         1,
         null
        ],
        [
         "Marketing",
         "Occupational Therapist",
         null,
         null,
         null,
         1
        ],
        [
         "Marketing",
         "Office Assistant III",
         null,
         1,
         null,
         null
        ],
        [
         "Marketing",
         "Pharmacist",
         null,
         null,
         2,
         null
        ],
        [
         "Marketing",
         "Physical Therapy Assistant",
         null,
         null,
         2,
         null
        ],
        [
         "Marketing",
         "Product Engineer",
         null,
         2,
         null,
         null
        ],
        [
         "Marketing",
         "Professor",
         null,
         null,
         1,
         null
        ],
        [
         "Marketing",
         "Programmer IV",
         null,
         null,
         1,
         null
        ],
        [
         "Marketing",
         "Quality Control Specialist",
         null,
         null,
         null,
         1
        ],
        [
         "Marketing",
         "Quality Engineer",
         null,
         null,
         1,
         null
        ],
        [
         "Marketing",
         "Recruiter",
         null,
         null,
         1,
         null
        ],
        [
         "Marketing",
         "Recruiting Manager",
         null,
         null,
         null,
         1
        ],
        [
         "Marketing",
         "Registered Nurse",
         null,
         null,
         null,
         1
        ],
        [
         "Marketing",
         "Research Assistant IV",
         null,
         1,
         null,
         null
        ],
        [
         "Marketing",
         "Safety Technician I",
         null,
         1,
         null,
         null
        ],
        [
         "Marketing",
         "Safety Technician II",
         1,
         null,
         null,
         1
        ],
        [
         "Marketing",
         "Safety Technician IV",
         null,
         null,
         1,
         null
        ],
        [
         "Marketing",
         "Sales Representative",
         null,
         2,
         null,
         1
        ],
        [
         "Marketing",
         "Senior Cost Accountant",
         null,
         null,
         1,
         null
        ],
        [
         "Marketing",
         "Senior Developer",
         null,
         null,
         null,
         1
        ],
        [
         "Marketing",
         "Senior Editor",
         1,
         null,
         null,
         null
        ],
        [
         "Marketing",
         "Senior Financial Analyst",
         null,
         1,
         null,
         null
        ],
        [
         "Marketing",
         "Software Engineer IV",
         null,
         null,
         null,
         1
        ],
        [
         "Marketing",
         "Software Test Engineer I",
         null,
         null,
         null,
         1
        ],
        [
         "Marketing",
         "Software Test Engineer IV",
         null,
         null,
         1,
         null
        ],
        [
         "Marketing",
         "Staff Accountant II",
         1,
         null,
         1,
         null
        ],
        [
         "Marketing",
         "Staff Accountant III",
         1,
         null,
         null,
         null
        ],
        [
         "Marketing",
         "Staff Scientist",
         null,
         1,
         null,
         null
        ],
        [
         "Marketing",
         "Statistician I",
         null,
         null,
         null,
         1
        ],
        [
         "Marketing",
         "Statistician II",
         1,
         3,
         2,
         null
        ],
        [
         "Marketing",
         "Structural Engineer",
         1,
         null,
         null,
         null
        ],
        [
         "Marketing",
         "Systems Administrator IV",
         null,
         1,
         null,
         null
        ],
        [
         "Marketing",
         "Tax Accountant",
         null,
         1,
         null,
         1
        ],
        [
         "Marketing",
         "Teacher",
         2,
         null,
         1,
         1
        ],
        [
         "Marketing",
         "Technical Writer",
         1,
         null,
         null,
         null
        ],
        [
         "Marketing",
         "VP Accounting",
         null,
         1,
         2,
         null
        ],
        [
         "Marketing",
         "VP Marketing",
         null,
         null,
         1,
         null
        ],
        [
         "Marketing",
         "VP Product Management",
         null,
         null,
         2,
         null
        ],
        [
         "Marketing",
         "VP Quality Control",
         null,
         null,
         null,
         1
        ],
        [
         "Marketing",
         "Web Designer I",
         null,
         null,
         1,
         null
        ],
        [
         "Marketing",
         "Web Developer I",
         null,
         null,
         1,
         null
        ],
        [
         "Marketing",
         "Web Developer III",
         null,
         null,
         1,
         null
        ],
        [
         "Product Management",
         "Account Representative III",
         1,
         null,
         null,
         null
        ],
        [
         "Product Management",
         "Accountant I",
         null,
         1,
         null,
         null
        ],
        [
         "Product Management",
         "Accounting Assistant IV",
         null,
         null,
         1,
         null
        ],
        [
         "Product Management",
         "Analyst Programmer",
         null,
         null,
         2,
         null
        ],
        [
         "Product Management",
         "Assistant Manager",
         1,
         null,
         null,
         null
        ],
        [
         "Product Management",
         "Automation Specialist I",
         1,
         null,
         null,
         null
        ],
        [
         "Product Management",
         "Budget/Accounting Analyst I",
         null,
         null,
         null,
         1
        ],
        [
         "Product Management",
         "Budget/Accounting Analyst IV",
         1,
         1,
         null,
         null
        ],
        [
         "Product Management",
         "Cost Accountant",
         1,
         null,
         null,
         null
        ],
        [
         "Product Management",
         "Database Administrator I",
         null,
         null,
         null,
         1
        ],
        [
         "Product Management",
         "Electrical Engineer",
         null,
         null,
         null,
         1
        ],
        [
         "Product Management",
         "Engineer IV",
         null,
         1,
         1,
         null
        ],
        [
         "Product Management",
         "Geological Engineer",
         null,
         1,
         null,
         null
        ],
        [
         "Product Management",
         "Graphic Designer",
         null,
         3,
         null,
         null
        ],
        [
         "Product Management",
         "Help Desk Operator",
         1,
         null,
         null,
         1
        ],
        [
         "Product Management",
         "Help Desk Technician",
         null,
         1,
         null,
         null
        ],
        [
         "Product Management",
         "Junior Executive",
         null,
         null,
         null,
         1
        ],
        [
         "Product Management",
         "Legal Assistant",
         null,
         1,
         null,
         null
        ],
        [
         "Product Management",
         "Librarian",
         null,
         1,
         null,
         null
        ],
        [
         "Product Management",
         "Marketing Manager",
         null,
         null,
         null,
         1
        ],
        [
         "Product Management",
         "Nurse Practicioner",
         null,
         1,
         null,
         null
        ],
        [
         "Product Management",
         "Office Assistant IV",
         null,
         null,
         1,
         null
        ],
        [
         "Product Management",
         "Payment Adjustment Coordinator",
         1,
         1,
         null,
         null
        ],
        [
         "Product Management",
         "Pharmacist",
         null,
         null,
         1,
         null
        ],
        [
         "Product Management",
         "Physical Therapy Assistant",
         null,
         null,
         null,
         1
        ],
        [
         "Product Management",
         "Programmer IV",
         null,
         1,
         null,
         null
        ],
        [
         "Product Management",
         "Quality Control Specialist",
         null,
         null,
         1,
         null
        ],
        [
         "Product Management",
         "Research Assistant II",
         null,
         2,
         null,
         null
        ],
        [
         "Product Management",
         "Sales Associate",
         null,
         1,
         null,
         null
        ],
        [
         "Product Management",
         "Senior Editor",
         1,
         null,
         null,
         null
        ],
        [
         "Product Management",
         "Software Consultant",
         1,
         null,
         1,
         null
        ],
        [
         "Product Management",
         "Software Test Engineer I",
         null,
         1,
         null,
         null
        ],
        [
         "Product Management",
         "Software Test Engineer IV",
         null,
         1,
         null,
         null
        ],
        [
         "Product Management",
         "Staff Accountant IV",
         null,
         1,
         null,
         null
        ],
        [
         "Product Management",
         "Staff Scientist",
         1,
         null,
         null,
         null
        ],
        [
         "Product Management",
         "Systems Administrator IV",
         null,
         null,
         null,
         1
        ],
        [
         "Product Management",
         "Technical Writer",
         null,
         null,
         2,
         null
        ],
        [
         "Product Management",
         "Web Developer I",
         null,
         null,
         1,
         1
        ],
        [
         "Research and Development",
         null,
         1,
         null,
         null,
         1
        ],
        [
         "Research and Development",
         "Account Executive",
         null,
         null,
         1,
         1
        ],
        [
         "Research and Development",
         "Account Representative III",
         1,
         null,
         null,
         null
        ],
        [
         "Research and Development",
         "Account Representative IV",
         1,
         null,
         null,
         null
        ],
        [
         "Research and Development",
         "Accounting Assistant IV",
         null,
         null,
         null,
         1
        ],
        [
         "Research and Development",
         "Actuary",
         1,
         null,
         null,
         null
        ],
        [
         "Research and Development",
         "Administrative Officer",
         null,
         1,
         1,
         null
        ],
        [
         "Research and Development",
         "Analog Circuit Design manager",
         null,
         null,
         1,
         null
        ],
        [
         "Research and Development",
         "Assistant Professor",
         null,
         null,
         1,
         2
        ],
        [
         "Research and Development",
         "Associate Professor",
         null,
         1,
         1,
         null
        ],
        [
         "Research and Development",
         "Automation Specialist I",
         null,
         null,
         null,
         1
        ],
        [
         "Research and Development",
         "Biostatistician II",
         1,
         null,
         null,
         null
        ],
        [
         "Research and Development",
         "Biostatistician III",
         null,
         null,
         null,
         2
        ],
        [
         "Research and Development",
         "Budget/Accounting Analyst III",
         null,
         1,
         null,
         1
        ],
        [
         "Research and Development",
         "Budget/Accounting Analyst IV",
         null,
         1,
         1,
         null
        ],
        [
         "Research and Development",
         "Chemical Engineer",
         null,
         null,
         2,
         null
        ],
        [
         "Research and Development",
         "Chief Design Engineer",
         null,
         2,
         null,
         null
        ],
        [
         "Research and Development",
         "Civil Engineer",
         1,
         null,
         null,
         null
        ],
        [
         "Research and Development",
         "Clinical Specialist",
         1,
         1,
         null,
         1
        ],
        [
         "Research and Development",
         "Compensation Analyst",
         null,
         null,
         1,
         null
        ],
        [
         "Research and Development",
         "Computer Systems Analyst III",
         null,
         null,
         1,
         null
        ],
        [
         "Research and Development",
         "Cost Accountant",
         1,
         null,
         1,
         null
        ],
        [
         "Research and Development",
         "Data Coordiator",
         null,
         null,
         null,
         1
        ],
        [
         "Research and Development",
         "Database Administrator II",
         null,
         null,
         1,
         null
        ],
        [
         "Research and Development",
         "Database Administrator III",
         1,
         null,
         null,
         null
        ],
        [
         "Research and Development",
         "Dental Hygienist",
         null,
         null,
         1,
         null
        ],
        [
         "Research and Development",
         "Director of Sales",
         null,
         null,
         1,
         null
        ],
        [
         "Research and Development",
         "Electrical Engineer",
         null,
         null,
         1,
         null
        ],
        [
         "Research and Development",
         "Engineer IV",
         null,
         null,
         1,
         null
        ],
        [
         "Research and Development",
         "Environmental Tech",
         null,
         null,
         1,
         null
        ],
        [
         "Research and Development",
         "Executive Secretary",
         null,
         1,
         null,
         1
        ],
        [
         "Research and Development",
         "Food Chemist",
         null,
         null,
         null,
         1
        ],
        [
         "Research and Development",
         "General Manager",
         1,
         null,
         null,
         null
        ],
        [
         "Research and Development",
         "Geologist II",
         1,
         2,
         null,
         null
        ],
        [
         "Research and Development",
         "Geologist IV",
         null,
         null,
         1,
         null
        ],
        [
         "Research and Development",
         "Graphic Designer",
         null,
         1,
         null,
         2
        ],
        [
         "Research and Development",
         "Health Coach I",
         1,
         null,
         null,
         null
        ],
        [
         "Research and Development",
         "Health Coach III",
         null,
         null,
         1,
         null
        ],
        [
         "Research and Development",
         "Health Coach IV",
         1,
         null,
         null,
         3
        ],
        [
         "Research and Development",
         "Information Systems Manager",
         null,
         null,
         1,
         null
        ],
        [
         "Research and Development",
         "Internal Auditor",
         null,
         null,
         1,
         1
        ],
        [
         "Research and Development",
         "Junior Executive",
         null,
         null,
         1,
         null
        ],
        [
         "Research and Development",
         "Legal Assistant",
         null,
         null,
         1,
         null
        ],
        [
         "Research and Development",
         "Librarian",
         null,
         null,
         1,
         null
        ],
        [
         "Research and Development",
         "Marketing Manager",
         null,
         2,
         null,
         null
        ],
        [
         "Research and Development",
         "Media Manager III",
         null,
         1,
         1,
         1
        ],
        [
         "Research and Development",
         "Nuclear Power Engineer",
         null,
         null,
         2,
         null
        ],
        [
         "Research and Development",
         "Operator",
         null,
         null,
         null,
         2
        ],
        [
         "Research and Development",
         "Paralegal",
         null,
         2,
         null,
         null
        ],
        [
         "Research and Development",
         "Payment Adjustment Coordinator",
         null,
         1,
         null,
         null
        ],
        [
         "Research and Development",
         "Pharmacist",
         1,
         null,
         2,
         null
        ],
        [
         "Research and Development",
         "Programmer Analyst II",
         null,
         null,
         null,
         1
        ],
        [
         "Research and Development",
         "Programmer Analyst IV",
         null,
         null,
         1,
         null
        ],
        [
         "Research and Development",
         "Programmer I",
         null,
         1,
         null,
         2
        ],
        [
         "Research and Development",
         "Programmer III",
         null,
         null,
         null,
         1
        ],
        [
         "Research and Development",
         "Programmer IV",
         null,
         null,
         null,
         1
        ],
        [
         "Research and Development",
         "Project Manager",
         null,
         null,
         null,
         1
        ],
        [
         "Research and Development",
         "Quality Control Specialist",
         null,
         1,
         1,
         null
        ],
        [
         "Research and Development",
         "Recruiter",
         1,
         1,
         2,
         2
        ],
        [
         "Research and Development",
         "Recruiting Manager",
         4,
         null,
         null,
         1
        ],
        [
         "Research and Development",
         "Registered Nurse",
         1,
         null,
         null,
         1
        ],
        [
         "Research and Development",
         "Research Assistant II",
         null,
         1,
         1,
         null
        ],
        [
         "Research and Development",
         "Research Associate",
         null,
         2,
         null,
         null
        ],
        [
         "Research and Development",
         "Sales Associate",
         null,
         null,
         null,
         1
        ],
        [
         "Research and Development",
         "Sales Representative",
         null,
         1,
         null,
         1
        ],
        [
         "Research and Development",
         "Senior Cost Accountant",
         null,
         null,
         1,
         null
        ],
        [
         "Research and Development",
         "Senior Developer",
         null,
         1,
         null,
         null
        ],
        [
         "Research and Development",
         "Senior Editor",
         1,
         null,
         null,
         1
        ],
        [
         "Research and Development",
         "Senior Financial Analyst",
         null,
         null,
         1,
         1
        ],
        [
         "Research and Development",
         "Senior Quality Engineer",
         null,
         null,
         1,
         null
        ],
        [
         "Research and Development",
         "Social Worker",
         1,
         null,
         1,
         null
        ],
        [
         "Research and Development",
         "Software Engineer I",
         null,
         1,
         null,
         null
        ],
        [
         "Research and Development",
         "Software Test Engineer I",
         1,
         null,
         null,
         null
        ],
        [
         "Research and Development",
         "Software Test Engineer IV",
         null,
         null,
         null,
         1
        ],
        [
         "Research and Development",
         "Speech Pathologist",
         null,
         null,
         1,
         null
        ],
        [
         "Research and Development",
         "Staff Accountant IV",
         1,
         null,
         1,
         1
        ],
        [
         "Research and Development",
         "Staff Scientist",
         null,
         null,
         1,
         null
        ],
        [
         "Research and Development",
         "Statistician I",
         null,
         null,
         null,
         2
        ],
        [
         "Research and Development",
         "Statistician II",
         1,
         null,
         null,
         1
        ],
        [
         "Research and Development",
         "Structural Engineer",
         1,
         1,
         1,
         null
        ],
        [
         "Research and Development",
         "Systems Administrator II",
         null,
         1,
         null,
         null
        ],
        [
         "Research and Development",
         "Systems Administrator IV",
         null,
         1,
         null,
         null
        ],
        [
         "Research and Development",
         "Tax Accountant",
         null,
         1,
         1,
         null
        ],
        [
         "Research and Development",
         "Teacher",
         null,
         1,
         2,
         1
        ],
        [
         "Research and Development",
         "Technical Writer",
         null,
         null,
         1,
         1
        ],
        [
         "Research and Development",
         "VP Accounting",
         null,
         null,
         null,
         1
        ],
        [
         "Research and Development",
         "Web Designer I",
         1,
         null,
         null,
         null
        ],
        [
         "Research and Development",
         "Web Designer II",
         null,
         null,
         null,
         1
        ],
        [
         "Research and Development",
         "Web Developer III",
         null,
         1,
         null,
         1
        ],
        [
         "Sales",
         "Account Executive",
         null,
         1,
         null,
         null
        ],
        [
         "Sales",
         "Accounting Assistant II",
         null,
         1,
         null,
         null
        ],
        [
         "Sales",
         "Accounting Assistant IV",
         1,
         null,
         null,
         null
        ],
        [
         "Sales",
         "Actuary",
         null,
         1,
         null,
         null
        ],
        [
         "Sales",
         "Administrative Assistant I",
         null,
         1,
         null,
         null
        ],
        [
         "Sales",
         "Administrative Officer",
         1,
         null,
         null,
         null
        ],
        [
         "Sales",
         "Analyst Programmer",
         null,
         1,
         null,
         null
        ],
        [
         "Sales",
         "Assistant Manager",
         null,
         1,
         1,
         null
        ],
        [
         "Sales",
         "Assistant Professor",
         null,
         null,
         2,
         null
        ],
        [
         "Sales",
         "Associate Professor",
         null,
         2,
         null,
         null
        ],
        [
         "Sales",
         "Biostatistician II",
         null,
         1,
         null,
         null
        ],
        [
         "Sales",
         "Biostatistician III",
         null,
         2,
         null,
         1
        ],
        [
         "Sales",
         "Budget/Accounting Analyst III",
         1,
         null,
         null,
         null
        ],
        [
         "Sales",
         "Budget/Accounting Analyst IV",
         null,
         null,
         2,
         1
        ],
        [
         "Sales",
         "Business Systems Development Analyst",
         null,
         null,
         null,
         1
        ],
        [
         "Sales",
         "Chief Design Engineer",
         null,
         1,
         null,
         null
        ],
        [
         "Sales",
         "Civil Engineer",
         1,
         null,
         1,
         null
        ],
        [
         "Sales",
         "Clinical Specialist",
         null,
         1,
         null,
         null
        ],
        [
         "Sales",
         "Computer Systems Analyst I",
         null,
         null,
         1,
         null
        ],
        [
         "Sales",
         "Computer Systems Analyst IV",
         null,
         null,
         null,
         1
        ],
        [
         "Sales",
         "Cost Accountant",
         1,
         1,
         1,
         null
        ],
        [
         "Sales",
         "Database Administrator III",
         null,
         null,
         1,
         null
        ],
        [
         "Sales",
         "Design Engineer",
         1,
         null,
         null,
         null
        ],
        [
         "Sales",
         "Director of Sales",
         null,
         1,
         null,
         2
        ],
        [
         "Sales",
         "Engineer III",
         1,
         null,
         null,
         null
        ],
        [
         "Sales",
         "Engineer IV",
         null,
         1,
         null,
         null
        ],
        [
         "Sales",
         "Financial Analyst",
         null,
         null,
         null,
         1
        ],
        [
         "Sales",
         "Geologist II",
         null,
         2,
         null,
         2
        ],
        [
         "Sales",
         "Geologist IV",
         null,
         null,
         1,
         1
        ],
        [
         "Sales",
         "Graphic Designer",
         1,
         null,
         null,
         null
        ],
        [
         "Sales",
         "Health Coach I",
         1,
         null,
         null,
         null
        ],
        [
         "Sales",
         "Health Coach III",
         null,
         null,
         2,
         2
        ],
        [
         "Sales",
         "Human Resources Manager",
         null,
         1,
         null,
         null
        ],
        [
         "Sales",
         "Librarian",
         null,
         1,
         null,
         null
        ],
        [
         "Sales",
         "Mechanical Systems Engineer",
         null,
         1,
         1,
         null
        ],
        [
         "Sales",
         "Media Manager II",
         null,
         null,
         null,
         1
        ],
        [
         "Sales",
         "Nurse",
         null,
         null,
         1,
         null
        ],
        [
         "Sales",
         "Nurse Practicioner",
         1,
         null,
         null,
         null
        ],
        [
         "Sales",
         "Pharmacist",
         null,
         null,
         null,
         1
        ],
        [
         "Sales",
         "Programmer IV",
         null,
         1,
         null,
         2
        ],
        [
         "Sales",
         "Quality Control Specialist",
         null,
         null,
         null,
         1
        ],
        [
         "Sales",
         "Recruiter",
         null,
         2,
         null,
         null
        ],
        [
         "Sales",
         "Recruiting Manager",
         null,
         1,
         2,
         null
        ],
        [
         "Sales",
         "Research Assistant II",
         1,
         1,
         null,
         null
        ],
        [
         "Sales",
         "Research Assistant IV",
         null,
         1,
         null,
         null
        ],
        [
         "Sales",
         "Senior Financial Analyst",
         1,
         2,
         null,
         null
        ],
        [
         "Sales",
         "Senior Quality Engineer",
         null,
         null,
         1,
         null
        ],
        [
         "Sales",
         "Social Worker",
         null,
         null,
         null,
         1
        ],
        [
         "Sales",
         "Software Test Engineer IV",
         null,
         1,
         null,
         null
        ],
        [
         "Sales",
         "Staff Accountant I",
         null,
         1,
         null,
         null
        ],
        [
         "Sales",
         "Staff Accountant III",
         null,
         1,
         null,
         null
        ],
        [
         "Sales",
         "Staff Accountant IV",
         null,
         null,
         1,
         null
        ],
        [
         "Sales",
         "Staff Scientist",
         null,
         null,
         null,
         1
        ],
        [
         "Sales",
         "Statistician II",
         1,
         1,
         null,
         null
        ],
        [
         "Sales",
         "Systems Administrator IV",
         1,
         null,
         1,
         null
        ],
        [
         "Sales",
         "Teacher",
         null,
         null,
         1,
         1
        ],
        [
         "Sales",
         "VP Accounting",
         null,
         null,
         1,
         3
        ],
        [
         "Sales",
         "Web Designer I",
         1,
         null,
         null,
         null
        ],
        [
         "Sales",
         "Web Developer III",
         1,
         null,
         null,
         1
        ],
        [
         "Services",
         null,
         1,
         1,
         null,
         null
        ],
        [
         "Services",
         "Account Coordinator",
         null,
         null,
         null,
         1
        ],
        [
         "Services",
         "Account Executive",
         null,
         null,
         2,
         null
        ],
        [
         "Services",
         "Accountant I",
         null,
         null,
         null,
         1
        ],
        [
         "Services",
         "Accountant III",
         null,
         null,
         1,
         null
        ],
        [
         "Services",
         "Accounting Assistant I",
         null,
         1,
         null,
         null
        ],
        [
         "Services",
         "Accounting Assistant IV",
         null,
         1,
         null,
         null
        ],
        [
         "Services",
         "Administrative Assistant I",
         1,
         null,
         null,
         null
        ],
        [
         "Services",
         "Analog Circuit Design manager",
         null,
         null,
         null,
         1
        ],
        [
         "Services",
         "Analyst Programmer",
         null,
         1,
         1,
         1
        ],
        [
         "Services",
         "Assistant Professor",
         null,
         null,
         null,
         1
        ],
        [
         "Services",
         "Associate Professor",
         null,
         1,
         2,
         null
        ],
        [
         "Services",
         "Biostatistician II",
         null,
         1,
         null,
         null
        ],
        [
         "Services",
         "Biostatistician III",
         null,
         1,
         1,
         1
        ],
        [
         "Services",
         "Biostatistician IV",
         null,
         1,
         1,
         null
        ],
        [
         "Services",
         "Budget/Accounting Analyst II",
         null,
         null,
         1,
         null
        ],
        [
         "Services",
         "Budget/Accounting Analyst III",
         null,
         2,
         null,
         null
        ],
        [
         "Services",
         "Budget/Accounting Analyst IV",
         null,
         3,
         1,
         null
        ],
        [
         "Services",
         "Chemical Engineer",
         null,
         1,
         null,
         null
        ],
        [
         "Services",
         "Chief Design Engineer",
         null,
         null,
         null,
         1
        ],
        [
         "Services",
         "Civil Engineer",
         null,
         null,
         1,
         1
        ],
        [
         "Services",
         "Clinical Specialist",
         1,
         1,
         2,
         1
        ],
        [
         "Services",
         "Community Outreach Specialist",
         1,
         1,
         2,
         null
        ],
        [
         "Services",
         "Computer Systems Analyst IV",
         null,
         null,
         1,
         null
        ],
        [
         "Services",
         "Cost Accountant",
         1,
         null,
         null,
         null
        ],
        [
         "Services",
         "Data Coordiator",
         null,
         1,
         null,
         1
        ],
        [
         "Services",
         "Database Administrator I",
         null,
         null,
         2,
         null
        ],
        [
         "Services",
         "Database Administrator IV",
         null,
         1,
         null,
         null
        ],
        [
         "Services",
         "Dental Hygienist",
         null,
         2,
         null,
         null
        ],
        [
         "Services",
         "Design Engineer",
         null,
         null,
         1,
         null
        ],
        [
         "Services",
         "Developer I",
         null,
         1,
         2,
         null
        ],
        [
         "Services",
         "Developer II",
         null,
         1,
         null,
         null
        ],
        [
         "Services",
         "Developer III",
         null,
         null,
         1,
         null
        ],
        [
         "Services",
         "Director of Sales",
         null,
         null,
         null,
         1
        ],
        [
         "Services",
         "Engineer I",
         null,
         1,
         null,
         null
        ],
        [
         "Services",
         "Engineer III",
         null,
         null,
         3,
         null
        ],
        [
         "Services",
         "Engineer IV",
         null,
         1,
         null,
         null
        ],
        [
         "Services",
         "Environmental Tech",
         null,
         1,
         null,
         null
        ],
        [
         "Services",
         "Executive Secretary",
         null,
         null,
         1,
         1
        ],
        [
         "Services",
         "Food Chemist",
         1,
         1,
         null,
         2
        ],
        [
         "Services",
         "GIS Technical Architect",
         1,
         1,
         null,
         null
        ],
        [
         "Services",
         "General Manager",
         null,
         1,
         null,
         null
        ],
        [
         "Services",
         "Geological Engineer",
         null,
         null,
         null,
         1
        ],
        [
         "Services",
         "Geologist I",
         null,
         null,
         1,
         1
        ],
        [
         "Services",
         "Geologist II",
         1,
         1,
         null,
         null
        ],
        [
         "Services",
         "Geologist IV",
         null,
         null,
         null,
         3
        ],
        [
         "Services",
         "Graphic Designer",
         null,
         1,
         null,
         null
        ],
        [
         "Services",
         "Health Coach III",
         null,
         null,
         null,
         1
        ],
        [
         "Services",
         "Health Coach IV",
         null,
         null,
         1,
         null
        ],
        [
         "Services",
         "Human Resources Assistant II",
         null,
         1,
         1,
         null
        ],
        [
         "Services",
         "Human Resources Assistant IV",
         1,
         null,
         null,
         1
        ],
        [
         "Services",
         "Human Resources Manager",
         null,
         1,
         null,
         1
        ],
        [
         "Services",
         "Information Systems Manager",
         null,
         null,
         1,
         null
        ],
        [
         "Services",
         "Internal Auditor",
         null,
         3,
         null,
         null
        ],
        [
         "Services",
         "Junior Executive",
         null,
         1,
         1,
         null
        ],
        [
         "Services",
         "Legal Assistant",
         1,
         null,
         null,
         null
        ],
        [
         "Services",
         "Librarian",
         null,
         1,
         null,
         1
        ],
        [
         "Services",
         "Media Manager III",
         null,
         null,
         null,
         2
        ],
        [
         "Services",
         "Media Manager IV",
         null,
         null,
         1,
         null
        ],
        [
         "Services",
         "Nuclear Power Engineer",
         1,
         null,
         null,
         null
        ],
        [
         "Services",
         "Nurse Practicioner",
         null,
         1,
         null,
         null
        ],
        [
         "Services",
         "Occupational Therapist",
         null,
         1,
         1,
         null
        ],
        [
         "Services",
         "Operator",
         null,
         null,
         1,
         null
        ],
        [
         "Services",
         "Payment Adjustment Coordinator",
         null,
         null,
         null,
         1
        ],
        [
         "Services",
         "Pharmacist",
         null,
         null,
         null,
         1
        ],
        [
         "Services",
         "Physical Therapy Assistant",
         null,
         1,
         1,
         null
        ],
        [
         "Services",
         "Professor",
         null,
         null,
         null,
         2
        ],
        [
         "Services",
         "Programmer Analyst II",
         1,
         null,
         null,
         null
        ],
        [
         "Services",
         "Programmer I",
         1,
         null,
         2,
         null
        ],
        [
         "Services",
         "Programmer III",
         null,
         null,
         2,
         null
        ],
        [
         "Services",
         "Programmer IV",
         2,
         3,
         null,
         3
        ],
        [
         "Services",
         "Project Manager",
         1,
         null,
         null,
         null
        ],
        [
         "Services",
         "Quality Control Specialist",
         null,
         null,
         2,
         1
        ],
        [
         "Services",
         "Quality Engineer",
         null,
         1,
         1,
         1
        ],
        [
         "Services",
         "Recruiter",
         null,
         null,
         1,
         1
        ],
        [
         "Services",
         "Recruiting Manager",
         null,
         1,
         1,
         null
        ],
        [
         "Services",
         "Registered Nurse",
         null,
         1,
         null,
         null
        ],
        [
         "Services",
         "Research Assistant II",
         null,
         1,
         null,
         2
        ],
        [
         "Services",
         "Research Assistant III",
         null,
         null,
         1,
         null
        ],
        [
         "Services",
         "Research Assistant IV",
         null,
         2,
         1,
         1
        ],
        [
         "Services",
         "Safety Technician IV",
         null,
         null,
         null,
         1
        ],
        [
         "Services",
         "Sales Representative",
         null,
         1,
         null,
         1
        ],
        [
         "Services",
         "Senior Cost Accountant",
         1,
         2,
         null,
         null
        ],
        [
         "Services",
         "Senior Developer",
         null,
         null,
         null,
         1
        ],
        [
         "Services",
         "Senior Editor",
         null,
         1,
         null,
         null
        ],
        [
         "Services",
         "Senior Financial Analyst",
         1,
         1,
         null,
         null
        ],
        [
         "Services",
         "Software Engineer I",
         null,
         3,
         null,
         3
        ],
        [
         "Services",
         "Software Engineer III",
         1,
         null,
         null,
         null
        ],
        [
         "Services",
         "Software Test Engineer III",
         null,
         null,
         null,
         1
        ],
        [
         "Services",
         "Software Test Engineer IV",
         1,
         1,
         1,
         1
        ],
        [
         "Services",
         "Staff Accountant III",
         null,
         null,
         1,
         null
        ],
        [
         "Services",
         "Staff Accountant IV",
         1,
         null,
         null,
         null
        ],
        [
         "Services",
         "Staff Scientist",
         null,
         1,
         null,
         null
        ],
        [
         "Services",
         "Statistician I",
         1,
         null,
         null,
         null
        ],
        [
         "Services",
         "Statistician II",
         1,
         null,
         null,
         1
        ],
        [
         "Services",
         "Statistician III",
         null,
         null,
         1,
         null
        ],
        [
         "Services",
         "Structural Analysis Engineer",
         null,
         1,
         1,
         1
        ],
        [
         "Services",
         "Systems Administrator IV",
         1,
         null,
         1,
         null
        ],
        [
         "Services",
         "Teacher",
         3,
         2,
         null,
         1
        ],
        [
         "Services",
         "VP Accounting",
         null,
         2,
         null,
         null
        ],
        [
         "Services",
         "VP Product Management",
         null,
         null,
         2,
         1
        ],
        [
         "Services",
         "VP Quality Control",
         null,
         null,
         1,
         null
        ],
        [
         "Services",
         "Web Designer I",
         1,
         null,
         1,
         null
        ],
        [
         "Services",
         "Web Designer II",
         null,
         1,
         1,
         null
        ],
        [
         "Services",
         "Web Designer III",
         1,
         null,
         null,
         null
        ],
        [
         "Services",
         "Web Developer I",
         1,
         1,
         1,
         null
        ],
        [
         "Services",
         "Web Developer II",
         null,
         1,
         null,
         null
        ],
        [
         "Support",
         null,
         1,
         2,
         1,
         null
        ],
        [
         "Support",
         "Account Coordinator",
         null,
         null,
         null,
         1
        ],
        [
         "Support",
         "Account Executive",
         null,
         1,
         2,
         2
        ],
        [
         "Support",
         "Account Representative III",
         null,
         null,
         null,
         2
        ],
        [
         "Support",
         "Account Representative IV",
         null,
         1,
         null,
         1
        ],
        [
         "Support",
         "Accountant IV",
         null,
         2,
         null,
         null
        ],
        [
         "Support",
         "Accounting Assistant I",
         1,
         null,
         1,
         null
        ],
        [
         "Support",
         "Accounting Assistant II",
         1,
         1,
         null,
         null
        ],
        [
         "Support",
         "Accounting Assistant III",
         null,
         null,
         1,
         null
        ],
        [
         "Support",
         "Accounting Assistant IV",
         null,
         2,
         1,
         null
        ],
        [
         "Support",
         "Actuary",
         null,
         null,
         null,
         2
        ],
        [
         "Support",
         "Administrative Assistant III",
         null,
         1,
         null,
         null
        ],
        [
         "Support",
         "Analog Circuit Design manager",
         1,
         null,
         null,
         null
        ],
        [
         "Support",
         "Analyst Programmer",
         null,
         null,
         1,
         1
        ],
        [
         "Support",
         "Assistant Manager",
         2,
         null,
         1,
         null
        ],
        [
         "Support",
         "Assistant Media Planner",
         null,
         null,
         null,
         2
        ],
        [
         "Support",
         "Assistant Professor",
         null,
         2,
         null,
         null
        ],
        [
         "Support",
         "Associate Professor",
         null,
         2,
         3,
         null
        ],
        [
         "Support",
         "Automation Specialist I",
         1,
         null,
         2,
         null
        ],
        [
         "Support",
         "Automation Specialist IV",
         null,
         null,
         null,
         1
        ],
        [
         "Support",
         "Biostatistician II",
         null,
         null,
         1,
         null
        ],
        [
         "Support",
         "Biostatistician III",
         null,
         null,
         null,
         3
        ],
        [
         "Support",
         "Budget/Accounting Analyst I",
         1,
         null,
         null,
         null
        ],
        [
         "Support",
         "Budget/Accounting Analyst IV",
         1,
         null,
         null,
         null
        ],
        [
         "Support",
         "Chemical Engineer",
         1,
         null,
         null,
         null
        ],
        [
         "Support",
         "Chief Design Engineer",
         1,
         3,
         null,
         1
        ],
        [
         "Support",
         "Civil Engineer",
         null,
         2,
         1,
         null
        ],
        [
         "Support",
         "Clinical Specialist",
         1,
         1,
         2,
         2
        ],
        [
         "Support",
         "Computer Systems Analyst IV",
         null,
         1,
         null,
         null
        ],
        [
         "Support",
         "Cost Accountant",
         1,
         2,
         null,
         1
        ],
        [
         "Support",
         "Data Coordiator",
         null,
         null,
         1,
         null
        ],
        [
         "Support",
         "Database Administrator I",
         null,
         null,
         null,
         1
        ],
        [
         "Support",
         "Database Administrator II",
         1,
         null,
         null,
         null
        ],
        [
         "Support",
         "Database Administrator III",
         null,
         1,
         1,
         null
        ],
        [
         "Support",
         "Dental Hygienist",
         null,
         null,
         1,
         null
        ],
        [
         "Support",
         "Developer II",
         null,
         null,
         null,
         1
        ],
        [
         "Support",
         "Director of Sales",
         1,
         null,
         null,
         2
        ],
        [
         "Support",
         "Editor",
         null,
         null,
         1,
         1
        ],
        [
         "Support",
         "Electrical Engineer",
         null,
         null,
         null,
         1
        ],
        [
         "Support",
         "Engineer III",
         null,
         null,
         1,
         2
        ],
        [
         "Support",
         "Engineer IV",
         null,
         1,
         1,
         null
        ],
        [
         "Support",
         "Environmental Tech",
         1,
         null,
         null,
         null
        ],
        [
         "Support",
         "Executive Secretary",
         1,
         null,
         null,
         null
        ],
        [
         "Support",
         "Food Chemist",
         1,
         null,
         null,
         null
        ],
        [
         "Support",
         "GIS Technical Architect",
         null,
         1,
         null,
         null
        ],
        [
         "Support",
         "General Manager",
         null,
         2,
         null,
         null
        ],
        [
         "Support",
         "Geological Engineer",
         null,
         null,
         1,
         null
        ],
        [
         "Support",
         "Geologist II",
         null,
         null,
         null,
         2
        ],
        [
         "Support",
         "Geologist IV",
         1,
         null,
         null,
         1
        ],
        [
         "Support",
         "Graphic Designer",
         null,
         null,
         1,
         null
        ],
        [
         "Support",
         "Health Coach III",
         1,
         1,
         null,
         1
        ],
        [
         "Support",
         "Health Coach IV",
         null,
         null,
         1,
         1
        ],
        [
         "Support",
         "Human Resources Assistant II",
         null,
         null,
         1,
         null
        ],
        [
         "Support",
         "Human Resources Assistant III",
         null,
         1,
         null,
         null
        ],
        [
         "Support",
         "Human Resources Assistant IV",
         null,
         1,
         null,
         null
        ],
        [
         "Support",
         "Junior Executive",
         1,
         null,
         null,
         1
        ],
        [
         "Support",
         "Marketing Manager",
         null,
         1,
         null,
         null
        ],
        [
         "Support",
         "Media Manager IV",
         null,
         null,
         1,
         null
        ],
        [
         "Support",
         "Nurse",
         1,
         null,
         null,
         null
        ],
        [
         "Support",
         "Nurse Practicioner",
         null,
         1,
         null,
         null
        ],
        [
         "Support",
         "Occupational Therapist",
         null,
         null,
         1,
         null
        ],
        [
         "Support",
         "Paralegal",
         null,
         1,
         null,
         null
        ],
        [
         "Support",
         "Pharmacist",
         null,
         1,
         null,
         1
        ],
        [
         "Support",
         "Product Engineer",
         null,
         null,
         null,
         1
        ],
        [
         "Support",
         "Professor",
         null,
         null,
         2,
         null
        ],
        [
         "Support",
         "Programmer Analyst II",
         1,
         null,
         1,
         null
        ],
        [
         "Support",
         "Programmer I",
         1,
         null,
         null,
         null
        ],
        [
         "Support",
         "Programmer III",
         1,
         1,
         null,
         1
        ],
        [
         "Support",
         "Programmer IV",
         null,
         null,
         4,
         2
        ],
        [
         "Support",
         "Project Manager",
         null,
         null,
         1,
         null
        ],
        [
         "Support",
         "Quality Engineer",
         1,
         null,
         null,
         null
        ],
        [
         "Support",
         "Recruiter",
         2,
         3,
         2,
         1
        ],
        [
         "Support",
         "Recruiting Manager",
         null,
         null,
         1,
         1
        ],
        [
         "Support",
         "Registered Nurse",
         null,
         null,
         1,
         2
        ],
        [
         "Support",
         "Research Assistant III",
         null,
         null,
         1,
         null
        ],
        [
         "Support",
         "Research Assistant IV",
         null,
         null,
         null,
         2
        ],
        [
         "Support",
         "Sales Representative",
         null,
         1,
         1,
         null
        ],
        [
         "Support",
         "Senior Cost Accountant",
         null,
         null,
         1,
         null
        ],
        [
         "Support",
         "Senior Developer",
         null,
         null,
         1,
         1
        ],
        [
         "Support",
         "Senior Editor",
         null,
         null,
         null,
         3
        ],
        [
         "Support",
         "Senior Financial Analyst",
         1,
         2,
         1,
         1
        ],
        [
         "Support",
         "Social Worker",
         null,
         null,
         1,
         null
        ],
        [
         "Support",
         "Software Engineer III",
         null,
         null,
         null,
         2
        ],
        [
         "Support",
         "Software Test Engineer I",
         null,
         null,
         1,
         null
        ],
        [
         "Support",
         "Software Test Engineer IV",
         null,
         2,
         1,
         1
        ],
        [
         "Support",
         "Speech Pathologist",
         null,
         1,
         null,
         null
        ],
        [
         "Support",
         "Staff Accountant III",
         1,
         null,
         1,
         null
        ],
        [
         "Support",
         "Staff Accountant IV",
         null,
         null,
         null,
         1
        ],
        [
         "Support",
         "Staff Scientist",
         null,
         null,
         1,
         1
        ],
        [
         "Support",
         "Statistician I",
         null,
         2,
         null,
         null
        ],
        [
         "Support",
         "Statistician II",
         null,
         1,
         null,
         null
        ],
        [
         "Support",
         "Statistician III",
         null,
         1,
         null,
         null
        ],
        [
         "Support",
         "Structural Analysis Engineer",
         null,
         1,
         null,
         null
        ],
        [
         "Support",
         "Structural Engineer",
         null,
         1,
         null,
         null
        ],
        [
         "Support",
         "Systems Administrator II",
         null,
         null,
         1,
         1
        ],
        [
         "Support",
         "Systems Administrator IV",
         2,
         4,
         null,
         2
        ],
        [
         "Support",
         "Teacher",
         null,
         1,
         1,
         null
        ],
        [
         "Support",
         "Technical Writer",
         null,
         1,
         1,
         null
        ],
        [
         "Support",
         "VP Accounting",
         null,
         2,
         null,
         null
        ],
        [
         "Support",
         "VP Marketing",
         null,
         null,
         null,
         1
        ],
        [
         "Support",
         "VP Product Management",
         null,
         null,
         1,
         null
        ],
        [
         "Support",
         "VP Quality Control",
         null,
         null,
         null,
         1
        ],
        [
         "Support",
         "Web Designer I",
         1,
         4,
         null,
         1
        ],
        [
         "Support",
         "Web Designer II",
         null,
         2,
         1,
         null
        ],
        [
         "Support",
         "Web Designer IV",
         1,
         null,
         1,
         1
        ],
        [
         "Support",
         "Web Developer I",
         null,
         null,
         2,
         null
        ],
        [
         "Support",
         "Web Developer II",
         null,
         null,
         null,
         1
        ],
        [
         "Support",
         "Web Developer III",
         null,
         1,
         null,
         null
        ],
        [
         "Training",
         "Account Coordinator",
         null,
         1,
         null,
         null
        ],
        [
         "Training",
         "Account Representative IV",
         1,
         null,
         null,
         null
        ],
        [
         "Training",
         "Accountant II",
         null,
         null,
         null,
         1
        ],
        [
         "Training",
         "Accountant IV",
         null,
         1,
         null,
         1
        ],
        [
         "Training",
         "Accounting Assistant I",
         null,
         null,
         null,
         1
        ],
        [
         "Training",
         "Accounting Assistant IV",
         null,
         null,
         null,
         1
        ],
        [
         "Training",
         "Actuary",
         null,
         null,
         1,
         null
        ],
        [
         "Training",
         "Analog Circuit Design manager",
         null,
         1,
         null,
         null
        ],
        [
         "Training",
         "Analyst Programmer",
         null,
         null,
         2,
         null
        ],
        [
         "Training",
         "Budget/Accounting Analyst III",
         null,
         null,
         1,
         1
        ],
        [
         "Training",
         "Budget/Accounting Analyst IV",
         null,
         null,
         1,
         1
        ],
        [
         "Training",
         "Clinical Specialist",
         null,
         null,
         null,
         1
        ],
        [
         "Training",
         "Community Outreach Specialist",
         1,
         1,
         null,
         2
        ],
        [
         "Training",
         "Computer Systems Analyst III",
         null,
         null,
         1,
         null
        ],
        [
         "Training",
         "Data Coordiator",
         null,
         1,
         null,
         null
        ],
        [
         "Training",
         "Database Administrator II",
         1,
         1,
         null,
         null
        ],
        [
         "Training",
         "Database Administrator III",
         null,
         null,
         null,
         2
        ],
        [
         "Training",
         "Dental Hygienist",
         1,
         null,
         null,
         1
        ],
        [
         "Training",
         "Design Engineer",
         null,
         1,
         null,
         null
        ],
        [
         "Training",
         "Editor",
         null,
         1,
         1,
         null
        ],
        [
         "Training",
         "Engineer III",
         null,
         null,
         null,
         1
        ],
        [
         "Training",
         "Financial Analyst",
         null,
         null,
         null,
         1
        ],
        [
         "Training",
         "Food Chemist",
         1,
         1,
         2,
         1
        ],
        [
         "Training",
         "Geological Engineer",
         null,
         null,
         null,
         1
        ],
        [
         "Training",
         "Geologist I",
         1,
         null,
         null,
         null
        ],
        [
         "Training",
         "Geologist II",
         null,
         1,
         1,
         1
        ],
        [
         "Training",
         "Geologist IV",
         null,
         1,
         null,
         null
        ],
        [
         "Training",
         "Graphic Designer",
         null,
         1,
         1,
         1
        ],
        [
         "Training",
         "Health Coach III",
         null,
         null,
         1,
         null
        ],
        [
         "Training",
         "Health Coach IV",
         null,
         1,
         null,
         null
        ],
        [
         "Training",
         "Human Resources Assistant II",
         null,
         1,
         null,
         null
        ],
        [
         "Training",
         "Human Resources Assistant IV",
         null,
         null,
         null,
         1
        ],
        [
         "Training",
         "Information Systems Manager",
         null,
         null,
         2,
         null
        ],
        [
         "Training",
         "Internal Auditor",
         null,
         1,
         1,
         null
        ],
        [
         "Training",
         "Librarian",
         null,
         null,
         null,
         1
        ],
        [
         "Training",
         "Mechanical Systems Engineer",
         1,
         null,
         null,
         null
        ],
        [
         "Training",
         "Media Manager III",
         null,
         null,
         null,
         2
        ],
        [
         "Training",
         "Nuclear Power Engineer",
         null,
         null,
         1,
         null
        ],
        [
         "Training",
         "Office Assistant II",
         null,
         null,
         1,
         null
        ],
        [
         "Training",
         "Operator",
         null,
         null,
         1,
         null
        ],
        [
         "Training",
         "Paralegal",
         null,
         null,
         null,
         1
        ],
        [
         "Training",
         "Pharmacist",
         null,
         2,
         1,
         null
        ],
        [
         "Training",
         "Programmer I",
         null,
         null,
         1,
         null
        ],
        [
         "Training",
         "Programmer IV",
         null,
         1,
         1,
         1
        ],
        [
         "Training",
         "Quality Control Specialist",
         null,
         null,
         1,
         null
        ],
        [
         "Training",
         "Quality Engineer",
         2,
         null,
         1,
         null
        ],
        [
         "Training",
         "Recruiter",
         null,
         null,
         null,
         2
        ],
        [
         "Training",
         "Registered Nurse",
         1,
         null,
         null,
         null
        ],
        [
         "Training",
         "Research Assistant IV",
         1,
         null,
         1,
         2
        ],
        [
         "Training",
         "Research Associate",
         null,
         null,
         1,
         null
        ],
        [
         "Training",
         "Sales Representative",
         null,
         1,
         1,
         2
        ],
        [
         "Training",
         "Senior Editor",
         null,
         1,
         null,
         2
        ],
        [
         "Training",
         "Senior Financial Analyst",
         null,
         null,
         null,
         1
        ],
        [
         "Training",
         "Software Engineer I",
         null,
         null,
         null,
         1
        ],
        [
         "Training",
         "Software Engineer III",
         null,
         null,
         1,
         null
        ],
        [
         "Training",
         "Software Test Engineer IV",
         1,
         null,
         null,
         null
        ],
        [
         "Training",
         "Staff Accountant III",
         null,
         null,
         null,
         1
        ],
        [
         "Training",
         "Staff Accountant IV",
         null,
         null,
         1,
         2
        ],
        [
         "Training",
         "Staff Scientist",
         null,
         1,
         2,
         null
        ],
        [
         "Training",
         "Statistician II",
         1,
         null,
         null,
         null
        ],
        [
         "Training",
         "Statistician III",
         null,
         1,
         null,
         null
        ],
        [
         "Training",
         "Structural Analysis Engineer",
         1,
         null,
         null,
         null
        ],
        [
         "Training",
         "Structural Engineer",
         null,
         1,
         null,
         null
        ],
        [
         "Training",
         "Systems Administrator II",
         null,
         1,
         null,
         null
        ],
        [
         "Training",
         "Systems Administrator IV",
         1,
         null,
         2,
         null
        ],
        [
         "Training",
         "Teacher",
         null,
         2,
         null,
         null
        ],
        [
         "Training",
         "Technical Writer",
         null,
         null,
         1,
         null
        ],
        [
         "Training",
         "VP Product Management",
         1,
         null,
         null,
         null
        ],
        [
         "Training",
         "VP Quality Control",
         null,
         1,
         null,
         null
        ],
        [
         "Training",
         "Web Developer III",
         null,
         1,
         null,
         null
        ]
       ],
       "datasetInfos": [],
       "dbfsResultPath": null,
       "isJsonSchema": true,
       "metadata": {},
       "overflow": false,
       "plotOptions": {
        "customPlotOptions": {},
        "displayType": "table",
        "pivotAggregation": null,
        "pivotColumns": null,
        "xColumns": null,
        "yColumns": null
       },
       "removedWidgets": [],
       "schema": [
        {
         "metadata": "{}",
         "name": "department",
         "type": "\"string\""
        },
        {
         "metadata": "{}",
         "name": "job",
         "type": "\"string\""
        },
        {
         "metadata": "{}",
         "name": "1",
         "type": "\"long\""
        },
        {
         "metadata": "{}",
         "name": "2",
         "type": "\"long\""
        },
        {
         "metadata": "{}",
         "name": "3",
         "type": "\"long\""
        },
        {
         "metadata": "{}",
         "name": "4",
         "type": "\"long\""
        }
       ],
       "type": "table"
      }
     },
     "output_type": "display_data"
    }
   ],
   "source": [
    "display(Con1())"
   ]
  },
  {
   "cell_type": "code",
   "execution_count": 0,
   "metadata": {
    "application/vnd.databricks.v1+cell": {
     "cellMetadata": {
      "byteLimit": 2048000,
      "rowLimit": 10000
     },
     "inputWidgets": {},
     "nuid": "32142c68-f10a-45c8-abce-2b57e80f4454",
     "showTitle": false,
     "tableResultSettingsMap": {},
     "title": ""
    }
   },
   "outputs": [
    {
     "data": {
      "text/html": [
       "<style scoped>\n",
       "  .table-result-container {\n",
       "    max-height: 300px;\n",
       "    overflow: auto;\n",
       "  }\n",
       "  table, th, td {\n",
       "    border: 1px solid black;\n",
       "    border-collapse: collapse;\n",
       "  }\n",
       "  th, td {\n",
       "    padding: 5px;\n",
       "  }\n",
       "  th {\n",
       "    text-align: left;\n",
       "  }\n",
       "</style><div class='table-result-container'><table class='table-result'><thead style='background-color: white'><tr><th>id</th><th>department</th><th>hired</th></tr></thead><tbody><tr><td>8</td><td>Support</td><td>256</td></tr><tr><td>6</td><td>Human Resources</td><td>249</td></tr><tr><td>5</td><td>Engineering</td><td>245</td></tr><tr><td>7</td><td>Services</td><td>240</td></tr><tr><td>4</td><td>Business Development</td><td>222</td></tr><tr><td>3</td><td>Research and Development</td><td>178</td></tr><tr><td>9</td><td>Marketing</td><td>166</td></tr><tr><td>10</td><td>Training</td><td>141</td></tr></tbody></table></div>"
      ]
     },
     "metadata": {
      "application/vnd.databricks.v1+output": {
       "addedWidgets": {},
       "aggData": [],
       "aggError": "",
       "aggOverflow": false,
       "aggSchema": [],
       "aggSeriesLimitReached": false,
       "aggType": "",
       "arguments": {},
       "columnCustomDisplayInfos": {},
       "data": [
        [
         8,
         "Support",
         256
        ],
        [
         6,
         "Human Resources",
         249
        ],
        [
         5,
         "Engineering",
         245
        ],
        [
         7,
         "Services",
         240
        ],
        [
         4,
         "Business Development",
         222
        ],
        [
         3,
         "Research and Development",
         178
        ],
        [
         9,
         "Marketing",
         166
        ],
        [
         10,
         "Training",
         141
        ]
       ],
       "datasetInfos": [],
       "dbfsResultPath": null,
       "isJsonSchema": true,
       "metadata": {},
       "overflow": false,
       "plotOptions": {
        "customPlotOptions": {},
        "displayType": "table",
        "pivotAggregation": null,
        "pivotColumns": null,
        "xColumns": null,
        "yColumns": null
       },
       "removedWidgets": [],
       "schema": [
        {
         "metadata": "{}",
         "name": "id",
         "type": "\"integer\""
        },
        {
         "metadata": "{}",
         "name": "department",
         "type": "\"string\""
        },
        {
         "metadata": "{}",
         "name": "hired",
         "type": "\"long\""
        }
       ],
       "type": "table"
      }
     },
     "output_type": "display_data"
    }
   ],
   "source": [
    "display(Con2())"
   ]
  },
  {
   "cell_type": "code",
   "execution_count": 0,
   "metadata": {
    "application/vnd.databricks.v1+cell": {
     "cellMetadata": {
      "byteLimit": 2048000,
      "rowLimit": 10000
     },
     "inputWidgets": {},
     "nuid": "e81800fc-b181-4211-9fd9-c0bba3bc90f5",
     "showTitle": false,
     "tableResultSettingsMap": {},
     "title": ""
    }
   },
   "outputs": [],
   "source": [
    "import pytest\n",
    "# from app import app\n",
    "import json\n",
    "\n",
    "@pytest.fixture\n",
    "def client():\n",
    "    app.config['TESTING'] = True\n",
    "    client = app.test_client()\n",
    "    return client\n",
    "\n",
    "def test_api_upload(client):\n",
    "    response = client.post('/api/upload')\n",
    "    assert response.status_code == 200  # Asegurar que responde correctamente\n",
    "\n",
    "def test_hired_employees_2021(client):\n",
    "    response = client.get('/api/metrics/hired_employees_2021')\n",
    "    assert response.status_code == 200  # Verificar código de respuesta\n",
    "    data = json.loads(response.data)\n",
    "    assert isinstance(data, list)  # Verificar que el resultado es una lista\n",
    "\n",
    "def test_hired_employees_above_average(client):\n",
    "    response = client.get('/api/metrics/hired_employees_2021')\n",
    "    assert response.status_code == 200\n",
    "    data = json.loads(response.data)\n",
    "    assert isinstance(data, list)  # Verificar que la respuesta sea una lista\n",
    "\n",
    "def test_invalid_endpoint(client):\n",
    "    response = client.get('/api/invalid_endpoint')\n",
    "    assert response.status_code == 404  # Verificar que un endpoint inválido devuelve 404\n",
    "\n",
    "def test_api_upload_method_not_allowed(client):\n",
    "    response = client.get('/api/upload')\n",
    "    assert response.status_code == 405  # Verificar que GET no está permitido en /api/upload\n",
    "\n",
    "def test_hired_employees_2021_content(client):\n",
    "    response = client.get('/api/metrics/hired_employees_2021')\n",
    "    assert response.status_code == 200\n",
    "    data = json.loads(response.data)\n",
    "    if data:\n",
    "        assert 'department' in data[0]  # Verificar que la respuesta contiene la clave esperada\n",
    "        assert 'job' in data[0]\n",
    "\n",
    "def test_hired_employees_above_average_empty(client):\n",
    "    response = client.get('/api/metrics/hired_employees_2021')\n",
    "    assert response.status_code == 200\n",
    "    data = json.loads(response.data)\n",
    "    assert isinstance(data, list)\n",
    "    assert len(data) >= 0  # Verificar que la lista puede ser vacía pero no nula\n"
   ]
  }
 ],
 "metadata": {
  "application/vnd.databricks.v1+notebook": {
   "computePreferences": null,
   "dashboards": [],
   "environmentMetadata": {
    "base_environment": "",
    "environment_version": "2"
   },
   "language": "python",
   "notebookMetadata": {
    "mostRecentlyExecutedCommandWithImplicitDF": {
     "commandId": 5955025171685491,
     "dataframes": [
      "_sqldf"
     ]
    },
    "pythonIndentUnit": 4
   },
   "notebookName": "Cuaderno sin nombre 2025-03-01 18:19:38",
   "widgets": {}
  },
  "language_info": {
   "name": "python"
  }
 },
 "nbformat": 4,
 "nbformat_minor": 0
}
